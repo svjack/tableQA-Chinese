{
 "cells": [
  {
   "cell_type": "code",
   "execution_count": 1,
   "metadata": {},
   "outputs": [
    {
     "name": "stdout",
     "output_type": "stream",
     "text": [
      "Looking in indexes: https://mirrors.aliyun.com/pypi/simple\n",
      "Requirement already satisfied: dask[dataframe] in /environment/python/versions/miniconda3-4.7.12/lib/python3.7/site-packages (2.30.0)\n",
      "Requirement already satisfied: pyyaml in /environment/python/versions/miniconda3-4.7.12/lib/python3.7/site-packages (from dask[dataframe]) (5.3.1)\n",
      "Requirement already satisfied: pandas>=0.23.0 in /environment/python/versions/miniconda3-4.7.12/lib/python3.7/site-packages (from dask[dataframe]) (1.2.3)\n",
      "Requirement already satisfied: numpy>=1.13.0 in /environment/python/versions/miniconda3-4.7.12/lib/python3.7/site-packages (from dask[dataframe]) (1.20.1)\n",
      "Requirement already satisfied: toolz>=0.8.2 in /environment/python/versions/miniconda3-4.7.12/lib/python3.7/site-packages (from dask[dataframe]) (0.11.1)\n",
      "Requirement already satisfied: fsspec>=0.6.0 in /environment/python/versions/miniconda3-4.7.12/lib/python3.7/site-packages (from dask[dataframe]) (0.8.7)\n",
      "Requirement already satisfied: partd>=0.3.10 in /environment/python/versions/miniconda3-4.7.12/lib/python3.7/site-packages (from dask[dataframe]) (1.1.0)\n",
      "Requirement already satisfied: importlib-metadata in /environment/python/versions/miniconda3-4.7.12/lib/python3.7/site-packages (from fsspec>=0.6.0->dask[dataframe]) (2.0.0)\n",
      "Requirement already satisfied: pytz>=2017.3 in /environment/python/versions/miniconda3-4.7.12/lib/python3.7/site-packages (from pandas>=0.23.0->dask[dataframe]) (2020.1)\n",
      "Requirement already satisfied: python-dateutil>=2.7.3 in /environment/python/versions/miniconda3-4.7.12/lib/python3.7/site-packages (from pandas>=0.23.0->dask[dataframe]) (2.8.1)\n",
      "Requirement already satisfied: locket in /environment/python/versions/miniconda3-4.7.12/lib/python3.7/site-packages (from partd>=0.3.10->dask[dataframe]) (0.2.1)\n",
      "Requirement already satisfied: six>=1.5 in /environment/python/versions/miniconda3-4.7.12/lib/python3.7/site-packages (from python-dateutil>=2.7.3->pandas>=0.23.0->dask[dataframe]) (1.12.0)\n",
      "Requirement already satisfied: zipp>=0.5 in /environment/python/versions/miniconda3-4.7.12/lib/python3.7/site-packages (from importlib-metadata->fsspec>=0.6.0->dask[dataframe]) (3.3.1)\n",
      "Note: you may need to restart the kernel to use updated packages.\n"
     ]
    }
   ],
   "source": [
    "pip install \"dask[dataframe]\""
   ]
  },
  {
   "cell_type": "code",
   "execution_count": 2,
   "metadata": {},
   "outputs": [
    {
     "name": "stdout",
     "output_type": "stream",
     "text": [
      "Looking in indexes: https://mirrors.aliyun.com/pypi/simple\n",
      "Requirement already satisfied: dask[distributed] in /environment/python/versions/miniconda3-4.7.12/lib/python3.7/site-packages (2.30.0)\n",
      "Requirement already satisfied: pyyaml in /environment/python/versions/miniconda3-4.7.12/lib/python3.7/site-packages (from dask[distributed]) (5.3.1)\n",
      "Requirement already satisfied: distributed>=2.0 in /environment/python/versions/miniconda3-4.7.12/lib/python3.7/site-packages (from dask[distributed]) (2.30.1)\n",
      "Requirement already satisfied: sortedcontainers!=2.0.0,!=2.0.1 in /environment/python/versions/miniconda3-4.7.12/lib/python3.7/site-packages (from distributed>=2.0->dask[distributed]) (2.3.0)\n",
      "Requirement already satisfied: cloudpickle>=1.5.0 in /environment/python/versions/miniconda3-4.7.12/lib/python3.7/site-packages (from distributed>=2.0->dask[distributed]) (1.6.0)\n",
      "Requirement already satisfied: tblib>=1.6.0 in /environment/python/versions/miniconda3-4.7.12/lib/python3.7/site-packages (from distributed>=2.0->dask[distributed]) (1.7.0)\n",
      "Requirement already satisfied: toolz>=0.8.2 in /environment/python/versions/miniconda3-4.7.12/lib/python3.7/site-packages (from distributed>=2.0->dask[distributed]) (0.11.1)\n",
      "Requirement already satisfied: tornado>=5 in /environment/python/versions/miniconda3-4.7.12/lib/python3.7/site-packages (from distributed>=2.0->dask[distributed]) (6.0.4)\n",
      "Requirement already satisfied: zict>=0.1.3 in /environment/python/versions/miniconda3-4.7.12/lib/python3.7/site-packages (from distributed>=2.0->dask[distributed]) (2.0.0)\n",
      "Requirement already satisfied: psutil>=5.0 in /environment/python/versions/miniconda3-4.7.12/lib/python3.7/site-packages (from distributed>=2.0->dask[distributed]) (5.8.0)\n",
      "Requirement already satisfied: setuptools in /environment/python/versions/miniconda3-4.7.12/lib/python3.7/site-packages (from distributed>=2.0->dask[distributed]) (41.4.0)\n",
      "Requirement already satisfied: click>=6.6 in /environment/python/versions/miniconda3-4.7.12/lib/python3.7/site-packages (from distributed>=2.0->dask[distributed]) (7.1.2)\n",
      "Requirement already satisfied: msgpack>=0.6.0 in /environment/python/versions/miniconda3-4.7.12/lib/python3.7/site-packages (from distributed>=2.0->dask[distributed]) (1.0.2)\n",
      "Requirement already satisfied: heapdict in /environment/python/versions/miniconda3-4.7.12/lib/python3.7/site-packages (from zict>=0.1.3->distributed>=2.0->dask[distributed]) (1.0.1)\n",
      "Note: you may need to restart the kernel to use updated packages.\n"
     ]
    }
   ],
   "source": [
    "pip install \"dask[distributed]\""
   ]
  },
  {
   "cell_type": "code",
   "execution_count": 3,
   "metadata": {},
   "outputs": [],
   "source": [
    "import pandas as pd\n",
    "import numpy as np\n",
    "import os\n",
    "import ast\n",
    "import re\n",
    "import json\n",
    "from icecream import ic\n",
    "from copy import deepcopy\n",
    "from itertools import product, combinations, permutations\n",
    "from collections import defaultdict"
   ]
  },
  {
   "cell_type": "code",
   "execution_count": 458,
   "metadata": {},
   "outputs": [],
   "source": [
    "import pandas as pd\n",
    "import os\n",
    "import sys\n",
    "from pyarrow.filesystem import LocalFileSystem\n",
    "from functools import reduce\n",
    "import nltk\n",
    "from nltk import pos_tag, word_tokenize\n",
    "from collections import namedtuple\n",
    "from ast import literal_eval\n",
    "\n",
    "from torch.nn import functional\n",
    "import numpy as np\n",
    "import torch\n",
    "from torch import nn\n",
    "from torch.nn import init\n",
    "from torch.nn.utils import rnn as rnn_utils\n",
    "import math\n",
    "\n",
    "from icecream import ic\n",
    "import seaborn as sns\n",
    "\n",
    "import matplotlib.pyplot as plt\n",
    "\n",
    "import shutil\n",
    "import jieba\n",
    "\n",
    "from snorkel.labeling import labeling_function\n",
    "from glob import glob\n",
    "\n",
    "import pickle as pkl\n",
    "\n",
    "from snorkel.labeling.model import LabelModel\n",
    "from snorkel.labeling import PandasLFApplier\n",
    "from snorkel.labeling.apply.dask import PandasParallelLFApplier\n",
    "from sklearn.metrics import balanced_accuracy_score\n",
    "from functools import partial"
   ]
  },
  {
   "cell_type": "code",
   "execution_count": 5,
   "metadata": {},
   "outputs": [],
   "source": [
    "pd.set_option(\"display.max_rows\", 100)"
   ]
  },
  {
   "cell_type": "code",
   "execution_count": 6,
   "metadata": {},
   "outputs": [],
   "source": [
    "train_path = \"../TableQA/TableQA/train\"\n",
    "def data_loader(table_json_path = os.path.join(train_path ,\"train.tables.json\"),\n",
    "                json_path = os.path.join(train_path ,\"train.json\"),\n",
    "                req_table_num = 1):\n",
    "    assert os.path.exists(table_json_path)\n",
    "    assert os.path.exists(json_path)\n",
    "    json_df = pd.read_json(json_path, lines = True)\n",
    "    all_tables = pd.read_json(table_json_path, lines = True)\n",
    "    if req_table_num is not None:\n",
    "        assert type(req_table_num) == type(0) and req_table_num > 0 and req_table_num <= all_tables.shape[0]\n",
    "    else:\n",
    "        req_table_num = all_tables.shape[0]\n",
    "    for i in range(req_table_num):\n",
    "        #one_table = all_tables.iloc[i][\"table\"]\n",
    "        #one_table_df = pd.read_sql(\"select * from `{}`\".format(one_table), train_tables_dump_engine)\n",
    "        one_table_s = all_tables.iloc[i]\n",
    "        one_table_df = pd.DataFrame(one_table_s[\"rows\"], columns = one_table_s[\"header\"])\n",
    "        yield one_table_df, json_df[json_df[\"table_id\"] == one_table_s[\"id\"]]"
   ]
  },
  {
   "cell_type": "code",
   "execution_count": 7,
   "metadata": {},
   "outputs": [],
   "source": [
    "#### used in this condition extract in training.\n",
    "op_sql_dict = {0:\">\", 1:\"<\", 2:\"==\", 3:\"!=\"}\n",
    "#### used by clf for intension inference\n",
    "agg_sql_dict = {0:\"\", 1:\"AVG\", 2:\"MAX\", 3:\"MIN\", 4:\"COUNT\", 5:\"SUM\"}\n",
    "#### final to combine them (one for 0, and multi for 1 2)\n",
    "conn_sql_dict = {0:\"\", 1:\"and\", 2:\"or\"}"
   ]
  },
  {
   "cell_type": "code",
   "execution_count": 8,
   "metadata": {},
   "outputs": [],
   "source": [
    "first_train_df ,first_train_question_df = list(data_loader(req_table_num = 1))[0]"
   ]
  },
  {
   "cell_type": "code",
   "execution_count": 9,
   "metadata": {},
   "outputs": [],
   "source": [
    "question = first_train_question_df.iloc[0][\"question\"].strip()\n",
    "sql = first_train_question_df.iloc[0][\"sql\"]"
   ]
  },
  {
   "cell_type": "code",
   "execution_count": 10,
   "metadata": {},
   "outputs": [
    {
     "data": {
      "text/plain": [
       "{'agg': [0], 'cond_conn_op': 0, 'sel': [1], 'conds': [[2, 1, '1000']]}"
      ]
     },
     "execution_count": 10,
     "metadata": {},
     "output_type": "execute_result"
    }
   ],
   "source": [
    "sql"
   ]
  },
  {
   "cell_type": "code",
   "execution_count": 11,
   "metadata": {},
   "outputs": [
    {
     "data": {
      "text/plain": [
       "'成交楼面均价小于1000的规划建筑面积是多少'"
      ]
     },
     "execution_count": 11,
     "metadata": {},
     "output_type": "execute_result"
    }
   ],
   "source": [
    "question"
   ]
  },
  {
   "cell_type": "code",
   "execution_count": 12,
   "metadata": {},
   "outputs": [
    {
     "data": {
      "text/plain": [
       "['300城市土地出让', '规划建筑面积(万㎡)', '成交楼面均价(元/㎡)', '平均溢价率(%)', '土地出让金(亿元)', '同比']"
      ]
     },
     "execution_count": 12,
     "metadata": {},
     "output_type": "execute_result"
    }
   ],
   "source": [
    "first_train_df.columns.tolist()\n",
    "# cond_conn_op"
   ]
  },
  {
   "cell_type": "code",
   "execution_count": 13,
   "metadata": {},
   "outputs": [],
   "source": [
    "def extract_conds_and_question_column(s, header):\n",
    "    assert type(s) == type(pd.Series())\n",
    "    assert type(header) == type([])\n",
    "    sql = s.loc[\"sql\"]\n",
    "    def sql_dict_lookup_header(sql_dict):\n",
    "        assert type(sql_dict) == type(dict())\n",
    "        return dict(\n",
    "                    map(lambda t2: (t2[0] ,\n",
    "                        ((list(\n",
    "                            map(lambda idx: header[idx], t2[1])) \n",
    "                              if (t2[0] != \"agg\") \n",
    "                                  else t2[1]) \n",
    "                                     if isinstance(t2[1], list) \n",
    "                                         else( header[t2[1]]) \n",
    "                                             if t2[0] != \"cond_conn_op\" \n",
    "                                                 else t2[1])if t2[0] != \"conds\" \n",
    "                                                    else list(\n",
    "                                                        map(lambda inner_list: [header[inner_list[0]]] + inner_list[1:], t2[1]))), \n",
    "                                                            sql_dict.items()))\n",
    "    sql_header_trans_dict = sql_dict_lookup_header(sql)\n",
    "    agg = sql_header_trans_dict[\"agg\"]\n",
    "    cond_conn_op = sql_header_trans_dict[\"cond_conn_op\"]\n",
    "    question_column_list = sql_header_trans_dict[\"sel\"]\n",
    "    conds = sql_header_trans_dict[\"conds\"]\n",
    "    conds_text_extract = list(set(filter(lambda x: x != \"None\" ,map(str ,reduce(lambda a, b: a + b ,map(lambda t3: (t3[0], t3[2]), conds))))))\n",
    "    question = s.loc[\"question\"].strip()\n",
    "    return question ,sql_header_trans_dict, agg, cond_conn_op, question_column_list, conds_text_extract"
   ]
  },
  {
   "cell_type": "code",
   "execution_count": 14,
   "metadata": {},
   "outputs": [
    {
     "name": "stderr",
     "output_type": "stream",
     "text": [
      "/environment/python/versions/miniconda3-4.7.12/lib/python3.7/site-packages/ipykernel_launcher.py:2: DeprecationWarning: The default dtype for empty Series will be 'object' instead of 'float64' in a future version. Specify a dtype explicitly to silence this warning.\n",
      "  \n"
     ]
    }
   ],
   "source": [
    "conclusion = extract_conds_and_question_column(first_train_question_df.iloc[0], first_train_df.columns.tolist())\n",
    "question ,sql_header_trans_dict, agg, cond_conn_op, question_column_list, conds_text_extract = conclusion"
   ]
  },
  {
   "cell_type": "code",
   "execution_count": 15,
   "metadata": {},
   "outputs": [],
   "source": [
    "def findMaxSubString(str1, str2):\n",
    "    \"\"\"\n",
    "    \"\"\"\n",
    "    maxSub = 0\n",
    "    maxSubString = \"\"\n",
    " \n",
    "    str1_len = len(str1)\n",
    "    str2_len = len(str2)\n",
    " \n",
    "    for i in range(str1_len): \n",
    "        str1_pos = i\n",
    "        for j in range(str2_len):\n",
    "            str2_pos = j\n",
    "            str1_pos = i\n",
    "            if str1[str1_pos] != str2[str2_pos]:\n",
    "                continue\n",
    "            else:\n",
    "                while (str1_pos < str1_len) and (str2_pos < str2_len):\n",
    "                    if str1[str1_pos] == str2[str2_pos]:\n",
    "                        str1_pos = str1_pos + 1\n",
    "                        str2_pos = str2_pos + 1\n",
    "                    else:\n",
    "                        break\n",
    " \n",
    "                sub_len = str2_pos - j \n",
    "                if maxSub < sub_len:\n",
    "                    maxSub = sub_len\n",
    "                    maxSubString = str2[j:str2_pos]\n",
    "    return maxSubString"
   ]
  },
  {
   "cell_type": "code",
   "execution_count": 16,
   "metadata": {},
   "outputs": [],
   "source": [
    "def feature_construction(question, question_column_list, conds_text_extract):\n",
    "    assert type(question) == type(\"\")\n",
    "    assert isinstance(question_column_list, list) and isinstance(conds_text_extract, list)\n",
    "    def replace_by_list(text, input_list):\n",
    "        req = text.strip()\n",
    "        for rm_ele in input_list:\n",
    "            req = req.replace(rm_ele, \"\")\n",
    "        return req    \n",
    "    rep_qes_string = replace_by_list(question, list(map(lambda x: findMaxSubString(question, x), question_column_list)))\n",
    "    rep_conds_string = replace_by_list(question, list(map(lambda x: findMaxSubString(question, x), conds_text_extract)))\n",
    "    rep_all_string = findMaxSubString(rep_qes_string, rep_conds_string)\n",
    "    ##### four feature construct\n",
    "    return rep_all_string, rep_qes_string, rep_conds_string, question"
   ]
  },
  {
   "cell_type": "code",
   "execution_count": 17,
   "metadata": {},
   "outputs": [
    {
     "data": {
      "text/plain": [
       "('是多少', '成交楼面均价小于1000的是多少', '小于的规划建筑面积是多少', '成交楼面均价小于1000的规划建筑面积是多少')"
      ]
     },
     "execution_count": 17,
     "metadata": {},
     "output_type": "execute_result"
    }
   ],
   "source": [
    "feature_construction(question, question_column_list, conds_text_extract)"
   ]
  },
  {
   "cell_type": "code",
   "execution_count": 18,
   "metadata": {},
   "outputs": [],
   "source": [
    "def agg_classifier_data_loader(table_json_path = os.path.join(train_path ,\"train.tables.json\"),\n",
    "                json_path = os.path.join(train_path ,\"train.json\"),\n",
    "                req_table_num = 1):\n",
    "    for train_df ,train_question_df in data_loader(table_json_path , json_path, req_table_num):\n",
    "        header = train_df.columns.tolist()\n",
    "        for conclusion in train_question_df.apply(lambda s: extract_conds_and_question_column(s, header), axis = 1).tolist():\n",
    "            question ,sql_header_trans_dict, agg, cond_conn_op, question_column_list, conds_text_extract = conclusion\n",
    "            t4_feature = feature_construction(question, question_column_list, conds_text_extract)\n",
    "            yield {\n",
    "                \"feature\": t4_feature,\n",
    "                \"agg\": agg,\n",
    "                \"cond_conn_op\": cond_conn_op\n",
    "            }"
   ]
  },
  {
   "cell_type": "code",
   "execution_count": 19,
   "metadata": {},
   "outputs": [
    {
     "name": "stderr",
     "output_type": "stream",
     "text": [
      "/environment/python/versions/miniconda3-4.7.12/lib/python3.7/site-packages/ipykernel_launcher.py:2: DeprecationWarning: The default dtype for empty Series will be 'object' instead of 'float64' in a future version. Specify a dtype explicitly to silence this warning.\n",
      "  \n"
     ]
    }
   ],
   "source": [
    "train_agg_df = pd.DataFrame(list(agg_classifier_data_loader(req_table_num=None)))"
   ]
  },
  {
   "cell_type": "code",
   "execution_count": 20,
   "metadata": {},
   "outputs": [],
   "source": [
    "def standlize_agg_column(agg_df):\n",
    "    req = agg_df.copy()\n",
    "    req[\"agg\"] = req[\"agg\"].map(lambda agg_list: agg_list[0] if (len(agg_list) == 1 or len(set(agg_list)) == 1) else np.nan)\n",
    "    return req.dropna()"
   ]
  },
  {
   "cell_type": "code",
   "execution_count": 21,
   "metadata": {},
   "outputs": [],
   "source": [
    "train_agg_std_df = standlize_agg_column(train_agg_df)"
   ]
  },
  {
   "cell_type": "code",
   "execution_count": 22,
   "metadata": {},
   "outputs": [
    {
     "data": {
      "text/plain": [
       "((41522, 3), (41519, 3))"
      ]
     },
     "execution_count": 22,
     "metadata": {},
     "output_type": "execute_result"
    }
   ],
   "source": [
    "train_agg_df.shape ,train_agg_std_df.shape"
   ]
  },
  {
   "cell_type": "code",
   "execution_count": 345,
   "metadata": {},
   "outputs": [],
   "source": [
    "#"
   ]
  },
  {
   "cell_type": "code",
   "execution_count": 23,
   "metadata": {},
   "outputs": [
    {
     "data": {
      "text/plain": [
       "0.0    36500\n",
       "4.0     2899\n",
       "5.0      995\n",
       "1.0      504\n",
       "2.0      373\n",
       "3.0      248\n",
       "Name: agg, dtype: int64"
      ]
     },
     "execution_count": 23,
     "metadata": {},
     "output_type": "execute_result"
    }
   ],
   "source": [
    "#### not balance and other info small try kws rule method first\n",
    "train_agg_std_df[\"agg\"].value_counts()"
   ]
  },
  {
   "cell_type": "code",
   "execution_count": 24,
   "metadata": {},
   "outputs": [
    {
     "data": {
      "text/plain": [
       "{'': 36500, 'COUNT': 2899, 'SUM': 995, 'AVG': 504, 'MAX': 373, 'MIN': 248}"
      ]
     },
     "execution_count": 24,
     "metadata": {},
     "output_type": "execute_result"
    }
   ],
   "source": [
    "#agg_sql_dict\n",
    "dict(map(lambda t2: (agg_sql_dict[int(t2[0])], t2[1]) ,train_agg_std_df[\"agg\"].value_counts().to_dict().items()))"
   ]
  },
  {
   "cell_type": "code",
   "execution_count": 25,
   "metadata": {},
   "outputs": [
    {
     "name": "stderr",
     "output_type": "stream",
     "text": [
      "Building prefix dict from the default dictionary ...\n",
      "Loading model from cache /tmp/jieba.cache\n",
      "Loading model cost 0.456 seconds.\n",
      "Prefix dict has been built successfully.\n"
     ]
    }
   ],
   "source": [
    "train_agg_std_df[\"feature_cut\"] = train_agg_std_df.apply(lambda s: tuple(map(lambda str_: tuple(jieba.cut(str_)), s.loc[\"feature\"])), axis = 1)"
   ]
  },
  {
   "cell_type": "code",
   "execution_count": 26,
   "metadata": {},
   "outputs": [],
   "source": [
    "##### use res part (rep_all_string) to collect kws\n",
    "train_agg_std_res_cut_df = pd.DataFrame(train_agg_std_df[[\"agg\" ,\"feature_cut\"]].apply(lambda s: (s.loc[\"agg\"], s.loc[\"feature_cut\"][0]), axis = 1).values.tolist())\n",
    "train_agg_std_res_cut_df.columns = [\"agg\", \"res_cut\"]"
   ]
  },
  {
   "cell_type": "code",
   "execution_count": 27,
   "metadata": {},
   "outputs": [],
   "source": [
    "#res_cut_s = pd.Series(reduce(lambda a, b : a + b,train_agg_std_res_cut_df[\"res_cut\"].tolist()))"
   ]
  },
  {
   "cell_type": "code",
   "execution_count": 28,
   "metadata": {},
   "outputs": [],
   "source": [
    "def agg_label_res_cut_cnt(df, agg_label = 0):\n",
    "    needed = df[df[\"agg\"] == agg_label]\n",
    "    return pd.Series(reduce(lambda a, b : a + b,needed[\"res_cut\"].tolist())).value_counts()"
   ]
  },
  {
   "cell_type": "code",
   "execution_count": 29,
   "metadata": {},
   "outputs": [],
   "source": [
    "agg_label_cut_stats = dict(map(lambda agg_label: (agg_label, agg_label_res_cut_cnt(train_agg_std_res_cut_df, agg_label)) ,train_agg_std_df[\"agg\"].unique().tolist()))"
   ]
  },
  {
   "cell_type": "code",
   "execution_count": 30,
   "metadata": {},
   "outputs": [],
   "source": [
    "def transform_stats_to_df(stats_dict, standlize = True):\n",
    "    assert type(stats_dict) == type(dict())\n",
    "    header = list(stats_dict.keys())\n",
    "    def add_cols(df, columns):\n",
    "        df.columns = columns\n",
    "        return df\n",
    "    req = reduce(lambda a, b: pd.merge(a, b, on = \"word\", how = \"outer\") ,map(lambda c: add_cols(stats_dict[c].reset_index(), [\"word\", c]), header)).fillna(0.0)\n",
    "    req = req[[\"word\"]+sorted(header)]\n",
    "    req.index = req[\"word\"]\n",
    "    del req[\"word\"]\n",
    "    if standlize:\n",
    "        req = req / req.sum(axis = 0)\n",
    "    return req"
   ]
  },
  {
   "cell_type": "code",
   "execution_count": 31,
   "metadata": {},
   "outputs": [],
   "source": [
    "agg_label_cut_stats_df = transform_stats_to_df(agg_label_cut_stats)"
   ]
  },
  {
   "cell_type": "code",
   "execution_count": 32,
   "metadata": {},
   "outputs": [],
   "source": [
    "agg_label_cut_stats_df[\"agg_dist_std\"] = agg_label_cut_stats_df.apply(lambda s: s.std(), axis = 1)"
   ]
  },
  {
   "cell_type": "code",
   "execution_count": 33,
   "metadata": {},
   "outputs": [],
   "source": [
    "agg_label_cut_stats_df[\"max_evidence_agg_label\"] = agg_label_cut_stats_df[[0.0, 1.0, 2.0, 3.0, 4.0, 5.0]].apply(lambda s: s.argmax(), axis = 1)"
   ]
  },
  {
   "cell_type": "code",
   "execution_count": 34,
   "metadata": {},
   "outputs": [],
   "source": [
    "agg_label_cut_stats_df[\"max_first_second_agg_evidence\"] = agg_label_cut_stats_df[[0.0, 1.0, 2.0, 3.0, 4.0, 5.0]].apply(lambda s: max(s) - s.sort_values(ascending = False).iloc[1], axis = 1)"
   ]
  },
  {
   "cell_type": "code",
   "execution_count": 35,
   "metadata": {},
   "outputs": [],
   "source": [
    "agg_label_cut_stats_df[\"max_first_all_ratio_agg_evidence\"] = agg_label_cut_stats_df[[0.0, 1.0, 2.0, 3.0, 4.0, 5.0]].apply(lambda s: max(s) / sum(s), axis = 1)"
   ]
  },
  {
   "cell_type": "code",
   "execution_count": 36,
   "metadata": {},
   "outputs": [
    {
     "data": {
      "text/html": [
       "<div>\n",
       "<style scoped>\n",
       "    .dataframe tbody tr th:only-of-type {\n",
       "        vertical-align: middle;\n",
       "    }\n",
       "\n",
       "    .dataframe tbody tr th {\n",
       "        vertical-align: top;\n",
       "    }\n",
       "\n",
       "    .dataframe thead th {\n",
       "        text-align: right;\n",
       "    }\n",
       "</style>\n",
       "<table border=\"1\" class=\"dataframe\">\n",
       "  <thead>\n",
       "    <tr style=\"text-align: right;\">\n",
       "      <th></th>\n",
       "      <th>0.0</th>\n",
       "      <th>1.0</th>\n",
       "      <th>2.0</th>\n",
       "      <th>3.0</th>\n",
       "      <th>4.0</th>\n",
       "      <th>5.0</th>\n",
       "      <th>agg_dist_std</th>\n",
       "      <th>max_evidence_agg_label</th>\n",
       "      <th>max_first_second_agg_evidence</th>\n",
       "      <th>max_first_all_ratio_agg_evidence</th>\n",
       "    </tr>\n",
       "    <tr>\n",
       "      <th>word</th>\n",
       "      <th></th>\n",
       "      <th></th>\n",
       "      <th></th>\n",
       "      <th></th>\n",
       "      <th></th>\n",
       "      <th></th>\n",
       "      <th></th>\n",
       "      <th></th>\n",
       "      <th></th>\n",
       "      <th></th>\n",
       "    </tr>\n",
       "  </thead>\n",
       "  <tbody>\n",
       "    <tr>\n",
       "      <th>有</th>\n",
       "      <td>0.026991</td>\n",
       "      <td>0.004430</td>\n",
       "      <td>0.007519</td>\n",
       "      <td>0.003157</td>\n",
       "      <td>0.100836</td>\n",
       "      <td>0.030167</td>\n",
       "      <td>0.037145</td>\n",
       "      <td>4</td>\n",
       "      <td>0.070670</td>\n",
       "      <td>0.582532</td>\n",
       "    </tr>\n",
       "    <tr>\n",
       "      <th>平均</th>\n",
       "      <td>0.001179</td>\n",
       "      <td>0.055696</td>\n",
       "      <td>0.004423</td>\n",
       "      <td>0.011995</td>\n",
       "      <td>0.000896</td>\n",
       "      <td>0.000000</td>\n",
       "      <td>0.021681</td>\n",
       "      <td>1</td>\n",
       "      <td>0.043701</td>\n",
       "      <td>0.750736</td>\n",
       "    </tr>\n",
       "    <tr>\n",
       "      <th>多少</th>\n",
       "      <td>0.021808</td>\n",
       "      <td>0.072785</td>\n",
       "      <td>0.066785</td>\n",
       "      <td>0.064394</td>\n",
       "      <td>0.071804</td>\n",
       "      <td>0.082833</td>\n",
       "      <td>0.021348</td>\n",
       "      <td>5</td>\n",
       "      <td>0.010049</td>\n",
       "      <td>0.217748</td>\n",
       "    </tr>\n",
       "    <tr>\n",
       "      <th>最大</th>\n",
       "      <td>0.000000</td>\n",
       "      <td>0.000000</td>\n",
       "      <td>0.045997</td>\n",
       "      <td>0.000000</td>\n",
       "      <td>0.000000</td>\n",
       "      <td>0.000000</td>\n",
       "      <td>0.018778</td>\n",
       "      <td>2</td>\n",
       "      <td>0.045997</td>\n",
       "      <td>1.000000</td>\n",
       "    </tr>\n",
       "    <tr>\n",
       "      <th>一共</th>\n",
       "      <td>0.000589</td>\n",
       "      <td>0.000000</td>\n",
       "      <td>0.000000</td>\n",
       "      <td>0.000000</td>\n",
       "      <td>0.025329</td>\n",
       "      <td>0.039333</td>\n",
       "      <td>0.017201</td>\n",
       "      <td>5</td>\n",
       "      <td>0.014005</td>\n",
       "      <td>0.602798</td>\n",
       "    </tr>\n",
       "    <tr>\n",
       "      <th>最小</th>\n",
       "      <td>0.000000</td>\n",
       "      <td>0.000000</td>\n",
       "      <td>0.000000</td>\n",
       "      <td>0.040404</td>\n",
       "      <td>0.000000</td>\n",
       "      <td>0.000000</td>\n",
       "      <td>0.016495</td>\n",
       "      <td>3</td>\n",
       "      <td>0.040404</td>\n",
       "      <td>1.000000</td>\n",
       "    </tr>\n",
       "    <tr>\n",
       "      <th>是</th>\n",
       "      <td>0.053250</td>\n",
       "      <td>0.055696</td>\n",
       "      <td>0.044228</td>\n",
       "      <td>0.039141</td>\n",
       "      <td>0.011947</td>\n",
       "      <td>0.034333</td>\n",
       "      <td>0.015870</td>\n",
       "      <td>1</td>\n",
       "      <td>0.002446</td>\n",
       "      <td>0.233433</td>\n",
       "    </tr>\n",
       "    <tr>\n",
       "      <th>的</th>\n",
       "      <td>0.066145</td>\n",
       "      <td>0.077215</td>\n",
       "      <td>0.075188</td>\n",
       "      <td>0.087753</td>\n",
       "      <td>0.048566</td>\n",
       "      <td>0.057500</td>\n",
       "      <td>0.014247</td>\n",
       "      <td>3</td>\n",
       "      <td>0.010537</td>\n",
       "      <td>0.212802</td>\n",
       "    </tr>\n",
       "    <tr>\n",
       "      <th>个</th>\n",
       "      <td>0.001184</td>\n",
       "      <td>0.001266</td>\n",
       "      <td>0.001327</td>\n",
       "      <td>0.000000</td>\n",
       "      <td>0.034170</td>\n",
       "      <td>0.002167</td>\n",
       "      <td>0.013482</td>\n",
       "      <td>4</td>\n",
       "      <td>0.032003</td>\n",
       "      <td>0.851829</td>\n",
       "    </tr>\n",
       "    <tr>\n",
       "      <th>哪些</th>\n",
       "      <td>0.026810</td>\n",
       "      <td>0.000316</td>\n",
       "      <td>0.000000</td>\n",
       "      <td>0.000000</td>\n",
       "      <td>0.001553</td>\n",
       "      <td>0.000000</td>\n",
       "      <td>0.010809</td>\n",
       "      <td>0</td>\n",
       "      <td>0.025256</td>\n",
       "      <td>0.934809</td>\n",
       "    </tr>\n",
       "  </tbody>\n",
       "</table>\n",
       "</div>"
      ],
      "text/plain": [
       "           0.0       1.0       2.0       3.0       4.0       5.0  \\\n",
       "word                                                               \n",
       "有     0.026991  0.004430  0.007519  0.003157  0.100836  0.030167   \n",
       "平均    0.001179  0.055696  0.004423  0.011995  0.000896  0.000000   \n",
       "多少    0.021808  0.072785  0.066785  0.064394  0.071804  0.082833   \n",
       "最大    0.000000  0.000000  0.045997  0.000000  0.000000  0.000000   \n",
       "一共    0.000589  0.000000  0.000000  0.000000  0.025329  0.039333   \n",
       "最小    0.000000  0.000000  0.000000  0.040404  0.000000  0.000000   \n",
       "是     0.053250  0.055696  0.044228  0.039141  0.011947  0.034333   \n",
       "的     0.066145  0.077215  0.075188  0.087753  0.048566  0.057500   \n",
       "个     0.001184  0.001266  0.001327  0.000000  0.034170  0.002167   \n",
       "哪些    0.026810  0.000316  0.000000  0.000000  0.001553  0.000000   \n",
       "\n",
       "      agg_dist_std  max_evidence_agg_label  max_first_second_agg_evidence  \\\n",
       "word                                                                        \n",
       "有         0.037145                       4                       0.070670   \n",
       "平均        0.021681                       1                       0.043701   \n",
       "多少        0.021348                       5                       0.010049   \n",
       "最大        0.018778                       2                       0.045997   \n",
       "一共        0.017201                       5                       0.014005   \n",
       "最小        0.016495                       3                       0.040404   \n",
       "是         0.015870                       1                       0.002446   \n",
       "的         0.014247                       3                       0.010537   \n",
       "个         0.013482                       4                       0.032003   \n",
       "哪些        0.010809                       0                       0.025256   \n",
       "\n",
       "      max_first_all_ratio_agg_evidence  \n",
       "word                                    \n",
       "有                             0.582532  \n",
       "平均                            0.750736  \n",
       "多少                            0.217748  \n",
       "最大                            1.000000  \n",
       "一共                            0.602798  \n",
       "最小                            1.000000  \n",
       "是                             0.233433  \n",
       "的                             0.212802  \n",
       "个                             0.851829  \n",
       "哪些                            0.934809  "
      ]
     },
     "execution_count": 36,
     "metadata": {},
     "output_type": "execute_result"
    }
   ],
   "source": [
    "agg_label_cut_stats_df.sort_values(by = \"agg_dist_std\", ascending=False).head(10)"
   ]
  },
  {
   "cell_type": "code",
   "execution_count": 37,
   "metadata": {},
   "outputs": [
    {
     "data": {
      "text/html": [
       "<div>\n",
       "<style scoped>\n",
       "    .dataframe tbody tr th:only-of-type {\n",
       "        vertical-align: middle;\n",
       "    }\n",
       "\n",
       "    .dataframe tbody tr th {\n",
       "        vertical-align: top;\n",
       "    }\n",
       "\n",
       "    .dataframe thead th {\n",
       "        text-align: right;\n",
       "    }\n",
       "</style>\n",
       "<table border=\"1\" class=\"dataframe\">\n",
       "  <thead>\n",
       "    <tr style=\"text-align: right;\">\n",
       "      <th></th>\n",
       "      <th>0.0</th>\n",
       "      <th>1.0</th>\n",
       "      <th>2.0</th>\n",
       "      <th>3.0</th>\n",
       "      <th>4.0</th>\n",
       "      <th>5.0</th>\n",
       "      <th>agg_dist_std</th>\n",
       "      <th>max_evidence_agg_label</th>\n",
       "      <th>max_first_second_agg_evidence</th>\n",
       "      <th>max_first_all_ratio_agg_evidence</th>\n",
       "    </tr>\n",
       "    <tr>\n",
       "      <th>word</th>\n",
       "      <th></th>\n",
       "      <th></th>\n",
       "      <th></th>\n",
       "      <th></th>\n",
       "      <th></th>\n",
       "      <th></th>\n",
       "      <th></th>\n",
       "      <th></th>\n",
       "      <th></th>\n",
       "      <th></th>\n",
       "    </tr>\n",
       "  </thead>\n",
       "  <tbody>\n",
       "    <tr>\n",
       "      <th>有</th>\n",
       "      <td>0.026991</td>\n",
       "      <td>0.004430</td>\n",
       "      <td>0.007519</td>\n",
       "      <td>0.003157</td>\n",
       "      <td>0.100836</td>\n",
       "      <td>0.030167</td>\n",
       "      <td>0.037145</td>\n",
       "      <td>4</td>\n",
       "      <td>0.070670</td>\n",
       "      <td>0.582532</td>\n",
       "    </tr>\n",
       "    <tr>\n",
       "      <th>最大</th>\n",
       "      <td>0.000000</td>\n",
       "      <td>0.000000</td>\n",
       "      <td>0.045997</td>\n",
       "      <td>0.000000</td>\n",
       "      <td>0.000000</td>\n",
       "      <td>0.000000</td>\n",
       "      <td>0.018778</td>\n",
       "      <td>2</td>\n",
       "      <td>0.045997</td>\n",
       "      <td>1.000000</td>\n",
       "    </tr>\n",
       "    <tr>\n",
       "      <th>平均</th>\n",
       "      <td>0.001179</td>\n",
       "      <td>0.055696</td>\n",
       "      <td>0.004423</td>\n",
       "      <td>0.011995</td>\n",
       "      <td>0.000896</td>\n",
       "      <td>0.000000</td>\n",
       "      <td>0.021681</td>\n",
       "      <td>1</td>\n",
       "      <td>0.043701</td>\n",
       "      <td>0.750736</td>\n",
       "    </tr>\n",
       "    <tr>\n",
       "      <th>最小</th>\n",
       "      <td>0.000000</td>\n",
       "      <td>0.000000</td>\n",
       "      <td>0.000000</td>\n",
       "      <td>0.040404</td>\n",
       "      <td>0.000000</td>\n",
       "      <td>0.000000</td>\n",
       "      <td>0.016495</td>\n",
       "      <td>3</td>\n",
       "      <td>0.040404</td>\n",
       "      <td>1.000000</td>\n",
       "    </tr>\n",
       "    <tr>\n",
       "      <th>个</th>\n",
       "      <td>0.001184</td>\n",
       "      <td>0.001266</td>\n",
       "      <td>0.001327</td>\n",
       "      <td>0.000000</td>\n",
       "      <td>0.034170</td>\n",
       "      <td>0.002167</td>\n",
       "      <td>0.013482</td>\n",
       "      <td>4</td>\n",
       "      <td>0.032003</td>\n",
       "      <td>0.851829</td>\n",
       "    </tr>\n",
       "    <tr>\n",
       "      <th>什么</th>\n",
       "      <td>0.026606</td>\n",
       "      <td>0.000316</td>\n",
       "      <td>0.000442</td>\n",
       "      <td>0.000000</td>\n",
       "      <td>0.000239</td>\n",
       "      <td>0.000167</td>\n",
       "      <td>0.010768</td>\n",
       "      <td>0</td>\n",
       "      <td>0.026163</td>\n",
       "      <td>0.958072</td>\n",
       "    </tr>\n",
       "    <tr>\n",
       "      <th>哪些</th>\n",
       "      <td>0.026810</td>\n",
       "      <td>0.000316</td>\n",
       "      <td>0.000000</td>\n",
       "      <td>0.000000</td>\n",
       "      <td>0.001553</td>\n",
       "      <td>0.000000</td>\n",
       "      <td>0.010809</td>\n",
       "      <td>0</td>\n",
       "      <td>0.025256</td>\n",
       "      <td>0.934809</td>\n",
       "    </tr>\n",
       "    <tr>\n",
       "      <th>最低</th>\n",
       "      <td>0.000099</td>\n",
       "      <td>0.000000</td>\n",
       "      <td>0.000000</td>\n",
       "      <td>0.022096</td>\n",
       "      <td>0.000000</td>\n",
       "      <td>0.000000</td>\n",
       "      <td>0.009013</td>\n",
       "      <td>3</td>\n",
       "      <td>0.021997</td>\n",
       "      <td>0.995533</td>\n",
       "    </tr>\n",
       "    <tr>\n",
       "      <th>起来</th>\n",
       "      <td>0.000022</td>\n",
       "      <td>0.000316</td>\n",
       "      <td>0.000000</td>\n",
       "      <td>0.000000</td>\n",
       "      <td>0.000119</td>\n",
       "      <td>0.021667</td>\n",
       "      <td>0.008809</td>\n",
       "      <td>5</td>\n",
       "      <td>0.021350</td>\n",
       "      <td>0.979301</td>\n",
       "    </tr>\n",
       "    <tr>\n",
       "      <th>最高</th>\n",
       "      <td>0.000050</td>\n",
       "      <td>0.000316</td>\n",
       "      <td>0.020787</td>\n",
       "      <td>0.000000</td>\n",
       "      <td>0.000179</td>\n",
       "      <td>0.000000</td>\n",
       "      <td>0.008443</td>\n",
       "      <td>2</td>\n",
       "      <td>0.020471</td>\n",
       "      <td>0.974441</td>\n",
       "    </tr>\n",
       "  </tbody>\n",
       "</table>\n",
       "</div>"
      ],
      "text/plain": [
       "           0.0       1.0       2.0       3.0       4.0       5.0  \\\n",
       "word                                                               \n",
       "有     0.026991  0.004430  0.007519  0.003157  0.100836  0.030167   \n",
       "最大    0.000000  0.000000  0.045997  0.000000  0.000000  0.000000   \n",
       "平均    0.001179  0.055696  0.004423  0.011995  0.000896  0.000000   \n",
       "最小    0.000000  0.000000  0.000000  0.040404  0.000000  0.000000   \n",
       "个     0.001184  0.001266  0.001327  0.000000  0.034170  0.002167   \n",
       "什么    0.026606  0.000316  0.000442  0.000000  0.000239  0.000167   \n",
       "哪些    0.026810  0.000316  0.000000  0.000000  0.001553  0.000000   \n",
       "最低    0.000099  0.000000  0.000000  0.022096  0.000000  0.000000   \n",
       "起来    0.000022  0.000316  0.000000  0.000000  0.000119  0.021667   \n",
       "最高    0.000050  0.000316  0.020787  0.000000  0.000179  0.000000   \n",
       "\n",
       "      agg_dist_std  max_evidence_agg_label  max_first_second_agg_evidence  \\\n",
       "word                                                                        \n",
       "有         0.037145                       4                       0.070670   \n",
       "最大        0.018778                       2                       0.045997   \n",
       "平均        0.021681                       1                       0.043701   \n",
       "最小        0.016495                       3                       0.040404   \n",
       "个         0.013482                       4                       0.032003   \n",
       "什么        0.010768                       0                       0.026163   \n",
       "哪些        0.010809                       0                       0.025256   \n",
       "最低        0.009013                       3                       0.021997   \n",
       "起来        0.008809                       5                       0.021350   \n",
       "最高        0.008443                       2                       0.020471   \n",
       "\n",
       "      max_first_all_ratio_agg_evidence  \n",
       "word                                    \n",
       "有                             0.582532  \n",
       "最大                            1.000000  \n",
       "平均                            0.750736  \n",
       "最小                            1.000000  \n",
       "个                             0.851829  \n",
       "什么                            0.958072  \n",
       "哪些                            0.934809  \n",
       "最低                            0.995533  \n",
       "起来                            0.979301  \n",
       "最高                            0.974441  "
      ]
     },
     "execution_count": 37,
     "metadata": {},
     "output_type": "execute_result"
    }
   ],
   "source": [
    "##### max_first_second_agg_evidence have more performance than std\n",
    "agg_label_cut_stats_df.sort_values(by = \"max_first_second_agg_evidence\", ascending=False).head(10)"
   ]
  },
  {
   "cell_type": "code",
   "execution_count": 38,
   "metadata": {},
   "outputs": [
    {
     "name": "stderr",
     "output_type": "stream",
     "text": [
      "/environment/python/versions/miniconda3-4.7.12/lib/python3.7/site-packages/ipykernel_launcher.py:3: UserWarning: Boolean Series key will be reindexed to match DataFrame index.\n",
      "  This is separate from the ipykernel package so we can avoid doing imports until\n"
     ]
    }
   ],
   "source": [
    "kws_evidence_df = agg_label_cut_stats_df.sort_values(by = \"max_first_all_ratio_agg_evidence\", ascending=False)[(\n",
    "    agg_label_cut_stats_df[\"max_first_second_agg_evidence\"] > 0.001) & (agg_label_cut_stats_df[\"agg_dist_std\"] > 0.001)\n",
    "& (agg_label_cut_stats_df[\"max_evidence_agg_label\"] != 0.0)\n",
    "]"
   ]
  },
  {
   "cell_type": "code",
   "execution_count": 39,
   "metadata": {},
   "outputs": [],
   "source": [
    "kws_evidence_rds_df = kws_evidence_df[\"max_evidence_agg_label\"].reset_index().groupby(\"max_evidence_agg_label\")[\"word\"].apply(list).reset_index()"
   ]
  },
  {
   "cell_type": "code",
   "execution_count": 40,
   "metadata": {},
   "outputs": [],
   "source": [
    "kws_evidence_rds_df.index = kws_evidence_rds_df[\"max_evidence_agg_label\"]"
   ]
  },
  {
   "cell_type": "code",
   "execution_count": 41,
   "metadata": {},
   "outputs": [],
   "source": [
    "kws_dict_before_dict = kws_evidence_rds_df.to_dict()[\"word\"]"
   ]
  },
  {
   "cell_type": "code",
   "execution_count": 42,
   "metadata": {},
   "outputs": [],
   "source": [
    "#kws_dict_before_dict"
   ]
  },
  {
   "cell_type": "code",
   "execution_count": 43,
   "metadata": {},
   "outputs": [],
   "source": [
    "#### remove some common words from kws_evidence_rds_df by head \n",
    "### + [\"几\"] is to improve by observe below \"train_agg_std_df_not_match_kws\"\n",
    "### the element in + [\"以上\", \"大于\"] have small evidence,\n",
    "### and only for improve recall, they may have bad effect on precision\n",
    "### because some conflict with condition.\n",
    "kws_dict_after_dict = {1: ['平均数', '均值', '平均值', '平均',],\n",
    " 2: ['最大',\n",
    "  '最多',\n",
    "  '最大值',\n",
    "  '最高',\n",
    "  ] + [\"以上\", \"大于\"],\n",
    " 3: ['最少',\n",
    "  '最小值',\n",
    "  '最小',\n",
    "  '最低',\n",
    "  ] + [\"以下\", \"小于\"],\n",
    " 4: ['几家', '个', '几个', '总共'] + [\"几\"] + [\"哪些\", \"查\", \"数量\", \"数\"],\n",
    " 5: [\n",
    "  '总和',\n",
    "  '加',\n",
    "  '总',\n",
    "  '一共',\n",
    "  '和',\n",
    "  '多少',\n",
    "  ] + [\"多大\"]}"
   ]
  },
  {
   "cell_type": "code",
   "execution_count": 44,
   "metadata": {},
   "outputs": [
    {
     "data": {
      "text/plain": [
       "{1: ['平均数', '均值', '平均值', '平均'],\n",
       " 2: ['最大', '最多', '最大值', '最高', '以上', '大于'],\n",
       " 3: ['最少', '最小值', '最小', '最低', '以下', '小于'],\n",
       " 4: ['几家', '个', '几个', '总共', '几', '哪些', '查', '数量', '数'],\n",
       " 5: ['总和', '加', '总', '一共', '和', '多少', '多大']}"
      ]
     },
     "execution_count": 44,
     "metadata": {},
     "output_type": "execute_result"
    }
   ],
   "source": [
    "#### 4 and 5 may have some confusion, this relate with column dtype (\"SUM\" may mainly to float column, \n",
    "#### \"COUNT\" may not have this contrain)\n",
    "#### 1, 2, 3 only can apply to float dtype column\n",
    "#### so the question_column dtype is also a important feature\n",
    "#### this will use as a rule\n",
    "kws_dict_after_dict"
   ]
  },
  {
   "cell_type": "code",
   "execution_count": 45,
   "metadata": {},
   "outputs": [],
   "source": [
    "##### explore the performance or drawback of kws, improve it."
   ]
  },
  {
   "cell_type": "code",
   "execution_count": 46,
   "metadata": {},
   "outputs": [],
   "source": [
    "all_kws = reduce(lambda a, b: a + b ,kws_dict_after_dict.values())\n",
    "train_agg_std_df_not_match_kws = train_agg_std_df[train_agg_std_df[\"agg\"] != 0.0][train_agg_std_df[train_agg_std_df[\"agg\"] != 0.0][\"feature\"].map(lambda t4: sum(map(lambda kw: kw in t4[-1], all_kws)) == 0)].copy()"
   ]
  },
  {
   "cell_type": "code",
   "execution_count": 47,
   "metadata": {},
   "outputs": [
    {
     "data": {
      "text/plain": [
       "((5019, 4), (7, 4), 0.99860529986053)"
      ]
     },
     "execution_count": 47,
     "metadata": {},
     "output_type": "execute_result"
    }
   ],
   "source": [
    "##### kws justify should apply to question (total part directly)\n",
    "##### can match 99.8% sample (sense of recall)\n",
    "train_agg_std_df[train_agg_std_df[\"agg\"] != 0.0].shape ,train_agg_std_df_not_match_kws.shape, 1 - train_agg_std_df_not_match_kws.shape[0] / train_agg_std_df[train_agg_std_df[\"agg\"] != 0.0].shape[0] "
   ]
  },
  {
   "cell_type": "code",
   "execution_count": 48,
   "metadata": {},
   "outputs": [
    {
     "data": {
      "text/html": [
       "<div>\n",
       "<style scoped>\n",
       "    .dataframe tbody tr th:only-of-type {\n",
       "        vertical-align: middle;\n",
       "    }\n",
       "\n",
       "    .dataframe tbody tr th {\n",
       "        vertical-align: top;\n",
       "    }\n",
       "\n",
       "    .dataframe thead th {\n",
       "        text-align: right;\n",
       "    }\n",
       "</style>\n",
       "<table border=\"1\" class=\"dataframe\">\n",
       "  <thead>\n",
       "    <tr style=\"text-align: right;\">\n",
       "      <th></th>\n",
       "      <th>0</th>\n",
       "    </tr>\n",
       "  </thead>\n",
       "  <tbody>\n",
       "    <tr>\n",
       "      <th>4262</th>\n",
       "      <td>(有没有一线城市去化时间近两周都不足半年的城市, 4.0)</td>\n",
       "    </tr>\n",
       "    <tr>\n",
       "      <th>13898</th>\n",
       "      <td>(你能告诉我五月天的后来的我们这首歌的点播率多高吗？, 4.0)</td>\n",
       "    </tr>\n",
       "    <tr>\n",
       "      <th>14166</th>\n",
       "      <td>(你能不能告诉我收视率在1月18日的时候超过0.3%或者市场份额超过3%的综艺节目名称, 4.0)</td>\n",
       "    </tr>\n",
       "    <tr>\n",
       "      <th>16035</th>\n",
       "      <td>(你知道中共中央对外联络部或者部内司局的职位名称吗，可以告诉我吗, 4.0)</td>\n",
       "    </tr>\n",
       "    <tr>\n",
       "      <th>16673</th>\n",
       "      <td>(那些规格型号是168g/袋或者生产日期/批号是2017.12.23的食品标识生产企业名称，...</td>\n",
       "    </tr>\n",
       "    <tr>\n",
       "      <th>36312</th>\n",
       "      <td>(你知道企业代码为77563560-X或者住所是浙江省诸暨市大唐镇开元东路的企业名称吗, 4.0)</td>\n",
       "    </tr>\n",
       "    <tr>\n",
       "      <th>36979</th>\n",
       "      <td>(你好啊，你知道万能型的都是什么保险产品吗, 4.0)</td>\n",
       "    </tr>\n",
       "  </tbody>\n",
       "</table>\n",
       "</div>"
      ],
      "text/plain": [
       "                                                       0\n",
       "4262                       (有没有一线城市去化时间近两周都不足半年的城市, 4.0)\n",
       "13898                   (你能告诉我五月天的后来的我们这首歌的点播率多高吗？, 4.0)\n",
       "14166  (你能不能告诉我收视率在1月18日的时候超过0.3%或者市场份额超过3%的综艺节目名称, 4.0)\n",
       "16035             (你知道中共中央对外联络部或者部内司局的职位名称吗，可以告诉我吗, 4.0)\n",
       "16673  (那些规格型号是168g/袋或者生产日期/批号是2017.12.23的食品标识生产企业名称，...\n",
       "36312  (你知道企业代码为77563560-X或者住所是浙江省诸暨市大唐镇开元东路的企业名称吗, 4.0)\n",
       "36979                        (你好啊，你知道万能型的都是什么保险产品吗, 4.0)"
      ]
     },
     "execution_count": 48,
     "metadata": {},
     "output_type": "execute_result"
    }
   ],
   "source": [
    "pd.DataFrame(train_agg_std_df_not_match_kws.apply(lambda s: (s[\"feature\"][-1], s[\"agg\"]), axis = 1))"
   ]
  },
  {
   "cell_type": "code",
   "execution_count": 49,
   "metadata": {},
   "outputs": [],
   "source": [
    "#### snorkel on kws"
   ]
  },
  {
   "cell_type": "code",
   "execution_count": 50,
   "metadata": {},
   "outputs": [
    {
     "data": {
      "text/plain": [
       "{0: '', 1: 'AVG', 2: 'MAX', 3: 'MIN', 4: 'COUNT', 5: 'SUM'}"
      ]
     },
     "execution_count": 50,
     "metadata": {},
     "output_type": "execute_result"
    }
   ],
   "source": [
    "agg_sql_dict"
   ]
  },
  {
   "cell_type": "code",
   "execution_count": 51,
   "metadata": {},
   "outputs": [],
   "source": [
    "# Define the label mappings for convenience\n",
    "#### ABSTAIN can not guess if finance\n",
    "#ABSTAIN = -1\n",
    "NONE = 0\n",
    "AVG = 1\n",
    "MAX = 3\n",
    "MIN = 4\n",
    "COUNT = 5\n",
    "SUM = 6"
   ]
  },
  {
   "cell_type": "code",
   "execution_count": 52,
   "metadata": {},
   "outputs": [],
   "source": [
    "kws_dict_after_dict = {1: ['平均数', '均值', '平均值', '平均',],\n",
    " 2: ['最大',\n",
    "  '最多',\n",
    "  '最大值',\n",
    "  '最高',\n",
    "  ] + [\"以上\", \"大于\"],\n",
    " 3: ['最少',\n",
    "  '最小值',\n",
    "  '最小',\n",
    "  '最低',\n",
    "  ] + [\"以下\", \"小于\"],\n",
    " 4: ['几家', '个', '几个', '总共'] + [\"几\"] + [\"哪些\", \"查\", \"数量\", \"数\"],\n",
    " 5: [\n",
    "  '总和',\n",
    "  '加',\n",
    "  '总',\n",
    "  '一共',\n",
    "  '和',\n",
    "  '多少',\n",
    "  ] + [\"多大\"]}"
   ]
  },
  {
   "cell_type": "code",
   "execution_count": 53,
   "metadata": {},
   "outputs": [],
   "source": [
    "kws_tuple_key_dict = {\n",
    "    ('平均数', '均值', '平均值', '平均',): 1,\n",
    "    \n",
    "    ('最大','最多','最大值','最高',):2,\n",
    "    (\"以上\", \"大于\"): 2,\n",
    "    \n",
    "    ('最少','最小值','最小','最低'):3,\n",
    "    (\"以下\", \"小于\"): 3,\n",
    "    \n",
    "    ('个', '总共'): 4,\n",
    "    (\"几\",):4,\n",
    "    (\"哪些\", \"查\", \"数量\", \"数\"): 4,\n",
    "    \n",
    "    ('总和','加','总','一共','和',):5,\n",
    "    ('多少', \"多大\"): 5\n",
    "}"
   ]
  },
  {
   "cell_type": "code",
   "execution_count": 54,
   "metadata": {},
   "outputs": [],
   "source": [
    "kws_key_list_tuple_dict = defaultdict(list)\n",
    "for tuple_, k in kws_tuple_key_dict.items():\n",
    "    kws_key_list_tuple_dict[k].append(tuple_)"
   ]
  },
  {
   "cell_type": "code",
   "execution_count": 55,
   "metadata": {},
   "outputs": [],
   "source": [
    "#### if you only can not think which order rule is the best than,\n",
    "### use product to product rule element and use permutations to simulate all\n",
    "### take a look at L_train of snorkel\n",
    "different_rule_product_list = list(product(*list(map(lambda t2: t2[1] ,sorted(kws_key_list_tuple_dict.items(), key = lambda t2: t2[0])))))"
   ]
  },
  {
   "cell_type": "code",
   "execution_count": 56,
   "metadata": {},
   "outputs": [],
   "source": [
    "def kw_matcher(text_tokens):\n",
    "    if any(map(lambda kw: kw in text_tokens, ('平均数', '均值', '平均值', '平均'))):\n",
    "        return 1\n",
    "    if any(map(lambda kw: kw in text_tokens, ('最大', '最多', '最大值', '最高'))):\n",
    "        return 2\n",
    "    if any(map(lambda kw: kw in text_tokens, ('最少', '最小值', '最小', '最低'))):\n",
    "        return 3\n",
    "    if any(map(lambda kw: kw in text_tokens, ('个', '总共'))):\n",
    "        return 4\n",
    "    if any(map(lambda kw: kw in text_tokens, ('总和', '加', '总', '一共', '和'))):\n",
    "        return 5\n",
    "    return 0"
   ]
  },
  {
   "cell_type": "code",
   "execution_count": 57,
   "metadata": {},
   "outputs": [],
   "source": [
    "kw_matcher_func_format = \"def kw_matcher_{}(s):\\n\\tif any(map(lambda kw: kw in text_tokens, {})):\\n\\t\\treturn {}\\n\\tif any(map(lambda kw: kw in text_tokens, {})):\\n\\t\\treturn {}\\n\\tif any(map(lambda kw: kw in text_tokens, {})):\\n\\t\\treturn {}\\n\\tif any(map(lambda kw: kw in text_tokens, {})):\\n\\t\\treturn {}\\n\\tif any(map(lambda kw: kw in text_tokens, {})):\\n\\t\\treturn {}\\n\\treturn {}\""
   ]
  },
  {
   "cell_type": "code",
   "execution_count": 58,
   "metadata": {},
   "outputs": [
    {
     "name": "stdout",
     "output_type": "stream",
     "text": [
      "def kw_matcher_{}(s):\n",
      "\tif any(map(lambda kw: kw in text_tokens, {})):\n",
      "\t\treturn {}\n",
      "\tif any(map(lambda kw: kw in text_tokens, {})):\n",
      "\t\treturn {}\n",
      "\tif any(map(lambda kw: kw in text_tokens, {})):\n",
      "\t\treturn {}\n",
      "\tif any(map(lambda kw: kw in text_tokens, {})):\n",
      "\t\treturn {}\n",
      "\tif any(map(lambda kw: kw in text_tokens, {})):\n",
      "\t\treturn {}\n",
      "\treturn {}\n"
     ]
    }
   ],
   "source": [
    "print(kw_matcher_func_format)"
   ]
  },
  {
   "cell_type": "code",
   "execution_count": 59,
   "metadata": {},
   "outputs": [],
   "source": [
    "def one_rule_if_else_generate(rule_list):\n",
    "    assert type(rule_list) == type((1,))\n",
    "    assert type(rule_list[0]) == type((1,))\n",
    "    #### t2 key as kws_key t2 val as kws tuple_\n",
    "    rule_items = list(map(lambda t2: (t2[0] + 1, t2[1]), enumerate(rule_list)))\n",
    "    rule_list_perm_iter = permutations(rule_items)\n",
    "    for perm_rule_items in rule_list_perm_iter:\n",
    "        yield perm_rule_items"
   ]
  },
  {
   "cell_type": "code",
   "execution_count": 60,
   "metadata": {},
   "outputs": [],
   "source": [
    "#### generate labeling func \n",
    "func_index = 0\n",
    "for i_, rule_list in enumerate(sorted(different_rule_product_list)):\n",
    "    for t5 in one_rule_if_else_generate(rule_list):\n",
    "        '''\n",
    "        func_format_tuple = (func_index,) + \\\n",
    "            reduce(lambda a, b: a + b ,map(lambda tt2: (tt2[1], tt2[0]) ,sorted(t5, key = lambda t2: t2[0]))) + \\\n",
    "                (0,)\n",
    "        '''\n",
    "        #ic(t5)\n",
    "        func_format_tuple = (func_index,) + \\\n",
    "            reduce(lambda a, b: a + b ,map(lambda tt2: (tt2[1], tt2[0]) ,t5)) + \\\n",
    "                (0,)\n",
    "        #print(func_format_tuple)\n",
    "        #print(kw_matcher_func_format.format(*func_format_tuple))\n",
    "        func_def = (\"@labeling_function()\\n\" + kw_matcher_func_format.replace(\"text_tokens\", \"s.question_cut\")).format(*func_format_tuple)\n",
    "        #ic(func_def)\n",
    "        func_index += 1\n",
    "        exec(func_def.strip())\n",
    "        #break\n",
    "    #break"
   ]
  },
  {
   "cell_type": "code",
   "execution_count": 61,
   "metadata": {},
   "outputs": [],
   "source": [
    "kw_matcher_func_list = list(map(lambda fname: eval(fname) ,filter(lambda x: callable(eval(x)) and x.startswith(\"kw_matcher_\"), dir())))"
   ]
  },
  {
   "cell_type": "code",
   "execution_count": 62,
   "metadata": {},
   "outputs": [
    {
     "data": {
      "text/plain": [
       "question_cut    [房地产, 板块, 个股, 的, 平均, 收益, 是, 多少, ？]\n",
       "dtype: object"
      ]
     },
     "execution_count": 62,
     "metadata": {},
     "output_type": "execute_result"
    }
   ],
   "source": [
    "pd.Series([list(jieba.cut(\"房地产板块个股的平均收益是多少？\"))], index = [\"question_cut\"])"
   ]
  },
  {
   "cell_type": "code",
   "execution_count": 63,
   "metadata": {},
   "outputs": [
    {
     "data": {
      "text/plain": [
       "1"
      ]
     },
     "execution_count": 63,
     "metadata": {},
     "output_type": "execute_result"
    }
   ],
   "source": [
    "#### good case \n",
    "kw_matcher_0(pd.Series([list(jieba.cut(\"房地产板块个股的平均收益是多少？\"))], index = [\"question_cut\"]))"
   ]
  },
  {
   "cell_type": "code",
   "execution_count": 64,
   "metadata": {},
   "outputs": [
    {
     "data": {
      "text/plain": [
       "5"
      ]
     },
     "execution_count": 64,
     "metadata": {},
     "output_type": "execute_result"
    }
   ],
   "source": [
    "#### bad case, as above discussion, may have bed effect on precision\n",
    "kw_matcher_0(pd.Series([list(jieba.cut(\"房地产板块个股的收益是多少？\"))], index = [\"question_cut\"]))"
   ]
  },
  {
   "cell_type": "code",
   "execution_count": 65,
   "metadata": {},
   "outputs": [
    {
     "data": {
      "text/plain": [
       "0    1440\n",
       "5    1440\n",
       "dtype: int64"
      ]
     },
     "execution_count": 65,
     "metadata": {},
     "output_type": "execute_result"
    }
   ],
   "source": [
    "#### but some others may fix it\n",
    "#tokens = list(jieba.cut(\"房地产板块个股的收益是多少？\"))\n",
    "tokens = pd.Series([list(jieba.cut(\"房地产板块个股的收益是多少？\"))], index = [\"question_cut\"])\n",
    "pd.Series(list(map(lambda f: f(tokens), kw_matcher_func_list))).value_counts()"
   ]
  },
  {
   "cell_type": "code",
   "execution_count": 66,
   "metadata": {},
   "outputs": [],
   "source": [
    "#### let snorkel choose the best"
   ]
  },
  {
   "cell_type": "code",
   "execution_count": 67,
   "metadata": {},
   "outputs": [],
   "source": [
    "snokel_train_df = pd.DataFrame(train_agg_std_df[[\"feature\", \"agg\"]].apply(lambda s: (s.loc[\"feature\"][-1].strip(), s.loc[\"agg\"]), axis = 1).values.tolist())\n",
    "snokel_train_df.columns = [\"question\", \"agg\"]"
   ]
  },
  {
   "cell_type": "code",
   "execution_count": 68,
   "metadata": {},
   "outputs": [],
   "source": [
    "snokel_train_df[\"question_cut\"] = snokel_train_df[\"question\"].map(jieba.cut).map(list)"
   ]
  },
  {
   "cell_type": "code",
   "execution_count": 69,
   "metadata": {},
   "outputs": [
    {
     "data": {
      "text/html": [
       "<div>\n",
       "<style scoped>\n",
       "    .dataframe tbody tr th:only-of-type {\n",
       "        vertical-align: middle;\n",
       "    }\n",
       "\n",
       "    .dataframe tbody tr th {\n",
       "        vertical-align: top;\n",
       "    }\n",
       "\n",
       "    .dataframe thead th {\n",
       "        text-align: right;\n",
       "    }\n",
       "</style>\n",
       "<table border=\"1\" class=\"dataframe\">\n",
       "  <thead>\n",
       "    <tr style=\"text-align: right;\">\n",
       "      <th></th>\n",
       "      <th>question</th>\n",
       "      <th>agg</th>\n",
       "      <th>question_cut</th>\n",
       "    </tr>\n",
       "  </thead>\n",
       "  <tbody>\n",
       "    <tr>\n",
       "      <th>0</th>\n",
       "      <td>成交楼面均价小于1000的规划建筑面积是多少</td>\n",
       "      <td>0.0</td>\n",
       "      <td>[成交, 楼面, 均价, 小于, 1000, 的, 规划, 建筑面积, 是, 多少]</td>\n",
       "    </tr>\n",
       "    <tr>\n",
       "      <th>1</th>\n",
       "      <td>成交楼面均价不大于1000规划建筑面积是有多大</td>\n",
       "      <td>0.0</td>\n",
       "      <td>[成交, 楼面, 均价, 不, 大于, 1000, 规划, 建筑面积, 是, 有, 多, 大]</td>\n",
       "    </tr>\n",
       "    <tr>\n",
       "      <th>2</th>\n",
       "      <td>成交楼面均价小于1000有多大的规划建筑面积</td>\n",
       "      <td>0.0</td>\n",
       "      <td>[成交, 楼面, 均价, 小于, 1000, 有, 多, 大, 的, 规划, 建筑面积]</td>\n",
       "    </tr>\n",
       "    <tr>\n",
       "      <th>3</th>\n",
       "      <td>规划建筑面积大于 100000或土地出让金大于 20000亿元的同比平均是多少？</td>\n",
       "      <td>1.0</td>\n",
       "      <td>[规划, 建筑面积, 大于,  , 100000, 或, 土地, 出让金, 大于,  , 2...</td>\n",
       "    </tr>\n",
       "    <tr>\n",
       "      <th>4</th>\n",
       "      <td>请问规划建筑面积大于 100000或土地出让金大于 20000亿元的同比平均是多少？</td>\n",
       "      <td>1.0</td>\n",
       "      <td>[请问, 规划, 建筑面积, 大于,  , 100000, 或, 土地, 出让金, 大于, ...</td>\n",
       "    </tr>\n",
       "  </tbody>\n",
       "</table>\n",
       "</div>"
      ],
      "text/plain": [
       "                                     question  agg  \\\n",
       "0                      成交楼面均价小于1000的规划建筑面积是多少  0.0   \n",
       "1                     成交楼面均价不大于1000规划建筑面积是有多大  0.0   \n",
       "2                      成交楼面均价小于1000有多大的规划建筑面积  0.0   \n",
       "3    规划建筑面积大于 100000或土地出让金大于 20000亿元的同比平均是多少？  1.0   \n",
       "4  请问规划建筑面积大于 100000或土地出让金大于 20000亿元的同比平均是多少？  1.0   \n",
       "\n",
       "                                        question_cut  \n",
       "0         [成交, 楼面, 均价, 小于, 1000, 的, 规划, 建筑面积, 是, 多少]  \n",
       "1    [成交, 楼面, 均价, 不, 大于, 1000, 规划, 建筑面积, 是, 有, 多, 大]  \n",
       "2       [成交, 楼面, 均价, 小于, 1000, 有, 多, 大, 的, 规划, 建筑面积]  \n",
       "3  [规划, 建筑面积, 大于,  , 100000, 或, 土地, 出让金, 大于,  , 2...  \n",
       "4  [请问, 规划, 建筑面积, 大于,  , 100000, 或, 土地, 出让金, 大于, ...  "
      ]
     },
     "execution_count": 69,
     "metadata": {},
     "output_type": "execute_result"
    }
   ],
   "source": [
    "snokel_train_df.head()"
   ]
  },
  {
   "cell_type": "code",
   "execution_count": 70,
   "metadata": {},
   "outputs": [],
   "source": [
    "#?? PandasParallelLFApplier"
   ]
  },
  {
   "cell_type": "code",
   "execution_count": 71,
   "metadata": {},
   "outputs": [],
   "source": [
    "# Define the set of labeling functions (LFs)\n",
    "lfs = kw_matcher_func_list\n",
    "\n",
    "# Apply the LFs to the unlabeled training data\n",
    "#applier = PandasLFApplier(lfs)\n",
    "applier = PandasParallelLFApplier(lfs)"
   ]
  },
  {
   "cell_type": "code",
   "execution_count": 72,
   "metadata": {},
   "outputs": [],
   "source": [
    "#L_train = applier.apply(snokel_train_df, n_parallel=4)"
   ]
  },
  {
   "cell_type": "code",
   "execution_count": 86,
   "metadata": {},
   "outputs": [],
   "source": [
    "def produce_L_train_iter(train_df, slice_size = 1000, n_parallel = 4):\n",
    "    sliced_list = np.arange(0 ,train_df.shape[0], slice_size).tolist()\n",
    "    if train_df.shape[0] not in sliced_list:\n",
    "        sliced_list.append(train_df.shape[0])\n",
    "    for idx in range(len(sliced_list) - 1):\n",
    "        start_idx = sliced_list[idx]\n",
    "        end_idx = sliced_list[idx + 1]\n",
    "        input_ = train_df.iloc[start_idx: end_idx]\n",
    "        L_train = applier.apply(input_, n_parallel=4)\n",
    "        yield L_train, input_"
   ]
  },
  {
   "cell_type": "code",
   "execution_count": 87,
   "metadata": {},
   "outputs": [],
   "source": [
    "L_train_iter = produce_L_train_iter(snokel_train_df)"
   ]
  },
  {
   "cell_type": "code",
   "execution_count": 88,
   "metadata": {},
   "outputs": [],
   "source": [
    "L_train_pkl_dir = \"L_train_save\""
   ]
  },
  {
   "cell_type": "code",
   "execution_count": 89,
   "metadata": {},
   "outputs": [],
   "source": [
    "if os.path.exists(L_train_pkl_dir):\n",
    "    shutil.rmtree(L_train_pkl_dir)\n",
    "os.mkdir(L_train_pkl_dir)"
   ]
  },
  {
   "cell_type": "code",
   "execution_count": null,
   "metadata": {},
   "outputs": [
    {
     "name": "stderr",
     "output_type": "stream",
     "text": [
      "ic| 'L_train :', idx: 0, idx / length * 100: 0.0, 'end'\n",
      "ic| 'L_train :', idx: 1, idx / length * 100: 2.3255813953488373, 'end'\n"
     ]
    }
   ],
   "source": [
    "req = None\n",
    "length = len(np.arange(0 ,snokel_train_df.shape[0], 1000).tolist()) + 1\n",
    "for idx ,(L_train, input_) in enumerate(L_train_iter):\n",
    "    with open(os.path.join(L_train_pkl_dir, \"L_train_{}.pkl\".format(idx)), \"wb\") as f:\n",
    "        pkl.dump((L_train, input_), f)\n",
    "    ic(\"L_train :\", idx, idx / length * 100, \"end\")\n",
    "    #break"
   ]
  },
  {
   "cell_type": "code",
   "execution_count": null,
   "metadata": {},
   "outputs": [],
   "source": [
    "import scipy.sparse\n",
    "import scipy\n",
    "from sklearn.feature_selection import SelectKBest, SelectFromModel\n",
    "from sklearn.ensemble import RandomForestClassifier\n",
    "from sklearn.metrics import balanced_accuracy_score"
   ]
  },
  {
   "cell_type": "code",
   "execution_count": null,
   "metadata": {},
   "outputs": [],
   "source": [
    "def reconstruct_data(L_train_pkl_dir):\n",
    "    pkl_files = glob(os.path.join(L_train_pkl_dir, \"*.pkl\"))\n",
    "    for p_file in pkl_files:\n",
    "        with open(p_file, \"rb\") as f:\n",
    "            L_train, input_ = pkl.load(f)\n",
    "            yield scipy.sparse.csr_matrix(L_train.T), input_"
   ]
  },
  {
   "cell_type": "code",
   "execution_count": null,
   "metadata": {},
   "outputs": [],
   "source": [
    "reconstruct_iter = reconstruct_data(L_train_pkl_dir)\n",
    "sp_req = []\n",
    "input_req = []\n",
    "for idx ,(L_train_sp_T, input_) in enumerate(reconstruct_iter):\n",
    "    sp_req.append(L_train_sp_T)\n",
    "    input_req.append(input_)"
   ]
  },
  {
   "cell_type": "code",
   "execution_count": null,
   "metadata": {},
   "outputs": [],
   "source": [
    "L_train_sp = scipy.sparse.hstack(sp_req).T\n",
    "input_concat = pd.concat(input_req, axis = 0)"
   ]
  },
  {
   "cell_type": "code",
   "execution_count": null,
   "metadata": {},
   "outputs": [],
   "source": [
    "input_concat[\"agg\"].value_counts().sort_index() / input_concat[\"agg\"].value_counts().sum()"
   ]
  },
  {
   "cell_type": "code",
   "execution_count": null,
   "metadata": {},
   "outputs": [],
   "source": [
    "label_model = LabelModel(verbose=True, cardinality = 6, device = \"cpu\")\n",
    "Y_dev = input_concat[\"agg\"].astype(int).values.tolist()\n",
    "class_balance = (input_concat[\"agg\"].value_counts().sort_index() / input_concat[\"agg\"].value_counts().sum()).values.tolist()"
   ]
  },
  {
   "cell_type": "code",
   "execution_count": null,
   "metadata": {},
   "outputs": [],
   "source": [
    "L_train = L_train_sp.toarray()"
   ]
  },
  {
   "cell_type": "code",
   "execution_count": null,
   "metadata": {},
   "outputs": [],
   "source": [
    "acc_score_s = pd.DataFrame(L_train).apply(lambda s: balanced_accuracy_score(np.asarray(Y_dev) ,np.asarray(s.tolist())), axis = 0)"
   ]
  },
  {
   "cell_type": "code",
   "execution_count": null,
   "metadata": {},
   "outputs": [],
   "source": [
    "acc_score_s.value_counts().sort_index()[::-1]"
   ]
  },
  {
   "cell_type": "code",
   "execution_count": null,
   "metadata": {},
   "outputs": [],
   "source": [
    "sns.displot(acc_score_s)"
   ]
  },
  {
   "cell_type": "code",
   "execution_count": null,
   "metadata": {},
   "outputs": [],
   "source": [
    "gold_label_func_indices = np.where(acc_score_s > 0.77)[0]"
   ]
  },
  {
   "cell_type": "code",
   "execution_count": null,
   "metadata": {},
   "outputs": [],
   "source": [
    "#### if sliced > 0.77 to use, following model can converge, if use full L_train can't converge\n",
    "label_model = LabelModel(verbose=True, cardinality = 6, device = \"cuda\")\n",
    "label_model.fit(L_train[:, np.where(acc_score_s > 0.77)[0]], class_balance=class_balance, n_epochs=200, l2=0.4)"
   ]
  },
  {
   "cell_type": "code",
   "execution_count": 95,
   "metadata": {},
   "outputs": [],
   "source": [
    "#### np.where(acc_score_s > 0.77)[0] conclusion\n",
    "gold_label_func_indices = [1325,1327,1333,1352,1354,1361,1381,1387,1452,1453,1454,1459,1460,1461,1465,1467,\n",
    " 1478,1479,1481,1485,1486,1487,1492,1494,1511,1514,1518,1520]"
   ]
  },
  {
   "cell_type": "code",
   "execution_count": 97,
   "metadata": {},
   "outputs": [],
   "source": [
    "#### generate labeling func \n",
    "gold_t5_list = []\n",
    "func_index = 0\n",
    "for i_, rule_list in enumerate(sorted(different_rule_product_list)):\n",
    "    for t5 in one_rule_if_else_generate(rule_list):\n",
    "        if func_index in gold_label_func_indices:\n",
    "            gold_t5_list.append(t5)\n",
    "        func_index += 1\n",
    "        #break\n",
    "    #break"
   ]
  },
  {
   "cell_type": "code",
   "execution_count": 102,
   "metadata": {},
   "outputs": [],
   "source": [
    "gold_order_zip_list = (list(zip(*map(lambda t5: list(map(lambda t2: t2[0], t5)),gold_t5_list))))"
   ]
  },
  {
   "cell_type": "code",
   "execution_count": 107,
   "metadata": {},
   "outputs": [
    {
     "data": {
      "text/plain": [
       "0    2\n",
       "1    4\n",
       "2    3\n",
       "3    5\n",
       "4    5\n",
       "dtype: int64"
      ]
     },
     "execution_count": 107,
     "metadata": {},
     "output_type": "execute_result"
    }
   ],
   "source": [
    "pd.DataFrame(gold_order_zip_list).apply(lambda x: x.value_counts().index[0], axis = 1)"
   ]
  },
  {
   "cell_type": "code",
   "execution_count": 112,
   "metadata": {},
   "outputs": [],
   "source": [
    "##### download https://github.com/sufyanAbbasi/dictrie to local and append to sys path\n",
    "sys.path.append(\"dictrie/\")"
   ]
  },
  {
   "cell_type": "code",
   "execution_count": 121,
   "metadata": {},
   "outputs": [],
   "source": [
    "from dictrie import Dictrie"
   ]
  },
  {
   "cell_type": "code",
   "execution_count": 179,
   "metadata": {},
   "outputs": [],
   "source": [
    "#### build_trie\n",
    "class Tupletrie(Dictrie):\n",
    "    def build_trie(self, words):\n",
    "        #words = list(words)\n",
    "        if type(words) == type([]):\n",
    "            words = words\n",
    "        else:\n",
    "            words = words.split(\",\")\n",
    "        for word in words:\n",
    "            #ic(word)\n",
    "            self[' '] = word\n",
    "    def __setitem__(self, key, item):\n",
    "        sub_trie = self.data\n",
    "        for char in item.split(\",\") + [' ']:\n",
    "            sub_trie = sub_trie.setdefault(char, {})"
   ]
  },
  {
   "cell_type": "code",
   "execution_count": 180,
   "metadata": {},
   "outputs": [],
   "source": [
    "gold_rule_trie = Tupletrie(list(map(lambda t5: \",\".join(map(lambda t2: \"*\".join(t2[1]), t5)),gold_t5_list)))"
   ]
  },
  {
   "cell_type": "code",
   "execution_count": 181,
   "metadata": {},
   "outputs": [
    {
     "data": {
      "text/plain": [
       "{'平均数*均值*平均值*平均': {'以上*大于': {'总和*加*总*一共*和': {'哪些*查*数量*数': {'最少*最小值*最小*最低': {' ': {}}}}}, '最少*最小值*最小*最低': {'以上*大于': {'总和*加*总*一共*和': {'哪些*查*数量*数': {' ': {}}}}}, '哪些*查*数量*数': {'以上*大于': {'总和*加*总*一共*和': {'最少*最小值*最小*最低': {' ': {}}}}}, '个*总共': {'最大*最多*最大值*最高': {'以下*小于': {'多少*多大': {' ': {}}}, '多少*多大': {'以下*小于': {' ': {}}}}, '以下*小于': {'最大*最多*最大值*最高': {'多少*多大': {' ': {}}}}}, '多少*多大': {'最大*最多*最大值*最高': {'个*总共': {'以下*小于': {' ': {}}}}, '以下*小于': {'最大*最多*最大值*最高': {'个*总共': {' ': {}}}, '个*总共': {'最大*最多*最大值*最高': {' ': {}}}}}}, '以上*大于': {'最少*最小值*最小*最低': {'哪些*查*数量*数': {'平均数*均值*平均值*平均': {'总和*加*总*一共*和': {' ': {}}}}, '总和*加*总*一共*和': {'平均数*均值*平均值*平均': {'哪些*查*数量*数': {' ': {}}}}}, '哪些*查*数量*数': {'总和*加*总*一共*和': {'最少*最小值*最小*最低': {'平均数*均值*平均值*平均': {' ': {}}}}}}, '最少*最小值*最小*最低': {'哪些*查*数量*数': {'平均数*均值*平均值*平均': {'总和*加*总*一共*和': {'以上*大于': {' ': {}}}}}, '总和*加*总*一共*和': {'平均数*均值*平均值*平均': {'哪些*查*数量*数': {'以上*大于': {' ': {}}}}}}, '最大*最多*最大值*最高': {'平均数*均值*平均值*平均': {'以下*小于': {'多少*多大': {'个*总共': {' ': {}}}}, '个*总共': {'多少*多大': {'以下*小于': {' ': {}}}}}, '个*总共': {'以下*小于': {'平均数*均值*平均值*平均': {'多少*多大': {' ': {}}}, '多少*多大': {'平均数*均值*平均值*平均': {' ': {}}}}, '多少*多大': {'以下*小于': {'平均数*均值*平均值*平均': {' ': {}}}}}, '多少*多大': {'以下*小于': {'个*总共': {'平均数*均值*平均值*平均': {' ': {}}}}, '个*总共': {'平均数*均值*平均值*平均': {'以下*小于': {' ': {}}}, '以下*小于': {'平均数*均值*平均值*平均': {' ': {}}}}}}, '以下*小于': {'平均数*均值*平均值*平均': {'多少*多大': {'最大*最多*最大值*最高': {'个*总共': {' ': {}}}}}, '最大*最多*最大值*最高': {'平均数*均值*平均值*平均': {'个*总共': {'多少*多大': {' ': {}}}}}, '多少*多大': {'个*总共': {'最大*最多*最大值*最高': {'平均数*均值*平均值*平均': {' ': {}}}}}}, '个*总共': {'平均数*均值*平均值*平均': {'以下*小于': {'最大*最多*最大值*最高': {'多少*多大': {' ': {}}}}}, '最大*最多*最大值*最高': {'平均数*均值*平均值*平均': {'以下*小于': {'多少*多大': {' ': {}}}}, '以下*小于': {'平均数*均值*平均值*平均': {'多少*多大': {' ': {}}}}}}}"
      ]
     },
     "execution_count": 181,
     "metadata": {},
     "output_type": "execute_result"
    }
   ],
   "source": [
    "gold_rule_trie"
   ]
  },
  {
   "cell_type": "code",
   "execution_count": 182,
   "metadata": {},
   "outputs": [],
   "source": [
    "### because py2 issue, must cp to cell to init dict\n",
    "gold_rule_trie_dict = {'平均数*均值*平均值*平均': {'以上*大于': {'总和*加*总*一共*和': {'哪些*查*数量*数': {'最少*最小值*最小*最低': {' ': {}}}}}, '最少*最小值*最小*最低': {'以上*大于': {'总和*加*总*一共*和': {'哪些*查*数量*数': {' ': {}}}}}, '哪些*查*数量*数': {'以上*大于': {'总和*加*总*一共*和': {'最少*最小值*最小*最低': {' ': {}}}}}, '个*总共': {'最大*最多*最大值*最高': {'以下*小于': {'多少*多大': {' ': {}}}, '多少*多大': {'以下*小于': {' ': {}}}}, '以下*小于': {'最大*最多*最大值*最高': {'多少*多大': {' ': {}}}}}, '多少*多大': {'最大*最多*最大值*最高': {'个*总共': {'以下*小于': {' ': {}}}}, '以下*小于': {'最大*最多*最大值*最高': {'个*总共': {' ': {}}}, '个*总共': {'最大*最多*最大值*最高': {' ': {}}}}}}, '以上*大于': {'最少*最小值*最小*最低': {'哪些*查*数量*数': {'平均数*均值*平均值*平均': {'总和*加*总*一共*和': {' ': {}}}}, '总和*加*总*一共*和': {'平均数*均值*平均值*平均': {'哪些*查*数量*数': {' ': {}}}}}, '哪些*查*数量*数': {'总和*加*总*一共*和': {'最少*最小值*最小*最低': {'平均数*均值*平均值*平均': {' ': {}}}}}}, '最少*最小值*最小*最低': {'哪些*查*数量*数': {'平均数*均值*平均值*平均': {'总和*加*总*一共*和': {'以上*大于': {' ': {}}}}}, '总和*加*总*一共*和': {'平均数*均值*平均值*平均': {'哪些*查*数量*数': {'以上*大于': {' ': {}}}}}}, '最大*最多*最大值*最高': {'平均数*均值*平均值*平均': {'以下*小于': {'多少*多大': {'个*总共': {' ': {}}}}, '个*总共': {'多少*多大': {'以下*小于': {' ': {}}}}}, '个*总共': {'以下*小于': {'平均数*均值*平均值*平均': {'多少*多大': {' ': {}}}, '多少*多大': {'平均数*均值*平均值*平均': {' ': {}}}}, '多少*多大': {'以下*小于': {'平均数*均值*平均值*平均': {' ': {}}}}}, '多少*多大': {'以下*小于': {'个*总共': {'平均数*均值*平均值*平均': {' ': {}}}}, '个*总共': {'平均数*均值*平均值*平均': {'以下*小于': {' ': {}}}, '以下*小于': {'平均数*均值*平均值*平均': {' ': {}}}}}}, '以下*小于': {'平均数*均值*平均值*平均': {'多少*多大': {'最大*最多*最大值*最高': {'个*总共': {' ': {}}}}}, '最大*最多*最大值*最高': {'平均数*均值*平均值*平均': {'个*总共': {'多少*多大': {' ': {}}}}}, '多少*多大': {'个*总共': {'最大*最多*最大值*最高': {'平均数*均值*平均值*平均': {' ': {}}}}}}, '个*总共': {'平均数*均值*平均值*平均': {'以下*小于': {'最大*最多*最大值*最高': {'多少*多大': {' ': {}}}}}, '最大*最多*最大值*最高': {'平均数*均值*平均值*平均': {'以下*小于': {'多少*多大': {' ': {}}}}, '以下*小于': {'平均数*均值*平均值*平均': {'多少*多大': {' ': {}}}}}}}"
   ]
  },
  {
   "cell_type": "code",
   "execution_count": 183,
   "metadata": {},
   "outputs": [
    {
     "data": {
      "text/plain": [
       "dict_keys(['平均数*均值*平均值*平均', '以上*大于', '最少*最小值*最小*最低', '最大*最多*最大值*最高', '以下*小于', '个*总共'])"
      ]
     },
     "execution_count": 183,
     "metadata": {},
     "output_type": "execute_result"
    }
   ],
   "source": [
    "gold_rule_trie_dict.keys()"
   ]
  },
  {
   "cell_type": "code",
   "execution_count": 178,
   "metadata": {},
   "outputs": [
    {
     "data": {
      "text/plain": [
       "dict_keys(['以上*大于', '最少*最小值*最小*最低', '哪些*查*数量*数', '个*总共', '多少*多大'])"
      ]
     },
     "execution_count": 178,
     "metadata": {},
     "output_type": "execute_result"
    }
   ],
   "source": [
    "gold_rule_trie_dict[\"平均数*均值*平均值*平均\"].keys()"
   ]
  },
  {
   "cell_type": "code",
   "execution_count": 184,
   "metadata": {},
   "outputs": [],
   "source": [
    "from pprint import pprint"
   ]
  },
  {
   "cell_type": "code",
   "execution_count": 185,
   "metadata": {},
   "outputs": [
    {
     "name": "stdout",
     "output_type": "stream",
     "text": [
      "{'个*总共': {'平均数*均值*平均值*平均': {'以下*小于': {'最大*最多*最大值*最高': {'多少*多大': {' ': {}}}}},\n",
      "          '最大*最多*最大值*最高': {'以下*小于': {'平均数*均值*平均值*平均': {'多少*多大': {' ': {}}}},\n",
      "                           '平均数*均值*平均值*平均': {'以下*小于': {'多少*多大': {' ': {}}}}}},\n",
      " '以上*大于': {'哪些*查*数量*数': {'总和*加*总*一共*和': {'最少*最小值*最小*最低': {'平均数*均值*平均值*平均': {' ': {}}}}},\n",
      "           '最少*最小值*最小*最低': {'哪些*查*数量*数': {'平均数*均值*平均值*平均': {'总和*加*总*一共*和': {' ': {}}}},\n",
      "                            '总和*加*总*一共*和': {'平均数*均值*平均值*平均': {'哪些*查*数量*数': {' ': {}}}}}},\n",
      " '以下*小于': {'多少*多大': {'个*总共': {'最大*最多*最大值*最高': {'平均数*均值*平均值*平均': {' ': {}}}}},\n",
      "           '平均数*均值*平均值*平均': {'多少*多大': {'最大*最多*最大值*最高': {'个*总共': {' ': {}}}}},\n",
      "           '最大*最多*最大值*最高': {'平均数*均值*平均值*平均': {'个*总共': {'多少*多大': {' ': {}}}}}},\n",
      " '平均数*均值*平均值*平均': {'个*总共': {'以下*小于': {'最大*最多*最大值*最高': {'多少*多大': {' ': {}}}},\n",
      "                            '最大*最多*最大值*最高': {'以下*小于': {'多少*多大': {' ': {}}},\n",
      "                                             '多少*多大': {'以下*小于': {' ': {}}}}},\n",
      "                   '以上*大于': {'总和*加*总*一共*和': {'哪些*查*数量*数': {'最少*最小值*最小*最低': {' ': {}}}}},\n",
      "                   '哪些*查*数量*数': {'以上*大于': {'总和*加*总*一共*和': {'最少*最小值*最小*最低': {' ': {}}}}},\n",
      "                   '多少*多大': {'以下*小于': {'个*总共': {'最大*最多*最大值*最高': {' ': {}}},\n",
      "                                       '最大*最多*最大值*最高': {'个*总共': {' ': {}}}},\n",
      "                             '最大*最多*最大值*最高': {'个*总共': {'以下*小于': {' ': {}}}}},\n",
      "                   '最少*最小值*最小*最低': {'以上*大于': {'总和*加*总*一共*和': {'哪些*查*数量*数': {' ': {}}}}}},\n",
      " '最大*最多*最大值*最高': {'个*总共': {'以下*小于': {'多少*多大': {'平均数*均值*平均值*平均': {' ': {}}},\n",
      "                                     '平均数*均值*平均值*平均': {'多少*多大': {' ': {}}}},\n",
      "                           '多少*多大': {'以下*小于': {'平均数*均值*平均值*平均': {' ': {}}}}},\n",
      "                  '多少*多大': {'个*总共': {'以下*小于': {'平均数*均值*平均值*平均': {' ': {}}},\n",
      "                                     '平均数*均值*平均值*平均': {'以下*小于': {' ': {}}}},\n",
      "                            '以下*小于': {'个*总共': {'平均数*均值*平均值*平均': {' ': {}}}}},\n",
      "                  '平均数*均值*平均值*平均': {'个*总共': {'多少*多大': {'以下*小于': {' ': {}}}},\n",
      "                                    '以下*小于': {'多少*多大': {'个*总共': {' ': {}}}}}},\n",
      " '最少*最小值*最小*最低': {'哪些*查*数量*数': {'平均数*均值*平均值*平均': {'总和*加*总*一共*和': {'以上*大于': {' ': {}}}}},\n",
      "                  '总和*加*总*一共*和': {'平均数*均值*平均值*平均': {'哪些*查*数量*数': {'以上*大于': {' ': {}}}}}}}\n"
     ]
    }
   ],
   "source": [
    "#### think tbis construction as a tree, and some leaves remove by metrics score\n",
    "### the node number may descibe the evidence of justify a class\n",
    "### the deepth (to root) is also a feature\n",
    "\n",
    "### the deep-first transverse line with few nodes (remove more nodes) such as first level \"个*总共\"\n",
    "### also have high metrics (>0.77) say it has more performance than have more nodes.\n",
    "\n",
    "### and with more sub-nodes such as \"'平均数*均值*平均值*平均\" as first level, say the decision will\n",
    "### make more fast (stop at a close to root node). the sub-nodes of \"'平均数*均值*平均值*平均\" \n",
    "### is not important\n",
    "\n",
    "### but for first level \"个*总共\", the sub-nodes are important. some errors sub-leaves are remove\n",
    "### by metrices\n",
    "\n",
    "### use above summary, we can shorten the rule search path by drop some sub-nodes (far way from root) \n",
    "### of \"平均数*均值*平均值*平均\" (have more recall, should remove leaves)\n",
    "### and make \"个*总共\" rules more precision (have more precision, should maintain them)\n",
    "\n",
    "### should implement a deep node count function to measure rule recall and precision level\n",
    "pprint(gold_rule_trie_dict)"
   ]
  },
  {
   "cell_type": "code",
   "execution_count": 220,
   "metadata": {},
   "outputs": [],
   "source": [
    "def retrieve_all_elements(node_dict):\n",
    "    if type(node_dict) != type(dict()) or not node_dict.values():\n",
    "        return []\n",
    "    return list(filter(lambda x: x ,list(node_dict.keys()) + reduce(lambda a, b : a + b, map(retrieve_all_elements, node_dict.values()))))"
   ]
  },
  {
   "cell_type": "code",
   "execution_count": 222,
   "metadata": {},
   "outputs": [],
   "source": [
    "def count_all_sub_lines(node_dict):\n",
    "    return len(list(filter(lambda x: x == \" \" ,retrieve_all_elements(node_dict))))"
   ]
  },
  {
   "cell_type": "code",
   "execution_count": 224,
   "metadata": {},
   "outputs": [],
   "source": [
    "def count_all_sub_nodes(node_dict):\n",
    "    return len(list(filter(lambda x: x.strip() ,retrieve_all_elements(node_dict))))"
   ]
  },
  {
   "cell_type": "code",
   "execution_count": 227,
   "metadata": {},
   "outputs": [],
   "source": [
    "def depth(node_dict):\n",
    "    if list(node_dict.keys())[0] == \" \":\n",
    "        return 0\n",
    "    return 1 + max(map(depth, node_dict.values()))"
   ]
  },
  {
   "cell_type": "code",
   "execution_count": 249,
   "metadata": {},
   "outputs": [],
   "source": [
    "def count_distinct_sub_nodes(node_dict):\n",
    "    return len(set(filter(lambda x: x.strip() ,retrieve_all_elements(node_dict))))"
   ]
  },
  {
   "cell_type": "code",
   "execution_count": 241,
   "metadata": {},
   "outputs": [],
   "source": [
    "def full_sub_tree_cnt(node_dict):\n",
    "    depth_num = depth(node_dict)\n",
    "    all_nodes_num = len(set(filter(lambda x: x.strip() ,retrieve_all_elements(node_dict))))\n",
    "    #ic(set(filter(lambda x: x.strip() ,retrieve_all_elements(node_dict))))\n",
    "    cnt_list = []\n",
    "    for i in range(depth_num):\n",
    "        cnt_list.append(all_nodes_num)\n",
    "        all_nodes_num -= 1\n",
    "    return reduce(lambda a, b: a * b ,map(lambda x: x ,cnt_list))"
   ]
  },
  {
   "cell_type": "code",
   "execution_count": 244,
   "metadata": {},
   "outputs": [],
   "source": [
    "def sub_full_cnt_ratio(node_dict):\n",
    "    return count_all_sub_nodes(node_dict) / full_sub_tree_cnt(node_dict)"
   ]
  },
  {
   "cell_type": "code",
   "execution_count": 251,
   "metadata": {},
   "outputs": [],
   "source": [
    "def node_stats_summary(node_dict):\n",
    "    return {\n",
    "        \"depth\": depth(node_dict),\n",
    "        \"lines\": count_all_sub_lines(node_dict),\n",
    "        \"sub_node_num\": count_all_sub_nodes(node_dict),\n",
    "        \"distinct_node_num\": count_distinct_sub_nodes(node_dict),\n",
    "        \"full_sub_node_num\": full_sub_tree_cnt(node_dict),\n",
    "    }"
   ]
  },
  {
   "cell_type": "code",
   "execution_count": 263,
   "metadata": {},
   "outputs": [],
   "source": [
    "def sub_tree_stats_summary(node_dict):\n",
    "    sub_tree_stats_df = pd.DataFrame(pd.DataFrame(list(map(lambda t2: (t2[0], node_stats_summary(t2[1])) ,node_dict.items()))).\\\n",
    "apply(lambda s: dict([(\"name\" ,s[0])] + list(s[1].items())), axis = 1).values.tolist())\n",
    "    sub_tree_stats_df[\"sub_full_node_ratio\"] = sub_tree_stats_df[\"sub_node_num\"] / sub_tree_stats_df[\"full_sub_node_num\"]\n",
    "    sub_tree_stats_df[\"distinct_sub_node_ratio\"] = sub_tree_stats_df[\"distinct_node_num\"] / sub_tree_stats_df[\"sub_node_num\"]\n",
    "    return sub_tree_stats_df"
   ]
  },
  {
   "cell_type": "code",
   "execution_count": 265,
   "metadata": {},
   "outputs": [
    {
     "data": {
      "text/html": [
       "<div>\n",
       "<style scoped>\n",
       "    .dataframe tbody tr th:only-of-type {\n",
       "        vertical-align: middle;\n",
       "    }\n",
       "\n",
       "    .dataframe tbody tr th {\n",
       "        vertical-align: top;\n",
       "    }\n",
       "\n",
       "    .dataframe thead th {\n",
       "        text-align: right;\n",
       "    }\n",
       "</style>\n",
       "<table border=\"1\" class=\"dataframe\">\n",
       "  <thead>\n",
       "    <tr style=\"text-align: right;\">\n",
       "      <th></th>\n",
       "      <th>name</th>\n",
       "      <th>sub_full_node_ratio</th>\n",
       "      <th>distinct_sub_node_ratio</th>\n",
       "    </tr>\n",
       "  </thead>\n",
       "  <tbody>\n",
       "    <tr>\n",
       "      <th>0</th>\n",
       "      <td>平均数*均值*平均值*平均</td>\n",
       "      <td>0.017857</td>\n",
       "      <td>0.266667</td>\n",
       "    </tr>\n",
       "    <tr>\n",
       "      <th>1</th>\n",
       "      <td>以上*大于</td>\n",
       "      <td>0.458333</td>\n",
       "      <td>0.363636</td>\n",
       "    </tr>\n",
       "    <tr>\n",
       "      <th>2</th>\n",
       "      <td>最少*最小值*最小*最低</td>\n",
       "      <td>0.333333</td>\n",
       "      <td>0.500000</td>\n",
       "    </tr>\n",
       "    <tr>\n",
       "      <th>3</th>\n",
       "      <td>最大*最多*最大值*最高</td>\n",
       "      <td>1.041667</td>\n",
       "      <td>0.160000</td>\n",
       "    </tr>\n",
       "    <tr>\n",
       "      <th>4</th>\n",
       "      <td>以下*小于</td>\n",
       "      <td>0.500000</td>\n",
       "      <td>0.333333</td>\n",
       "    </tr>\n",
       "    <tr>\n",
       "      <th>5</th>\n",
       "      <td>个*总共</td>\n",
       "      <td>0.458333</td>\n",
       "      <td>0.363636</td>\n",
       "    </tr>\n",
       "  </tbody>\n",
       "</table>\n",
       "</div>"
      ],
      "text/plain": [
       "            name  sub_full_node_ratio  distinct_sub_node_ratio\n",
       "0  平均数*均值*平均值*平均             0.017857                 0.266667\n",
       "1          以上*大于             0.458333                 0.363636\n",
       "2   最少*最小值*最小*最低             0.333333                 0.500000\n",
       "3   最大*最多*最大值*最高             1.041667                 0.160000\n",
       "4          以下*小于             0.500000                 0.333333\n",
       "5           个*总共             0.458333                 0.363636"
      ]
     },
     "execution_count": 265,
     "metadata": {},
     "output_type": "execute_result"
    }
   ],
   "source": [
    "sub_tree_stats_summary(gold_rule_trie_dict)[[\"name\", \"sub_full_node_ratio\", \"distinct_sub_node_ratio\"]]"
   ]
  },
  {
   "cell_type": "code",
   "execution_count": 268,
   "metadata": {},
   "outputs": [
    {
     "data": {
      "text/html": [
       "<div>\n",
       "<style scoped>\n",
       "    .dataframe tbody tr th:only-of-type {\n",
       "        vertical-align: middle;\n",
       "    }\n",
       "\n",
       "    .dataframe tbody tr th {\n",
       "        vertical-align: top;\n",
       "    }\n",
       "\n",
       "    .dataframe thead th {\n",
       "        text-align: right;\n",
       "    }\n",
       "</style>\n",
       "<table border=\"1\" class=\"dataframe\">\n",
       "  <thead>\n",
       "    <tr style=\"text-align: right;\">\n",
       "      <th></th>\n",
       "      <th>name</th>\n",
       "      <th>sub_full_node_ratio</th>\n",
       "      <th>distinct_sub_node_ratio</th>\n",
       "    </tr>\n",
       "  </thead>\n",
       "  <tbody>\n",
       "    <tr>\n",
       "      <th>3</th>\n",
       "      <td>最大*最多*最大值*最高</td>\n",
       "      <td>1.041667</td>\n",
       "      <td>0.160000</td>\n",
       "    </tr>\n",
       "    <tr>\n",
       "      <th>0</th>\n",
       "      <td>平均数*均值*平均值*平均</td>\n",
       "      <td>0.017857</td>\n",
       "      <td>0.266667</td>\n",
       "    </tr>\n",
       "    <tr>\n",
       "      <th>4</th>\n",
       "      <td>以下*小于</td>\n",
       "      <td>0.500000</td>\n",
       "      <td>0.333333</td>\n",
       "    </tr>\n",
       "    <tr>\n",
       "      <th>1</th>\n",
       "      <td>以上*大于</td>\n",
       "      <td>0.458333</td>\n",
       "      <td>0.363636</td>\n",
       "    </tr>\n",
       "    <tr>\n",
       "      <th>5</th>\n",
       "      <td>个*总共</td>\n",
       "      <td>0.458333</td>\n",
       "      <td>0.363636</td>\n",
       "    </tr>\n",
       "    <tr>\n",
       "      <th>2</th>\n",
       "      <td>最少*最小值*最小*最低</td>\n",
       "      <td>0.333333</td>\n",
       "      <td>0.500000</td>\n",
       "    </tr>\n",
       "  </tbody>\n",
       "</table>\n",
       "</div>"
      ],
      "text/plain": [
       "            name  sub_full_node_ratio  distinct_sub_node_ratio\n",
       "3   最大*最多*最大值*最高             1.041667                 0.160000\n",
       "0  平均数*均值*平均值*平均             0.017857                 0.266667\n",
       "4          以下*小于             0.500000                 0.333333\n",
       "1          以上*大于             0.458333                 0.363636\n",
       "5           个*总共             0.458333                 0.363636\n",
       "2   最少*最小值*最小*最低             0.333333                 0.500000"
      ]
     },
     "execution_count": 268,
     "metadata": {},
     "output_type": "execute_result"
    }
   ],
   "source": [
    "sub_tree_stats_summary(gold_rule_trie_dict)[[\"name\", \"sub_full_node_ratio\", \"distinct_sub_node_ratio\"]].\\\n",
    "sort_values(by = \"distinct_sub_node_ratio\", ascending = True)"
   ]
  },
  {
   "cell_type": "code",
   "execution_count": 269,
   "metadata": {},
   "outputs": [
    {
     "data": {
      "text/html": [
       "<div>\n",
       "<style scoped>\n",
       "    .dataframe tbody tr th:only-of-type {\n",
       "        vertical-align: middle;\n",
       "    }\n",
       "\n",
       "    .dataframe tbody tr th {\n",
       "        vertical-align: top;\n",
       "    }\n",
       "\n",
       "    .dataframe thead th {\n",
       "        text-align: right;\n",
       "    }\n",
       "</style>\n",
       "<table border=\"1\" class=\"dataframe\">\n",
       "  <thead>\n",
       "    <tr style=\"text-align: right;\">\n",
       "      <th></th>\n",
       "      <th>name</th>\n",
       "      <th>sub_full_node_ratio</th>\n",
       "      <th>distinct_sub_node_ratio</th>\n",
       "    </tr>\n",
       "  </thead>\n",
       "  <tbody>\n",
       "    <tr>\n",
       "      <th>3</th>\n",
       "      <td>最大*最多*最大值*最高</td>\n",
       "      <td>1.041667</td>\n",
       "      <td>0.160000</td>\n",
       "    </tr>\n",
       "    <tr>\n",
       "      <th>4</th>\n",
       "      <td>以下*小于</td>\n",
       "      <td>0.500000</td>\n",
       "      <td>0.333333</td>\n",
       "    </tr>\n",
       "    <tr>\n",
       "      <th>1</th>\n",
       "      <td>以上*大于</td>\n",
       "      <td>0.458333</td>\n",
       "      <td>0.363636</td>\n",
       "    </tr>\n",
       "    <tr>\n",
       "      <th>5</th>\n",
       "      <td>个*总共</td>\n",
       "      <td>0.458333</td>\n",
       "      <td>0.363636</td>\n",
       "    </tr>\n",
       "    <tr>\n",
       "      <th>2</th>\n",
       "      <td>最少*最小值*最小*最低</td>\n",
       "      <td>0.333333</td>\n",
       "      <td>0.500000</td>\n",
       "    </tr>\n",
       "    <tr>\n",
       "      <th>0</th>\n",
       "      <td>平均数*均值*平均值*平均</td>\n",
       "      <td>0.017857</td>\n",
       "      <td>0.266667</td>\n",
       "    </tr>\n",
       "  </tbody>\n",
       "</table>\n",
       "</div>"
      ],
      "text/plain": [
       "            name  sub_full_node_ratio  distinct_sub_node_ratio\n",
       "3   最大*最多*最大值*最高             1.041667                 0.160000\n",
       "4          以下*小于             0.500000                 0.333333\n",
       "1          以上*大于             0.458333                 0.363636\n",
       "5           个*总共             0.458333                 0.363636\n",
       "2   最少*最小值*最小*最低             0.333333                 0.500000\n",
       "0  平均数*均值*平均值*平均             0.017857                 0.266667"
      ]
     },
     "execution_count": 269,
     "metadata": {},
     "output_type": "execute_result"
    }
   ],
   "source": [
    "sub_tree_stats_summary(gold_rule_trie_dict)[[\"name\", \"sub_full_node_ratio\", \"distinct_sub_node_ratio\"]].\\\n",
    "sort_values(by = \"sub_full_node_ratio\", ascending = False)"
   ]
  },
  {
   "cell_type": "code",
   "execution_count": 271,
   "metadata": {},
   "outputs": [
    {
     "data": {
      "text/html": [
       "<div>\n",
       "<style scoped>\n",
       "    .dataframe tbody tr th:only-of-type {\n",
       "        vertical-align: middle;\n",
       "    }\n",
       "\n",
       "    .dataframe tbody tr th {\n",
       "        vertical-align: top;\n",
       "    }\n",
       "\n",
       "    .dataframe thead th {\n",
       "        text-align: right;\n",
       "    }\n",
       "</style>\n",
       "<table border=\"1\" class=\"dataframe\">\n",
       "  <thead>\n",
       "    <tr style=\"text-align: right;\">\n",
       "      <th></th>\n",
       "      <th>name</th>\n",
       "      <th>depth</th>\n",
       "      <th>lines</th>\n",
       "      <th>sub_node_num</th>\n",
       "      <th>distinct_node_num</th>\n",
       "      <th>full_sub_node_num</th>\n",
       "      <th>sub_full_node_ratio</th>\n",
       "      <th>distinct_sub_node_ratio</th>\n",
       "    </tr>\n",
       "  </thead>\n",
       "  <tbody>\n",
       "    <tr>\n",
       "      <th>0</th>\n",
       "      <td>平均数*均值*平均值*平均</td>\n",
       "      <td>4</td>\n",
       "      <td>9</td>\n",
       "      <td>30</td>\n",
       "      <td>8</td>\n",
       "      <td>1680</td>\n",
       "      <td>0.017857</td>\n",
       "      <td>0.266667</td>\n",
       "    </tr>\n",
       "    <tr>\n",
       "      <th>1</th>\n",
       "      <td>以上*大于</td>\n",
       "      <td>4</td>\n",
       "      <td>3</td>\n",
       "      <td>11</td>\n",
       "      <td>4</td>\n",
       "      <td>24</td>\n",
       "      <td>0.458333</td>\n",
       "      <td>0.363636</td>\n",
       "    </tr>\n",
       "    <tr>\n",
       "      <th>2</th>\n",
       "      <td>最少*最小值*最小*最低</td>\n",
       "      <td>4</td>\n",
       "      <td>2</td>\n",
       "      <td>8</td>\n",
       "      <td>4</td>\n",
       "      <td>24</td>\n",
       "      <td>0.333333</td>\n",
       "      <td>0.500000</td>\n",
       "    </tr>\n",
       "    <tr>\n",
       "      <th>3</th>\n",
       "      <td>最大*最多*最大值*最高</td>\n",
       "      <td>4</td>\n",
       "      <td>8</td>\n",
       "      <td>25</td>\n",
       "      <td>4</td>\n",
       "      <td>24</td>\n",
       "      <td>1.041667</td>\n",
       "      <td>0.160000</td>\n",
       "    </tr>\n",
       "    <tr>\n",
       "      <th>4</th>\n",
       "      <td>以下*小于</td>\n",
       "      <td>4</td>\n",
       "      <td>3</td>\n",
       "      <td>12</td>\n",
       "      <td>4</td>\n",
       "      <td>24</td>\n",
       "      <td>0.500000</td>\n",
       "      <td>0.333333</td>\n",
       "    </tr>\n",
       "    <tr>\n",
       "      <th>5</th>\n",
       "      <td>个*总共</td>\n",
       "      <td>4</td>\n",
       "      <td>3</td>\n",
       "      <td>11</td>\n",
       "      <td>4</td>\n",
       "      <td>24</td>\n",
       "      <td>0.458333</td>\n",
       "      <td>0.363636</td>\n",
       "    </tr>\n",
       "  </tbody>\n",
       "</table>\n",
       "</div>"
      ],
      "text/plain": [
       "            name  depth  lines  sub_node_num  distinct_node_num  \\\n",
       "0  平均数*均值*平均值*平均      4      9            30                  8   \n",
       "1          以上*大于      4      3            11                  4   \n",
       "2   最少*最小值*最小*最低      4      2             8                  4   \n",
       "3   最大*最多*最大值*最高      4      8            25                  4   \n",
       "4          以下*小于      4      3            12                  4   \n",
       "5           个*总共      4      3            11                  4   \n",
       "\n",
       "   full_sub_node_num  sub_full_node_ratio  distinct_sub_node_ratio  \n",
       "0               1680             0.017857                 0.266667  \n",
       "1                 24             0.458333                 0.363636  \n",
       "2                 24             0.333333                 0.500000  \n",
       "3                 24             1.041667                 0.160000  \n",
       "4                 24             0.500000                 0.333333  \n",
       "5                 24             0.458333                 0.363636  "
      ]
     },
     "execution_count": 271,
     "metadata": {},
     "output_type": "execute_result"
    }
   ],
   "source": [
    "sub_tree_stats_summary(gold_rule_trie_dict)"
   ]
  },
  {
   "cell_type": "code",
   "execution_count": 286,
   "metadata": {},
   "outputs": [],
   "source": [
    "##### full_sub_node_num 正比于 于靠近根部返回的可能性\n",
    "### 可能靠近根部返回： 平均数*均值*平均值*平均\n",
    "##### lines 反比于 根据metrics(score)过滤规则的有效性 数值越小留下的的越是有效的，\n",
    "### 换句话来说 lines越少 规则子树对于 score 越敏感\n",
    "#### sub_node_num 与 distinct_node_num 与 full_sub_node_num 需要放在一起看\n",
    "### sub_node_num 与 full_sub_node_num 在量级上越靠近 对于所有情况的概括度越强\n",
    "### sub_node_num 与 full_sub_node_num 在量级上越远离 规则子树对于 score 越敏感\n",
    "### distinct_node_num 与 sub_node_num 在量级上越靠近 子树越有效（树枝越窄）\n",
    "### distinct_node_num 与 sub_node_num 在量级上越远离 越可能存在无效子树（树枝越宽）\n",
    "### （生成太多的sub_node未被metrics(score)否定）\n",
    "###   换句话来说也更容易在靠近根部的地方返回\n",
    "\n",
    "##### 需要在宽度上修正的就是 (归并规则，使树变窄，需要修剪)\n",
    "#    lines 大, \n",
    "#    distinct_node_num 与 sub_node_num 在量级上越远离, \n",
    "#    sub_node_num 与 full_sub_node_num 在量级上越靠近\n",
    "##### 需要在深度上修正的就是 (归并规则，使树靠近根部返回，需要修剪)\n",
    "#    full_sub_node_num 大, \n",
    "#    distinct_node_num 与 sub_node_num 在量级上越靠近 \n",
    "\n",
    "##### 符合上面一些结果的规则一般也是得到规则中最有特点和有效的部分规则\n",
    "####  这些有效规则具备更高的优先级，可以为无效规则提供（生存空间），更低优先级。\n",
    "####  而下面比较特殊的不符合的度量的 case 2 实际可以与上面的有效规则并列\n",
    "####  但它们一般不具备为其它规则提供空间的能力。应该对于高置信度部分放到\n",
    "####  靠近根部的地方，方便提前返回。\n",
    "\n",
    "###   不符合的可能存在如下情况：\n",
    "###   1、在数据集层次上符合该规则的样本数量不多，但规则的容错机制使得其没有被metrics(score)淘汰\n",
    "###      换句话来说，可能是规则钻了\"样本不均衡\"的空子。（需要做特殊规则）\n",
    "###   2、该规则确实对于某些类别保持了足够的有效性。(需要少量修剪)\n",
    "\n",
    "##### 综上，树的裁剪问题转化为一个有序重组问题。（考虑优先级、扩容空间与重组）"
   ]
  },
  {
   "cell_type": "code",
   "execution_count": 273,
   "metadata": {},
   "outputs": [
    {
     "data": {
      "text/plain": [
       "'\\n宽度修正：\\nlines 大： 平均数*均值*平均值*平均， 最大*最多*最大值*最高\\ndistinct_node_num 与 sub_node_num 在量级上越远离：平均数*均值*平均值*平均， 最大*最多*最大值*最高\\nsub_node_num 与 full_sub_node_num 在量级上越靠近：最大*最多*最大值*最高\\n\\n深度修正：\\nfull_sub_node_num 大：平均数*均值*平均值*平均\\ndistinct_node_num 与 sub_node_num 在量级上越靠近：最少*最小值*最小*最低\\n\\n不符合上述情况的规则：\\ncase 1: 以上*大于, 以下*小于\\ncase 2: 个*总共\\n'"
      ]
     },
     "execution_count": 273,
     "metadata": {},
     "output_type": "execute_result"
    }
   ],
   "source": [
    "'''\n",
    "宽度修正：\n",
    "lines 大： 平均数*均值*平均值*平均， 最大*最多*最大值*最高\n",
    "distinct_node_num 与 sub_node_num 在量级上越远离：平均数*均值*平均值*平均， 最大*最多*最大值*最高\n",
    "sub_node_num 与 full_sub_node_num 在量级上越靠近：最大*最多*最大值*最高\n",
    "\n",
    "深度修正：\n",
    "full_sub_node_num 大：平均数*均值*平均值*平均\n",
    "distinct_node_num 与 sub_node_num 在量级上越靠近：最少*最小值*最小*最低\n",
    "\n",
    "不符合上述情况的规则：\n",
    "case 1: 以上*大于, 以下*小于\n",
    "case 2: 个*总共\n",
    "'''"
   ]
  },
  {
   "cell_type": "code",
   "execution_count": null,
   "metadata": {},
   "outputs": [],
   "source": [
    "kws_tuple_key_dict = {\n",
    "    ('平均数', '均值', '平均值', '平均',): 1,\n",
    "    \n",
    "    ('最大','最多','最大值','最高',):2,\n",
    "    (\"以上\", \"大于\"): 2,\n",
    "    \n",
    "    ('最少','最小值','最小','最低'):3,\n",
    "    (\"以下\", \"小于\"): 3,\n",
    "    \n",
    "    ('个', '总共'): 4,\n",
    "    (\"几\",):4,\n",
    "    (\"哪些\", \"查\", \"数量\", \"数\"): 4,\n",
    "    \n",
    "    ('总和','加','总','一共','和',):5,\n",
    "    ('多少', \"多大\"): 5\n",
    "}"
   ]
  },
  {
   "cell_type": "code",
   "execution_count": null,
   "metadata": {},
   "outputs": [],
   "source": [
    "##### advice on this kws\n",
    "### 1、combine label 4 and label 5. (can see the acc ratio not maintain among this 2\n",
    "##.    in LableModel.predict)\n",
    "### 2、(\"以上\", \"大于\") and (\"以下\", \"小于\") as special case.\n",
    "### 3、对于剩余规则子树施加：宽度修正 深度修正\n",
    "### 最终规则比较优先级：high_level(4, 5) > (1, 2, 3, low_level(4, 5)) > special case\n",
    "##    为什么这样确定比较优先级，在于剩余规则子树有更多的宽度空间与深度空间，所以可以把\n",
    "##    special case 置于子树中。所以裁剪问题置换为子树重组问题。"
   ]
  },
  {
   "cell_type": "code",
   "execution_count": 274,
   "metadata": {},
   "outputs": [
    {
     "data": {
      "text/plain": [
       "dict_keys(['平均数*均值*平均值*平均', '以上*大于', '最少*最小值*最小*最低', '最大*最多*最大值*最高', '以下*小于', '个*总共'])"
      ]
     },
     "execution_count": 274,
     "metadata": {},
     "output_type": "execute_result"
    }
   ],
   "source": [
    "gold_rule_trie_dict.keys()"
   ]
  },
  {
   "cell_type": "code",
   "execution_count": 284,
   "metadata": {},
   "outputs": [
    {
     "data": {
      "text/plain": [
       "{'平均数*均值*平均值*平均': {'以下*小于': {'最大*最多*最大值*最高': {'多少*多大': {' ': {}}}}},\n",
       " '最大*最多*最大值*最高': {'平均数*均值*平均值*平均': {'以下*小于': {'多少*多大': {' ': {}}}},\n",
       "  '以下*小于': {'平均数*均值*平均值*平均': {'多少*多大': {' ': {}}}}}}"
      ]
     },
     "execution_count": 284,
     "metadata": {},
     "output_type": "execute_result"
    }
   ],
   "source": [
    "gold_rule_trie_dict[\"个*总共\"]"
   ]
  },
  {
   "cell_type": "code",
   "execution_count": 285,
   "metadata": {},
   "outputs": [
    {
     "data": {
      "text/plain": [
       "{'最少*最小值*最小*最低': {'哪些*查*数量*数': {'平均数*均值*平均值*平均': {'总和*加*总*一共*和': {' ': {}}}},\n",
       "  '总和*加*总*一共*和': {'平均数*均值*平均值*平均': {'哪些*查*数量*数': {' ': {}}}}},\n",
       " '哪些*查*数量*数': {'总和*加*总*一共*和': {'最少*最小值*最小*最低': {'平均数*均值*平均值*平均': {' ': {}}}}}}"
      ]
     },
     "execution_count": 285,
     "metadata": {},
     "output_type": "execute_result"
    }
   ],
   "source": [
    "gold_rule_trie_dict[\"以上*大于\"]"
   ]
  },
  {
   "cell_type": "code",
   "execution_count": 275,
   "metadata": {},
   "outputs": [
    {
     "data": {
      "text/plain": [
       "{'以上*大于': {'总和*加*总*一共*和': {'哪些*查*数量*数': {'最少*最小值*最小*最低': {' ': {}}}}},\n",
       " '最少*最小值*最小*最低': {'以上*大于': {'总和*加*总*一共*和': {'哪些*查*数量*数': {' ': {}}}}},\n",
       " '哪些*查*数量*数': {'以上*大于': {'总和*加*总*一共*和': {'最少*最小值*最小*最低': {' ': {}}}}},\n",
       " '个*总共': {'最大*最多*最大值*最高': {'以下*小于': {'多少*多大': {' ': {}}},\n",
       "   '多少*多大': {'以下*小于': {' ': {}}}},\n",
       "  '以下*小于': {'最大*最多*最大值*最高': {'多少*多大': {' ': {}}}}},\n",
       " '多少*多大': {'最大*最多*最大值*最高': {'个*总共': {'以下*小于': {' ': {}}}},\n",
       "  '以下*小于': {'最大*最多*最大值*最高': {'个*总共': {' ': {}}},\n",
       "   '个*总共': {'最大*最多*最大值*最高': {' ': {}}}}}}"
      ]
     },
     "execution_count": 275,
     "metadata": {},
     "output_type": "execute_result"
    }
   ],
   "source": [
    "gold_rule_trie_dict[\"平均数*均值*平均值*平均\"]"
   ]
  },
  {
   "cell_type": "code",
   "execution_count": 277,
   "metadata": {},
   "outputs": [],
   "source": [
    "snokel_train_df_cp = snokel_train_df.copy()"
   ]
  },
  {
   "cell_type": "code",
   "execution_count": 278,
   "metadata": {},
   "outputs": [
    {
     "data": {
      "text/plain": [
       "0.0    36500\n",
       "4.0     2899\n",
       "5.0      995\n",
       "1.0      504\n",
       "2.0      373\n",
       "3.0      248\n",
       "Name: agg, dtype: int64"
      ]
     },
     "execution_count": 278,
     "metadata": {},
     "output_type": "execute_result"
    }
   ],
   "source": [
    "snokel_train_df_cp[\"agg\"].value_counts()"
   ]
  },
  {
   "cell_type": "code",
   "execution_count": 280,
   "metadata": {},
   "outputs": [],
   "source": [
    "snokel_special_train_df = snokel_train_df_cp[snokel_train_df_cp[\"agg\"] != 0].copy()"
   ]
  },
  {
   "cell_type": "code",
   "execution_count": 283,
   "metadata": {},
   "outputs": [
    {
     "data": {
      "text/html": [
       "<div>\n",
       "<style scoped>\n",
       "    .dataframe tbody tr th:only-of-type {\n",
       "        vertical-align: middle;\n",
       "    }\n",
       "\n",
       "    .dataframe tbody tr th {\n",
       "        vertical-align: top;\n",
       "    }\n",
       "\n",
       "    .dataframe thead th {\n",
       "        text-align: right;\n",
       "    }\n",
       "</style>\n",
       "<table border=\"1\" class=\"dataframe\">\n",
       "  <thead>\n",
       "    <tr style=\"text-align: right;\">\n",
       "      <th></th>\n",
       "      <th>question</th>\n",
       "      <th>agg</th>\n",
       "      <th>question_cut</th>\n",
       "    </tr>\n",
       "  </thead>\n",
       "  <tbody>\n",
       "    <tr>\n",
       "      <th>3</th>\n",
       "      <td>规划建筑面积大于 100000或土地出让金大于 20000亿元的同比平均是多少？</td>\n",
       "      <td>1.0</td>\n",
       "      <td>[规划, 建筑面积, 大于,  , 100000, 或, 土地, 出让金, 大于,  , 2...</td>\n",
       "    </tr>\n",
       "    <tr>\n",
       "      <th>4</th>\n",
       "      <td>请问规划建筑面积大于 100000或土地出让金大于 20000亿元的同比平均是多少？</td>\n",
       "      <td>1.0</td>\n",
       "      <td>[请问, 规划, 建筑面积, 大于,  , 100000, 或, 土地, 出让金, 大于, ...</td>\n",
       "    </tr>\n",
       "    <tr>\n",
       "      <th>5</th>\n",
       "      <td>帮我看看规划建筑面积大于 100000或土地出让金大于 20000亿元的同比平均是多少？</td>\n",
       "      <td>1.0</td>\n",
       "      <td>[帮, 我, 看看, 规划, 建筑面积, 大于,  , 100000, 或, 土地, 出让金...</td>\n",
       "    </tr>\n",
       "    <tr>\n",
       "      <th>24</th>\n",
       "      <td>规划建筑面积大于 100000万㎡并且成交楼面均价大于 1000元/㎡的平均溢价率最小 是多少？</td>\n",
       "      <td>3.0</td>\n",
       "      <td>[规划, 建筑面积, 大于,  , 100000, 万, ㎡, 并且, 成交, 楼面, 均价...</td>\n",
       "    </tr>\n",
       "    <tr>\n",
       "      <th>25</th>\n",
       "      <td>请问规划建筑面积大于 100000万㎡并且成交楼面均价大于 1000元/㎡的平均溢价率最小 ...</td>\n",
       "      <td>3.0</td>\n",
       "      <td>[请问, 规划, 建筑面积, 大于,  , 100000, 万, ㎡, 并且, 成交, 楼面...</td>\n",
       "    </tr>\n",
       "  </tbody>\n",
       "</table>\n",
       "</div>"
      ],
      "text/plain": [
       "                                             question  agg  \\\n",
       "3            规划建筑面积大于 100000或土地出让金大于 20000亿元的同比平均是多少？  1.0   \n",
       "4          请问规划建筑面积大于 100000或土地出让金大于 20000亿元的同比平均是多少？  1.0   \n",
       "5        帮我看看规划建筑面积大于 100000或土地出让金大于 20000亿元的同比平均是多少？  1.0   \n",
       "24   规划建筑面积大于 100000万㎡并且成交楼面均价大于 1000元/㎡的平均溢价率最小 是多少？  3.0   \n",
       "25  请问规划建筑面积大于 100000万㎡并且成交楼面均价大于 1000元/㎡的平均溢价率最小 ...  3.0   \n",
       "\n",
       "                                         question_cut  \n",
       "3   [规划, 建筑面积, 大于,  , 100000, 或, 土地, 出让金, 大于,  , 2...  \n",
       "4   [请问, 规划, 建筑面积, 大于,  , 100000, 或, 土地, 出让金, 大于, ...  \n",
       "5   [帮, 我, 看看, 规划, 建筑面积, 大于,  , 100000, 或, 土地, 出让金...  \n",
       "24  [规划, 建筑面积, 大于,  , 100000, 万, ㎡, 并且, 成交, 楼面, 均价...  \n",
       "25  [请问, 规划, 建筑面积, 大于,  , 100000, 万, ㎡, 并且, 成交, 楼面...  "
      ]
     },
     "execution_count": 283,
     "metadata": {},
     "output_type": "execute_result"
    }
   ],
   "source": [
    "snokel_special_train_df.head()"
   ]
  },
  {
   "cell_type": "code",
   "execution_count": 325,
   "metadata": {},
   "outputs": [],
   "source": [
    "def simple_label_func(s):\n",
    "    text_tokens =s.question_cut\n",
    "    #cat_6_collection_high_level = ('多少个', '有几个', '总共') + ('总和','一共',) + (\"哪些\", \"查\", \"数量\")\n",
    "    #cat_6_collection_high_level = ('多少个', '有几个', '总共') + ('总和','一共',)\n",
    "    ##### 高置信度部分 （作为是否构成使用特殊规则的判断标准）\n",
    "    #### case 2 部分 （高置信度有效匹配）\n",
    "    cat_6_collection_high_level =  ('多少个', '有几个', '总共') + ('总和','一共',)\n",
    "    if any(map(lambda high_level_token: high_level_token in \"\".join(text_tokens), cat_6_collection_high_level)):\n",
    "        return 6\n",
    "    \n",
    "    #### 够深 够宽 规则部分 \n",
    "    if any(map(lambda kw: kw in text_tokens, ('平均数', '均值', '平均值', '平均'))):\n",
    "        return 1\n",
    "    if any(map(lambda kw: kw in text_tokens, ('最大', '最多', '最大值', '最高'))):\n",
    "        return 2\n",
    "    if any(map(lambda kw: kw in text_tokens, ('最少', '最小值', '最小', '最低'))):\n",
    "        return 3\n",
    "    \n",
    "    ##### 低置信度部分\n",
    "    #### case 2 部分  (低置信度尾部匹配)\n",
    "    cat_6_collection = ('个', '总共') + ('总和','加','总','一共','和',) + (\"哪些\", \"查\", \"数量\", \"数\") + (\"几\",) +\\\n",
    "    ('多少', \"多大\")\n",
    "    if any(map(lambda kw: kw in text_tokens, cat_6_collection)):\n",
    "        return 6\n",
    "    if any(map(lambda token: \"几\" in token, text_tokens)):\n",
    "        return 6\n",
    "    \n",
    "    #### special case 部分\n",
    "    if any(map(lambda kw: kw in text_tokens, (\"以上\", \"大于\"))):\n",
    "        return 2\n",
    "    if any(map(lambda kw: kw in text_tokens, (\"以下\", \"小于\"))):\n",
    "        return 3\n",
    "    \n",
    "    #### 无效匹配\n",
    "    return 0"
   ]
  },
  {
   "cell_type": "code",
   "execution_count": 395,
   "metadata": {},
   "outputs": [
    {
     "data": {
      "text/html": [
       "<div>\n",
       "<style scoped>\n",
       "    .dataframe tbody tr th:only-of-type {\n",
       "        vertical-align: middle;\n",
       "    }\n",
       "\n",
       "    .dataframe tbody tr th {\n",
       "        vertical-align: top;\n",
       "    }\n",
       "\n",
       "    .dataframe thead th {\n",
       "        text-align: right;\n",
       "    }\n",
       "</style>\n",
       "<table border=\"1\" class=\"dataframe\">\n",
       "  <thead>\n",
       "    <tr style=\"text-align: right;\">\n",
       "      <th></th>\n",
       "      <th>300城市土地出让</th>\n",
       "      <th>规划建筑面积(万㎡)</th>\n",
       "      <th>成交楼面均价(元/㎡)</th>\n",
       "      <th>平均溢价率(%)</th>\n",
       "      <th>土地出让金(亿元)</th>\n",
       "      <th>同比</th>\n",
       "    </tr>\n",
       "  </thead>\n",
       "  <tbody>\n",
       "    <tr>\n",
       "      <th>0</th>\n",
       "      <td>2009年7月-2010年6月</td>\n",
       "      <td>168212.0</td>\n",
       "      <td>1173.0</td>\n",
       "      <td>40.0</td>\n",
       "      <td>20056.0</td>\n",
       "      <td>None</td>\n",
       "    </tr>\n",
       "    <tr>\n",
       "      <th>1</th>\n",
       "      <td>2010年7月-2011年6月</td>\n",
       "      <td>237405.0</td>\n",
       "      <td>1040.0</td>\n",
       "      <td>21.0</td>\n",
       "      <td>24897.0</td>\n",
       "      <td>24.0</td>\n",
       "    </tr>\n",
       "    <tr>\n",
       "      <th>2</th>\n",
       "      <td>2011年7月-2012年6月</td>\n",
       "      <td>199533.0</td>\n",
       "      <td>910.0</td>\n",
       "      <td>6.0</td>\n",
       "      <td>18479.0</td>\n",
       "      <td>-26.0</td>\n",
       "    </tr>\n",
       "    <tr>\n",
       "      <th>3</th>\n",
       "      <td>2012年7月-2013年6月</td>\n",
       "      <td>244512.0</td>\n",
       "      <td>1037.0</td>\n",
       "      <td>12.0</td>\n",
       "      <td>25750.0</td>\n",
       "      <td>39.0</td>\n",
       "    </tr>\n",
       "    <tr>\n",
       "      <th>4</th>\n",
       "      <td>2013年7月-2014年6月</td>\n",
       "      <td>250637.0</td>\n",
       "      <td>1260.0</td>\n",
       "      <td>15.0</td>\n",
       "      <td>32061.0</td>\n",
       "      <td>25.0</td>\n",
       "    </tr>\n",
       "    <tr>\n",
       "      <th>5</th>\n",
       "      <td>2014年7月-2015年6月</td>\n",
       "      <td>150515.0</td>\n",
       "      <td>1246.0</td>\n",
       "      <td>9.0</td>\n",
       "      <td>18885.0</td>\n",
       "      <td>-41.0</td>\n",
       "    </tr>\n",
       "    <tr>\n",
       "      <th>6</th>\n",
       "      <td>2015年7月-2016年6月</td>\n",
       "      <td>155643.0</td>\n",
       "      <td>1567.0</td>\n",
       "      <td>28.0</td>\n",
       "      <td>24738.0</td>\n",
       "      <td>31.0</td>\n",
       "    </tr>\n",
       "    <tr>\n",
       "      <th>7</th>\n",
       "      <td>2016年7月-2017年6月</td>\n",
       "      <td>151707.0</td>\n",
       "      <td>2202.0</td>\n",
       "      <td>41.0</td>\n",
       "      <td>33542.0</td>\n",
       "      <td>36.0</td>\n",
       "    </tr>\n",
       "    <tr>\n",
       "      <th>8</th>\n",
       "      <td>2017年7月-2018年6月</td>\n",
       "      <td>189395.0</td>\n",
       "      <td>2368.0</td>\n",
       "      <td>23.0</td>\n",
       "      <td>44854.0</td>\n",
       "      <td>34.0</td>\n",
       "    </tr>\n",
       "    <tr>\n",
       "      <th>9</th>\n",
       "      <td>2018年7月-2019年6月E</td>\n",
       "      <td>198865.0</td>\n",
       "      <td>2113.0</td>\n",
       "      <td>None</td>\n",
       "      <td>42020.0</td>\n",
       "      <td>-6.0</td>\n",
       "    </tr>\n",
       "    <tr>\n",
       "      <th>10</th>\n",
       "      <td>2018年7月-2018年11月</td>\n",
       "      <td>81564.0</td>\n",
       "      <td>2113.0</td>\n",
       "      <td>8.0</td>\n",
       "      <td>17261.0</td>\n",
       "      <td>None</td>\n",
       "    </tr>\n",
       "  </tbody>\n",
       "</table>\n",
       "</div>"
      ],
      "text/plain": [
       "           300城市土地出让  规划建筑面积(万㎡)  成交楼面均价(元/㎡) 平均溢价率(%)  土地出让金(亿元)    同比\n",
       "0    2009年7月-2010年6月    168212.0       1173.0     40.0    20056.0  None\n",
       "1    2010年7月-2011年6月    237405.0       1040.0     21.0    24897.0  24.0\n",
       "2    2011年7月-2012年6月    199533.0        910.0      6.0    18479.0 -26.0\n",
       "3    2012年7月-2013年6月    244512.0       1037.0     12.0    25750.0  39.0\n",
       "4    2013年7月-2014年6月    250637.0       1260.0     15.0    32061.0  25.0\n",
       "5    2014年7月-2015年6月    150515.0       1246.0      9.0    18885.0 -41.0\n",
       "6    2015年7月-2016年6月    155643.0       1567.0     28.0    24738.0  31.0\n",
       "7    2016年7月-2017年6月    151707.0       2202.0     41.0    33542.0  36.0\n",
       "8    2017年7月-2018年6月    189395.0       2368.0     23.0    44854.0  34.0\n",
       "9   2018年7月-2019年6月E    198865.0       2113.0     None    42020.0  -6.0\n",
       "10  2018年7月-2018年11月     81564.0       2113.0      8.0    17261.0  None"
      ]
     },
     "execution_count": 395,
     "metadata": {},
     "output_type": "execute_result"
    }
   ],
   "source": [
    "first_train_df"
   ]
  },
  {
   "cell_type": "code",
   "execution_count": 411,
   "metadata": {},
   "outputs": [],
   "source": [
    "def simple_special_func(s):\n",
    "    text_tokens =s.question_cut\n",
    "    header = list(map(lambda x: x[:x.find(\"(\")] if (not x.startswith(\"(\") and x.endswith(\")\")) else x ,s.header.split(\",\")))\n",
    "    \n",
    "    #### not contain samples may not match in fuzzy-match, special column mapping in finance,\n",
    "    ### or \"3\" to \"三\"\n",
    "    fit_collection = ('多少个', '有几个', '总共') + ('总和','一共',) + ('平均数', '均值', '平均值', '平均') + \\\n",
    "    ('最大', '最多', '最大值', '最高') + ('最少', '最小值', '最小', '最低')\n",
    "    fit_header = []\n",
    "    for c in header:\n",
    "        for kw in fit_collection:\n",
    "            if kw in c:\n",
    "                start_idx = c.find(kw)\n",
    "                end_idx = start_idx + len(kw)\n",
    "                fit_header.append(c[start_idx: end_idx])\n",
    "                \n",
    "    input_ = \"\".join(text_tokens)\n",
    "    for c in header + fit_header:\n",
    "        input_ = input_.replace(c, \"\")\n",
    "        c0, c1 = c, c\n",
    "        while c0 and c0 not in fit_collection and len(c0) >= 4:\n",
    "            c0 = c0[1:]\n",
    "            input_ = input_.replace(c0, \"\")\n",
    "        while c1 and c1 not in fit_collection and len(c1) >= 4:\n",
    "            c1 = c1[:-1]\n",
    "            input_ = input_.replace(c1, \"\")\n",
    "        \n",
    "    text_tokens = list(jieba.cut(input_))\n",
    "    \n",
    "    #cat_6_collection_high_level = ('多少个', '有几个', '总共') + ('总和','一共',) + (\"哪些\", \"查\", \"数量\")\n",
    "    #cat_6_collection_high_level = ('多少个', '有几个', '总共') + ('总和','一共',)\n",
    "    #### case 2 部分 （高置信度有效匹配）\n",
    "    cat_6_collection_high_level =  ('多少个', '有几个', '总共') + ('总和','一共',)\n",
    "    if any(map(lambda high_level_token: high_level_token in \"\".join(text_tokens), cat_6_collection_high_level)):\n",
    "        return 6\n",
    "    \n",
    "    #### 够深 够宽 规则部分 \n",
    "    if any(map(lambda kw: kw in text_tokens, ('平均数', '均值', '平均值', '平均'))):\n",
    "        return 1\n",
    "    if any(map(lambda kw: kw in text_tokens, ('最大', '最多', '最大值', '最高'))):\n",
    "        return 2\n",
    "    if any(map(lambda kw: kw in text_tokens, ('最少', '最小值', '最小', '最低'))):\n",
    "        return 3\n",
    "    \n",
    "    return 0"
   ]
  },
  {
   "cell_type": "code",
   "execution_count": 415,
   "metadata": {},
   "outputs": [],
   "source": [
    "def simple_total_label_func(s):\n",
    "    is_special = False if simple_special_func(s) == 0 else True\n",
    "    if not is_special:\n",
    "        return 0\n",
    "    return simple_label_func(s)"
   ]
  },
  {
   "cell_type": "code",
   "execution_count": 445,
   "metadata": {},
   "outputs": [],
   "source": [
    "def retrieve_question_header_df():\n",
    "    req = []\n",
    "    for train_df, train_question_df in data_loader(req_table_num = None):\n",
    "        header = train_df.columns.tolist()\n",
    "        question_df = train_question_df[[\"question\"]].applymap(lambda x: x.strip()).copy()\n",
    "        question_df[\"header\"] = \",\".join(header)\n",
    "        req.append(question_df)\n",
    "    return pd.concat(req, axis = 0).drop_duplicates()"
   ]
  },
  {
   "cell_type": "code",
   "execution_count": null,
   "metadata": {},
   "outputs": [],
   "source": [
    "question_header_df = retrieve_question_header_df()"
   ]
  },
  {
   "cell_type": "code",
   "execution_count": 416,
   "metadata": {},
   "outputs": [],
   "source": [
    "snokel_train_df_add_header = pd.merge(snokel_train_df_cp, question_header_df, on = \"question\", how = \"inner\").dropna()"
   ]
  },
  {
   "cell_type": "code",
   "execution_count": 418,
   "metadata": {},
   "outputs": [],
   "source": [
    "snokel_train_df_add_header[\"agg_combined\"] = snokel_train_df_add_header[\"agg\"].map(lambda x: 6 if x in (4, 5) else x)"
   ]
  },
  {
   "cell_type": "code",
   "execution_count": 419,
   "metadata": {},
   "outputs": [],
   "source": [
    "snokel_train_df_add_header[\"simple_prediction\"] = snokel_train_df_add_header.apply(simple_total_label_func, axis = 1)"
   ]
  },
  {
   "cell_type": "code",
   "execution_count": 420,
   "metadata": {},
   "outputs": [
    {
     "data": {
      "text/plain": [
       "True     39218\n",
       "False     2315\n",
       "dtype: int64"
      ]
     },
     "execution_count": 420,
     "metadata": {},
     "output_type": "execute_result"
    }
   ],
   "source": [
    "(snokel_train_df_add_header[\"simple_prediction\"] == snokel_train_df_add_header[\"agg_combined\"]).value_counts()"
   ]
  },
  {
   "cell_type": "code",
   "execution_count": 421,
   "metadata": {},
   "outputs": [
    {
     "data": {
      "text/plain": [
       "0.9442611898971902"
      ]
     },
     "execution_count": 421,
     "metadata": {},
     "output_type": "execute_result"
    }
   ],
   "source": [
    "39218 / (2315 + 39218)"
   ]
  },
  {
   "cell_type": "code",
   "execution_count": 424,
   "metadata": {},
   "outputs": [
    {
     "data": {
      "text/plain": [
       "0.8442635719753829"
      ]
     },
     "execution_count": 424,
     "metadata": {},
     "output_type": "execute_result"
    }
   ],
   "source": [
    "##### max balanced score amoung all permu rules is \n",
    "#### 0.7949533087776138 (acc_score.max()) in agg-explore\n",
    "balanced_accuracy_score(snokel_train_df_add_header[\"agg_combined\"], snokel_train_df_add_header[\"simple_prediction\"])"
   ]
  },
  {
   "cell_type": "code",
   "execution_count": 425,
   "metadata": {},
   "outputs": [
    {
     "name": "stderr",
     "output_type": "stream",
     "text": [
      "/environment/python/versions/miniconda3-4.7.12/lib/python3.7/site-packages/sklearn/metrics/classification.py:1745: UserWarning: y_pred contains classes not in y_true\n",
      "  warnings.warn('y_pred contains classes not in y_true')\n"
     ]
    },
    {
     "data": {
      "text/plain": [
       "0.8100536803386759"
      ]
     },
     "execution_count": 425,
     "metadata": {},
     "output_type": "execute_result"
    }
   ],
   "source": [
    "balanced_accuracy_score(snokel_train_df_add_header[snokel_train_df_add_header[\"agg_combined\"] != 0][\"agg_combined\"], \n",
    "                        snokel_train_df_add_header[snokel_train_df_add_header[\"agg_combined\"] != 0][\"simple_prediction\"])"
   ]
  },
  {
   "cell_type": "code",
   "execution_count": 428,
   "metadata": {},
   "outputs": [],
   "source": [
    "fit_collection = ('多少个', '有几个', '总共') + ('总和','一共',) + ('平均数', '均值', '平均值', '平均') + \\\n",
    "    ('最大', '最多', '最大值', '最高') + ('最少', '最小值', '最小', '最低')\n",
    "snokel_train_df_add_header_not_related_header = snokel_train_df_add_header[snokel_train_df_add_header[\"header\"].map(lambda x: sum(map(lambda c: sum(map(lambda kw: kw in c, fit_collection)) ,x.split(\",\")))) == 0].copy()"
   ]
  },
  {
   "cell_type": "code",
   "execution_count": 429,
   "metadata": {},
   "outputs": [
    {
     "data": {
      "text/plain": [
       "0.0    35469\n",
       "4.0     2809\n",
       "5.0      959\n",
       "1.0      489\n",
       "2.0      344\n",
       "3.0      236\n",
       "Name: agg, dtype: int64"
      ]
     },
     "execution_count": 429,
     "metadata": {},
     "output_type": "execute_result"
    }
   ],
   "source": [
    "snokel_train_df_add_header_not_related_header[\"agg\"].value_counts()"
   ]
  },
  {
   "cell_type": "code",
   "execution_count": 430,
   "metadata": {},
   "outputs": [
    {
     "data": {
      "text/plain": [
       "0.866214279123511"
      ]
     },
     "execution_count": 430,
     "metadata": {},
     "output_type": "execute_result"
    }
   ],
   "source": [
    "balanced_accuracy_score(snokel_train_df_add_header_not_related_header[\"agg_combined\"], snokel_train_df_add_header_not_related_header[\"simple_prediction\"])"
   ]
  },
  {
   "cell_type": "code",
   "execution_count": null,
   "metadata": {},
   "outputs": [],
   "source": []
  },
  {
   "cell_type": "code",
   "execution_count": 431,
   "metadata": {},
   "outputs": [
    {
     "name": "stderr",
     "output_type": "stream",
     "text": [
      "/environment/python/versions/miniconda3-4.7.12/lib/python3.7/site-packages/sklearn/metrics/classification.py:1745: UserWarning: y_pred contains classes not in y_true\n",
      "  warnings.warn('y_pred contains classes not in y_true')\n"
     ]
    },
    {
     "data": {
      "text/plain": [
       "0.8375325730296814"
      ]
     },
     "execution_count": 431,
     "metadata": {},
     "output_type": "execute_result"
    }
   ],
   "source": [
    "balanced_accuracy_score(snokel_train_df_add_header_not_related_header[snokel_train_df_add_header_not_related_header[\"agg_combined\"] != 0][\"agg_combined\"], \n",
    "                        snokel_train_df_add_header_not_related_header[snokel_train_df_add_header_not_related_header[\"agg_combined\"] != 0][\"simple_prediction\"])"
   ]
  },
  {
   "cell_type": "code",
   "execution_count": 432,
   "metadata": {},
   "outputs": [
    {
     "name": "stderr",
     "output_type": "stream",
     "text": [
      "/environment/python/versions/miniconda3-4.7.12/lib/python3.7/site-packages/seaborn/distributions.py:2557: FutureWarning: `distplot` is a deprecated function and will be removed in a future version. Please adapt your code to use either `displot` (a figure-level function with similar flexibility) or `histplot` (an axes-level function for histograms).\n",
      "  warnings.warn(msg, FutureWarning)\n"
     ]
    },
    {
     "data": {
      "text/plain": [
       "<matplotlib.axes._subplots.AxesSubplot at 0x7fe64b0d35d0>"
      ]
     },
     "execution_count": 432,
     "metadata": {},
     "output_type": "execute_result"
    },
    {
     "data": {
      "image/png": "[encoded data removed]",
      "text/plain": [
       "<Figure size 432x288 with 1 Axes>"
      ]
     },
     "metadata": {
      "needs_background": "light"
     },
     "output_type": "display_data"
    }
   ],
   "source": [
    "sns.distplot(snokel_train_df_add_header_not_related_header[\"question\"].map(len))"
   ]
  },
  {
   "cell_type": "code",
   "execution_count": 439,
   "metadata": {},
   "outputs": [],
   "source": [
    "snokel_train_df_add_header_not_related_header_long = snokel_train_df_add_header_not_related_header[snokel_train_df_add_header_not_related_header[\"question\"].map(len) >= 40].copy()"
   ]
  },
  {
   "cell_type": "code",
   "execution_count": 442,
   "metadata": {},
   "outputs": [],
   "source": [
    "snokel_train_df_add_header_not_related_header_short = snokel_train_df_add_header_not_related_header[snokel_train_df_add_header_not_related_header[\"question\"].map(len) < 40].copy()"
   ]
  },
  {
   "cell_type": "code",
   "execution_count": 441,
   "metadata": {},
   "outputs": [
    {
     "data": {
      "text/plain": [
       "0.0    4040\n",
       "4.0     505\n",
       "1.0     189\n",
       "2.0     122\n",
       "3.0      89\n",
       "5.0      80\n",
       "Name: agg, dtype: int64"
      ]
     },
     "execution_count": 441,
     "metadata": {},
     "output_type": "execute_result"
    }
   ],
   "source": [
    "snokel_train_df_add_header_not_related_header_long[\"agg\"].value_counts()"
   ]
  },
  {
   "cell_type": "code",
   "execution_count": 443,
   "metadata": {},
   "outputs": [
    {
     "data": {
      "text/plain": [
       "0.0    31429\n",
       "4.0     2304\n",
       "5.0      879\n",
       "1.0      300\n",
       "2.0      222\n",
       "3.0      147\n",
       "Name: agg, dtype: int64"
      ]
     },
     "execution_count": 443,
     "metadata": {},
     "output_type": "execute_result"
    }
   ],
   "source": [
    "snokel_train_df_add_header_not_related_header_short[\"agg\"].value_counts()"
   ]
  },
  {
   "cell_type": "code",
   "execution_count": 440,
   "metadata": {},
   "outputs": [
    {
     "data": {
      "text/plain": [
       "0.8952582818396865"
      ]
     },
     "execution_count": 440,
     "metadata": {},
     "output_type": "execute_result"
    }
   ],
   "source": [
    "balanced_accuracy_score(snokel_train_df_add_header_not_related_header_long[\"agg_combined\"], snokel_train_df_add_header_not_related_header_long[\"simple_prediction\"])"
   ]
  },
  {
   "cell_type": "code",
   "execution_count": 444,
   "metadata": {},
   "outputs": [
    {
     "data": {
      "text/plain": [
       "0.8543009455831688"
      ]
     },
     "execution_count": 444,
     "metadata": {},
     "output_type": "execute_result"
    }
   ],
   "source": [
    "balanced_accuracy_score(snokel_train_df_add_header_not_related_header_short[\"agg_combined\"], snokel_train_df_add_header_not_related_header_short[\"simple_prediction\"])"
   ]
  },
  {
   "cell_type": "code",
   "execution_count": 485,
   "metadata": {},
   "outputs": [],
   "source": [
    "simple_gold_conclusion = snokel_train_df_add_header.apply(simple_total_label_func, axis = 1)"
   ]
  },
  {
   "cell_type": "code",
   "execution_count": 486,
   "metadata": {},
   "outputs": [
    {
     "data": {
      "text/plain": [
       "0.8442635719753829"
      ]
     },
     "execution_count": 486,
     "metadata": {},
     "output_type": "execute_result"
    }
   ],
   "source": [
    "balanced_accuracy_score(snokel_train_df_add_header[\"agg_combined\"], simple_gold_conclusion)"
   ]
  },
  {
   "cell_type": "code",
   "execution_count": 491,
   "metadata": {},
   "outputs": [],
   "source": [
    "#### remove some header contain string in input.\n",
    "def simple_label_func(s):\n",
    "    text_tokens =s.question_cut\n",
    "    header = list(map(lambda x: x[:x.find(\"(\")] if (not x.startswith(\"(\") and x.endswith(\")\")) else x ,s.header.split(\",\")))\n",
    "    \n",
    "    #### not contain samples may not match in fuzzy-match, special column mapping in finance,\n",
    "    ### or \"3\" to \"三\"\n",
    "    fit_collection = ('多少个', '有几个', '总共') + ('总和','一共',) + ('平均数', '均值', '平均值', '平均') + \\\n",
    "    ('最大', '最多', '最大值', '最高') + ('最少', '最小值', '最小', '最低')\n",
    "    fit_header = []\n",
    "    for c in header:\n",
    "        for kw in fit_collection:\n",
    "            if kw in c:\n",
    "                start_idx = c.find(kw)\n",
    "                end_idx = start_idx + len(kw)\n",
    "                fit_header.append(c[start_idx: end_idx])\n",
    "                \n",
    "    input_ = \"\".join(text_tokens)\n",
    "    for c in header + fit_header:\n",
    "        if c in fit_collection:\n",
    "            continue\n",
    "        input_ = input_.replace(c, \"\")\n",
    "        c0, c1 = c, c\n",
    "        while c0 and c0 not in fit_collection and len(c0) >= 4:\n",
    "            c0 = c0[1:]\n",
    "            if c0 in fit_collection:\n",
    "                break\n",
    "            input_ = input_.replace(c0, \"\")\n",
    "        while c1 and c1 not in fit_collection and len(c1) >= 4:\n",
    "            c1 = c1[:-1]\n",
    "            if c1 in fit_collection:\n",
    "                break\n",
    "            input_ = input_.replace(c1, \"\")\n",
    "        \n",
    "    text_tokens = list(jieba.cut(input_))\n",
    "    \n",
    "    #cat_6_collection_high_level = ('多少个', '有几个', '总共') + ('总和','一共',) + (\"哪些\", \"查\", \"数量\")\n",
    "    #cat_6_collection_high_level = ('多少个', '有几个', '总共') + ('总和','一共',)\n",
    "    ##### 高置信度部分 （作为是否构成使用特殊规则的判断标准）\n",
    "    #### case 2 部分 （高置信度有效匹配）\n",
    "    cat_6_collection_high_level =  ('多少个', '有几个', '总共') + ('总和','一共',)\n",
    "    if any(map(lambda high_level_token: high_level_token in \"\".join(text_tokens), cat_6_collection_high_level)):\n",
    "        return 6\n",
    "    \n",
    "    #### 够深 够宽 规则部分, change order by header, if header have kws in , lower order\n",
    "    if any(map(lambda kw: kw in text_tokens, ('平均数', '均值', '平均值', '平均'))):\n",
    "        return 1\n",
    "    if any(map(lambda kw: kw in text_tokens, ('最大', '最多', '最大值', '最高'))):\n",
    "        return 2\n",
    "    if any(map(lambda kw: kw in text_tokens, ('最少', '最小值', '最小', '最低'))):\n",
    "        return 3\n",
    "    \n",
    "    ##### 低置信度部分\n",
    "    #### case 2 部分  (低置信度尾部匹配)\n",
    "    cat_6_collection = ('个', '总共') + ('总和','加','总','一共','和',) + (\"哪些\", \"查\", \"数量\", \"数\") + (\"几\",) +\\\n",
    "    ('多少', \"多大\")\n",
    "    if any(map(lambda kw: kw in text_tokens, cat_6_collection)):\n",
    "        return 6\n",
    "    if any(map(lambda token: \"几\" in token, text_tokens)):\n",
    "        return 6\n",
    "    \n",
    "    #### special case 部分\n",
    "    if any(map(lambda kw: kw in text_tokens, (\"以上\", \"大于\"))):\n",
    "        return 2\n",
    "    if any(map(lambda kw: kw in text_tokens, (\"以下\", \"小于\"))):\n",
    "        return 3\n",
    "    \n",
    "    #### 无效匹配\n",
    "    return 0"
   ]
  },
  {
   "cell_type": "code",
   "execution_count": 492,
   "metadata": {},
   "outputs": [],
   "source": [
    "def simple_special_func(s):\n",
    "    text_tokens =s.question_cut\n",
    "    header = list(map(lambda x: x[:x.find(\"(\")] if (not x.startswith(\"(\") and x.endswith(\")\")) else x ,s.header.split(\",\")))\n",
    "    \n",
    "    #### not contain samples may not match in fuzzy-match, special column mapping in finance,\n",
    "    ### or \"3\" to \"三\"\n",
    "    fit_collection = ('多少个', '有几个', '总共') + ('总和','一共',) + ('平均数', '均值', '平均值', '平均') + \\\n",
    "    ('最大', '最多', '最大值', '最高') + ('最少', '最小值', '最小', '最低')\n",
    "    fit_header = []\n",
    "    for c in header:\n",
    "        for kw in fit_collection:\n",
    "            if kw in c:\n",
    "                start_idx = c.find(kw)\n",
    "                end_idx = start_idx + len(kw)\n",
    "                fit_header.append(c[start_idx: end_idx])\n",
    "                \n",
    "    input_ = \"\".join(text_tokens)\n",
    "    for c in header + fit_header:\n",
    "        if c in fit_collection:\n",
    "            continue\n",
    "        input_ = input_.replace(c, \"\")\n",
    "        c0, c1 = c, c\n",
    "        while c0 and c0 not in fit_collection and len(c0) >= 4:\n",
    "            c0 = c0[1:]\n",
    "            if c0 in fit_collection:\n",
    "                break\n",
    "            input_ = input_.replace(c0, \"\")\n",
    "        while c1 and c1 not in fit_collection and len(c1) >= 4:\n",
    "            c1 = c1[:-1]\n",
    "            if c1 in fit_collection:\n",
    "                break\n",
    "            input_ = input_.replace(c1, \"\")\n",
    "        \n",
    "    text_tokens = list(jieba.cut(input_))\n",
    "    #ic(text_tokens)\n",
    "    \n",
    "    #cat_6_collection_high_level = ('多少个', '有几个', '总共') + ('总和','一共',) + (\"哪些\", \"查\", \"数量\")\n",
    "    #cat_6_collection_high_level = ('多少个', '有几个', '总共') + ('总和','一共',)\n",
    "    #### case 2 部分 （高置信度有效匹配）\n",
    "    cat_6_collection_high_level =  ('多少个', '有几个', '总共') + ('总和','一共',)\n",
    "    if any(map(lambda high_level_token: high_level_token in \"\".join(text_tokens), cat_6_collection_high_level)):\n",
    "        return 6\n",
    "    \n",
    "    #### 够深 够宽 规则部分 \n",
    "    if any(map(lambda kw: kw in text_tokens, ('平均数', '均值', '平均值', '平均'))):\n",
    "        return 1\n",
    "    if any(map(lambda kw: kw in text_tokens, ('最大', '最多', '最大值', '最高'))):\n",
    "        return 2\n",
    "    if any(map(lambda kw: kw in text_tokens, ('最少', '最小值', '最小', '最低'))):\n",
    "        return 3\n",
    "    \n",
    "    return 0"
   ]
  },
  {
   "cell_type": "code",
   "execution_count": 493,
   "metadata": {},
   "outputs": [],
   "source": [
    "def simple_total_label_func(s):\n",
    "    is_special = False if simple_special_func(s) == 0 else True\n",
    "    if not is_special:\n",
    "        return 0\n",
    "    return simple_label_func(s)"
   ]
  },
  {
   "cell_type": "code",
   "execution_count": 496,
   "metadata": {},
   "outputs": [],
   "source": [
    "simple_gold_conclusion = snokel_train_df_add_header.apply(simple_total_label_func, axis = 1)"
   ]
  },
  {
   "cell_type": "code",
   "execution_count": 497,
   "metadata": {},
   "outputs": [
    {
     "data": {
      "text/plain": [
       "0.8616116961006824"
      ]
     },
     "execution_count": 497,
     "metadata": {},
     "output_type": "execute_result"
    }
   ],
   "source": [
    "# 0.8616116961006824 > 0.8442635719753829\n",
    "# this only test on question_cut not res_cut\n",
    "balanced_accuracy_score(snokel_train_df_add_header[\"agg_combined\"], simple_gold_conclusion)"
   ]
  },
  {
   "cell_type": "code",
   "execution_count": 499,
   "metadata": {},
   "outputs": [
    {
     "data": {
      "text/plain": [
       "0.0    36514\n",
       "4.0     2899\n",
       "5.0      995\n",
       "1.0      504\n",
       "2.0      373\n",
       "3.0      248\n",
       "Name: agg, dtype: int64"
      ]
     },
     "execution_count": 499,
     "metadata": {},
     "output_type": "execute_result"
    }
   ],
   "source": [
    "snokel_train_df_add_header[\"agg\"].value_counts()"
   ]
  },
  {
   "cell_type": "code",
   "execution_count": 501,
   "metadata": {},
   "outputs": [],
   "source": [
    "snokel_train_df_add_header[snokel_train_df_add_header[\"agg\"].isin((4, 5))].to_csv(\"cat6_data.csv\", index = False)"
   ]
  },
  {
   "cell_type": "code",
   "execution_count": 502,
   "metadata": {},
   "outputs": [],
   "source": [
    "cat6_data = snokel_train_df_add_header[snokel_train_df_add_header[\"agg\"].isin((4, 5))].copy()"
   ]
  },
  {
   "cell_type": "code",
   "execution_count": 523,
   "metadata": {},
   "outputs": [],
   "source": [
    "def cat4_qst_unit(s):\n",
    "    question = s.question\n",
    "    unit_kws = (\"只\", \"个\", \"所\", \"条\", \"种\")\n",
    "    qst_kws = (\"多少\", \"几\")\n",
    "    qst_unit_patterns = list(map(lambda t2: \"{}{}\".format(*t2) ,product(qst_kws, unit_kws)))\n",
    "    if any(map(lambda p: p in question, qst_unit_patterns)):\n",
    "        return True\n",
    "    return False"
   ]
  },
  {
   "cell_type": "code",
   "execution_count": 524,
   "metadata": {},
   "outputs": [],
   "source": [
    "#cat4_qst_unit(None)"
   ]
  },
  {
   "cell_type": "code",
   "execution_count": 525,
   "metadata": {},
   "outputs": [
    {
     "data": {
      "text/html": [
       "<div>\n",
       "<style scoped>\n",
       "    .dataframe tbody tr th:only-of-type {\n",
       "        vertical-align: middle;\n",
       "    }\n",
       "\n",
       "    .dataframe tbody tr th {\n",
       "        vertical-align: top;\n",
       "    }\n",
       "\n",
       "    .dataframe thead th {\n",
       "        text-align: right;\n",
       "    }\n",
       "</style>\n",
       "<table border=\"1\" class=\"dataframe\">\n",
       "  <thead>\n",
       "    <tr style=\"text-align: right;\">\n",
       "      <th></th>\n",
       "      <th>question</th>\n",
       "      <th>agg</th>\n",
       "      <th>question_cut</th>\n",
       "      <th>header</th>\n",
       "      <th>agg_combined</th>\n",
       "      <th>simple_prediction</th>\n",
       "    </tr>\n",
       "  </thead>\n",
       "  <tbody>\n",
       "    <tr>\n",
       "      <th>76</th>\n",
       "      <td>我想知道在股市收盘价破六元的股票有多少？</td>\n",
       "      <td>4.0</td>\n",
       "      <td>[我, 想, 知道, 在, 股市, 收盘价, 破, 六元, 的, 股票, 有, 多少, ？]</td>\n",
       "      <td>股票名称,股票代码,收盘价（元）,周涨跌（%）,市值（亿元）,EPS(TTM),PE(TTM)</td>\n",
       "      <td>6.0</td>\n",
       "      <td>0</td>\n",
       "    </tr>\n",
       "    <tr>\n",
       "      <th>642</th>\n",
       "      <td>PE-TTM大于10并且PB大于 1的股票总共有多少？</td>\n",
       "      <td>4.0</td>\n",
       "      <td>[PE, -, TTM, 大于, 10, 并且, PB, 大于,  , 1, 的, 股票, ...</td>\n",
       "      <td>股票代码,股票简称,PE-TTM,PB,PS</td>\n",
       "      <td>6.0</td>\n",
       "      <td>6</td>\n",
       "    </tr>\n",
       "    <tr>\n",
       "      <th>644</th>\n",
       "      <td>请问一下PE-TTM大于10并且PB大于 1的股票总共有多少？</td>\n",
       "      <td>4.0</td>\n",
       "      <td>[请问, 一下, PE, -, TTM, 大于, 10, 并且, PB, 大于,  , 1,...</td>\n",
       "      <td>股票代码,股票简称,PE-TTM,PB,PS</td>\n",
       "      <td>6.0</td>\n",
       "      <td>6</td>\n",
       "    </tr>\n",
       "    <tr>\n",
       "      <th>971</th>\n",
       "      <td>投资总额大于300并且公里数大于 300的线路总共有哪些？</td>\n",
       "      <td>4.0</td>\n",
       "      <td>[投资总额, 大于, 300, 并且, 公里, 数, 大于,  , 300, 的, 线路, ...</td>\n",
       "      <td>时间,线路,起止城市,公里数（km）,设计时速（km/h）,投资总额（亿元）</td>\n",
       "      <td>6.0</td>\n",
       "      <td>6</td>\n",
       "    </tr>\n",
       "    <tr>\n",
       "      <th>972</th>\n",
       "      <td>总共有哪些线路投资总额大于300并且公里数大于 300的？</td>\n",
       "      <td>4.0</td>\n",
       "      <td>[总共, 有, 哪些, 线路, 投资总额, 大于, 300, 并且, 公里, 数, 大于, ...</td>\n",
       "      <td>时间,线路,起止城市,公里数（km）,设计时速（km/h）,投资总额（亿元）</td>\n",
       "      <td>6.0</td>\n",
       "      <td>6</td>\n",
       "    </tr>\n",
       "    <tr>\n",
       "      <th>...</th>\n",
       "      <td>...</td>\n",
       "      <td>...</td>\n",
       "      <td>...</td>\n",
       "      <td>...</td>\n",
       "      <td>...</td>\n",
       "      <td>...</td>\n",
       "    </tr>\n",
       "    <tr>\n",
       "      <th>40910</th>\n",
       "      <td>你好啊，那个有多少家公司抽查不合格啊</td>\n",
       "      <td>4.0</td>\n",
       "      <td>[你好, 啊, ，, 那个, 有, 多少, 家, 公司, 抽查, 不, 合格, 啊]</td>\n",
       "      <td>序号,企业名称,所在省,产品名称,商标,规格型号,生产日期/批号,抽查结果,承检机构</td>\n",
       "      <td>6.0</td>\n",
       "      <td>0</td>\n",
       "    </tr>\n",
       "    <tr>\n",
       "      <th>41082</th>\n",
       "      <td>花都区的商品房数量一共是多少</td>\n",
       "      <td>4.0</td>\n",
       "      <td>[花都区, 的, 商品房, 数量, 一共, 是, 多少]</td>\n",
       "      <td>区域,楼盘,12.30-1.26成交均价,1.27-2.23成交均价,均价相差,变动情况（升...</td>\n",
       "      <td>6.0</td>\n",
       "      <td>6</td>\n",
       "    </tr>\n",
       "    <tr>\n",
       "      <th>41166</th>\n",
       "      <td>你帮我查一下平原校区的实验室数</td>\n",
       "      <td>4.0</td>\n",
       "      <td>[你, 帮, 我查, 一下, 平原, 校区, 的, 实验室, 数]</td>\n",
       "      <td>动物名称,规格型号,需购数量,单位,院系,实验室名称,校区</td>\n",
       "      <td>6.0</td>\n",
       "      <td>0</td>\n",
       "    </tr>\n",
       "    <tr>\n",
       "      <th>41517</th>\n",
       "      <td>你知道目前有多少职位是属于管理类型的吗</td>\n",
       "      <td>4.0</td>\n",
       "      <td>[你, 知道, 目前, 有, 多少, 职位, 是, 属于, 管理, 类型, 的, 吗]</td>\n",
       "      <td>序号,招聘岗位,岗位类别,人数,招聘对象,年龄,专业,学历/学位,专业技术资格</td>\n",
       "      <td>6.0</td>\n",
       "      <td>0</td>\n",
       "    </tr>\n",
       "    <tr>\n",
       "      <th>41518</th>\n",
       "      <td>你帮我查一下那些管理类别的职位数量吧</td>\n",
       "      <td>4.0</td>\n",
       "      <td>[你, 帮, 我查, 一下, 那些, 管理, 类别, 的, 职位, 数量, 吧]</td>\n",
       "      <td>序号,招聘岗位,岗位类别,人数,招聘对象,年龄,专业,学历/学位,专业技术资格</td>\n",
       "      <td>6.0</td>\n",
       "      <td>0</td>\n",
       "    </tr>\n",
       "  </tbody>\n",
       "</table>\n",
       "<p>1454 rows × 6 columns</p>\n",
       "</div>"
      ],
      "text/plain": [
       "                              question  agg  \\\n",
       "76                我想知道在股市收盘价破六元的股票有多少？  4.0   \n",
       "642        PE-TTM大于10并且PB大于 1的股票总共有多少？  4.0   \n",
       "644    请问一下PE-TTM大于10并且PB大于 1的股票总共有多少？  4.0   \n",
       "971      投资总额大于300并且公里数大于 300的线路总共有哪些？  4.0   \n",
       "972      总共有哪些线路投资总额大于300并且公里数大于 300的？  4.0   \n",
       "...                                ...  ...   \n",
       "40910               你好啊，那个有多少家公司抽查不合格啊  4.0   \n",
       "41082                   花都区的商品房数量一共是多少  4.0   \n",
       "41166                  你帮我查一下平原校区的实验室数  4.0   \n",
       "41517              你知道目前有多少职位是属于管理类型的吗  4.0   \n",
       "41518               你帮我查一下那些管理类别的职位数量吧  4.0   \n",
       "\n",
       "                                            question_cut  \\\n",
       "76        [我, 想, 知道, 在, 股市, 收盘价, 破, 六元, 的, 股票, 有, 多少, ？]   \n",
       "642    [PE, -, TTM, 大于, 10, 并且, PB, 大于,  , 1, 的, 股票, ...   \n",
       "644    [请问, 一下, PE, -, TTM, 大于, 10, 并且, PB, 大于,  , 1,...   \n",
       "971    [投资总额, 大于, 300, 并且, 公里, 数, 大于,  , 300, 的, 线路, ...   \n",
       "972    [总共, 有, 哪些, 线路, 投资总额, 大于, 300, 并且, 公里, 数, 大于, ...   \n",
       "...                                                  ...   \n",
       "40910         [你好, 啊, ，, 那个, 有, 多少, 家, 公司, 抽查, 不, 合格, 啊]   \n",
       "41082                       [花都区, 的, 商品房, 数量, 一共, 是, 多少]   \n",
       "41166                  [你, 帮, 我查, 一下, 平原, 校区, 的, 实验室, 数]   \n",
       "41517        [你, 知道, 目前, 有, 多少, 职位, 是, 属于, 管理, 类型, 的, 吗]   \n",
       "41518           [你, 帮, 我查, 一下, 那些, 管理, 类别, 的, 职位, 数量, 吧]   \n",
       "\n",
       "                                                  header  agg_combined  \\\n",
       "76       股票名称,股票代码,收盘价（元）,周涨跌（%）,市值（亿元）,EPS(TTM),PE(TTM)           6.0   \n",
       "642                               股票代码,股票简称,PE-TTM,PB,PS           6.0   \n",
       "644                               股票代码,股票简称,PE-TTM,PB,PS           6.0   \n",
       "971               时间,线路,起止城市,公里数（km）,设计时速（km/h）,投资总额（亿元）           6.0   \n",
       "972               时间,线路,起止城市,公里数（km）,设计时速（km/h）,投资总额（亿元）           6.0   \n",
       "...                                                  ...           ...   \n",
       "40910         序号,企业名称,所在省,产品名称,商标,规格型号,生产日期/批号,抽查结果,承检机构           6.0   \n",
       "41082  区域,楼盘,12.30-1.26成交均价,1.27-2.23成交均价,均价相差,变动情况（升...           6.0   \n",
       "41166                      动物名称,规格型号,需购数量,单位,院系,实验室名称,校区           6.0   \n",
       "41517            序号,招聘岗位,岗位类别,人数,招聘对象,年龄,专业,学历/学位,专业技术资格           6.0   \n",
       "41518            序号,招聘岗位,岗位类别,人数,招聘对象,年龄,专业,学历/学位,专业技术资格           6.0   \n",
       "\n",
       "       simple_prediction  \n",
       "76                     0  \n",
       "642                    6  \n",
       "644                    6  \n",
       "971                    6  \n",
       "972                    6  \n",
       "...                  ...  \n",
       "40910                  0  \n",
       "41082                  6  \n",
       "41166                  0  \n",
       "41517                  0  \n",
       "41518                  0  \n",
       "\n",
       "[1454 rows x 6 columns]"
      ]
     },
     "execution_count": 525,
     "metadata": {},
     "output_type": "execute_result"
    }
   ],
   "source": [
    "cat6_data[cat6_data[\"agg\"] == 4.0][(1 - cat6_data[cat6_data[\"agg\"] == 4.0].apply(cat4_qst_unit, axis = 1)).astype(bool)]"
   ]
  },
  {
   "cell_type": "code",
   "execution_count": 505,
   "metadata": {},
   "outputs": [
    {
     "data": {
      "text/html": [
       "<div>\n",
       "<style scoped>\n",
       "    .dataframe tbody tr th:only-of-type {\n",
       "        vertical-align: middle;\n",
       "    }\n",
       "\n",
       "    .dataframe tbody tr th {\n",
       "        vertical-align: top;\n",
       "    }\n",
       "\n",
       "    .dataframe thead th {\n",
       "        text-align: right;\n",
       "    }\n",
       "</style>\n",
       "<table border=\"1\" class=\"dataframe\">\n",
       "  <thead>\n",
       "    <tr style=\"text-align: right;\">\n",
       "      <th></th>\n",
       "      <th>question</th>\n",
       "      <th>agg</th>\n",
       "      <th>question_cut</th>\n",
       "      <th>header</th>\n",
       "      <th>agg_combined</th>\n",
       "      <th>simple_prediction</th>\n",
       "    </tr>\n",
       "  </thead>\n",
       "  <tbody>\n",
       "    <tr>\n",
       "      <th>75</th>\n",
       "      <td>有几只股票的收盘价破了六块了啊？</td>\n",
       "      <td>4.0</td>\n",
       "      <td>[有, 几只, 股票, 的, 收盘价, 破, 了, 六块, 了, 啊, ？]</td>\n",
       "      <td>股票名称,股票代码,收盘价（元）,周涨跌（%）,市值（亿元）,EPS(TTM),PE(TTM)</td>\n",
       "      <td>6.0</td>\n",
       "      <td>0</td>\n",
       "    </tr>\n",
       "    <tr>\n",
       "      <th>76</th>\n",
       "      <td>我想知道在股市收盘价破六元的股票有多少？</td>\n",
       "      <td>4.0</td>\n",
       "      <td>[我, 想, 知道, 在, 股市, 收盘价, 破, 六元, 的, 股票, 有, 多少, ？]</td>\n",
       "      <td>股票名称,股票代码,收盘价（元）,周涨跌（%）,市值（亿元）,EPS(TTM),PE(TTM)</td>\n",
       "      <td>6.0</td>\n",
       "      <td>0</td>\n",
       "    </tr>\n",
       "    <tr>\n",
       "      <th>77</th>\n",
       "      <td>请问有多少只股票的收盘价超过了六块每股？</td>\n",
       "      <td>4.0</td>\n",
       "      <td>[请问, 有, 多少, 只, 股票, 的, 收盘价, 超过, 了, 六块, 每股, ？]</td>\n",
       "      <td>股票名称,股票代码,收盘价（元）,周涨跌（%）,市值（亿元）,EPS(TTM),PE(TTM)</td>\n",
       "      <td>6.0</td>\n",
       "      <td>0</td>\n",
       "    </tr>\n",
       "    <tr>\n",
       "      <th>81</th>\n",
       "      <td>市值高于二十亿的股票有多少只？</td>\n",
       "      <td>4.0</td>\n",
       "      <td>[市值, 高于, 二十亿, 的, 股票, 有, 多少, 只, ？]</td>\n",
       "      <td>股票名称,股票代码,收盘价（元）,周涨跌（%）,市值（亿元）,EPS(TTM),PE(TTM)</td>\n",
       "      <td>6.0</td>\n",
       "      <td>0</td>\n",
       "    </tr>\n",
       "    <tr>\n",
       "      <th>82</th>\n",
       "      <td>请问有几只股票的市值高于二十啊？</td>\n",
       "      <td>4.0</td>\n",
       "      <td>[请问, 有, 几只, 股票, 的, 市值, 高于, 二十, 啊, ？]</td>\n",
       "      <td>股票名称,股票代码,收盘价（元）,周涨跌（%）,市值（亿元）,EPS(TTM),PE(TTM)</td>\n",
       "      <td>6.0</td>\n",
       "      <td>0</td>\n",
       "    </tr>\n",
       "    <tr>\n",
       "      <th>...</th>\n",
       "      <td>...</td>\n",
       "      <td>...</td>\n",
       "      <td>...</td>\n",
       "      <td>...</td>\n",
       "      <td>...</td>\n",
       "      <td>...</td>\n",
       "    </tr>\n",
       "    <tr>\n",
       "      <th>41491</th>\n",
       "      <td>有多少所学校是要招小学语文老师的？</td>\n",
       "      <td>4.0</td>\n",
       "      <td>[有, 多少, 所, 学校, 是, 要, 招, 小学, 语文, 老师, 的, ？]</td>\n",
       "      <td>招聘单位,招聘岗位,开考岗位数,报名人数</td>\n",
       "      <td>6.0</td>\n",
       "      <td>0</td>\n",
       "    </tr>\n",
       "    <tr>\n",
       "      <th>41492</th>\n",
       "      <td>帮我查查一共有多少所学校是要招小学语文老师的</td>\n",
       "      <td>4.0</td>\n",
       "      <td>[帮, 我, 查查, 一共, 有, 多少, 所, 学校, 是, 要, 招, 小学, 语文, ...</td>\n",
       "      <td>招聘单位,招聘岗位,开考岗位数,报名人数</td>\n",
       "      <td>6.0</td>\n",
       "      <td>6</td>\n",
       "    </tr>\n",
       "    <tr>\n",
       "      <th>41516</th>\n",
       "      <td>一共有几个管理类的岗位啊</td>\n",
       "      <td>4.0</td>\n",
       "      <td>[一共, 有, 几个, 管理, 类, 的, 岗位, 啊]</td>\n",
       "      <td>序号,招聘岗位,岗位类别,人数,招聘对象,年龄,专业,学历/学位,专业技术资格</td>\n",
       "      <td>6.0</td>\n",
       "      <td>6</td>\n",
       "    </tr>\n",
       "    <tr>\n",
       "      <th>41517</th>\n",
       "      <td>你知道目前有多少职位是属于管理类型的吗</td>\n",
       "      <td>4.0</td>\n",
       "      <td>[你, 知道, 目前, 有, 多少, 职位, 是, 属于, 管理, 类型, 的, 吗]</td>\n",
       "      <td>序号,招聘岗位,岗位类别,人数,招聘对象,年龄,专业,学历/学位,专业技术资格</td>\n",
       "      <td>6.0</td>\n",
       "      <td>0</td>\n",
       "    </tr>\n",
       "    <tr>\n",
       "      <th>41518</th>\n",
       "      <td>你帮我查一下那些管理类别的职位数量吧</td>\n",
       "      <td>4.0</td>\n",
       "      <td>[你, 帮, 我查, 一下, 那些, 管理, 类别, 的, 职位, 数量, 吧]</td>\n",
       "      <td>序号,招聘岗位,岗位类别,人数,招聘对象,年龄,专业,学历/学位,专业技术资格</td>\n",
       "      <td>6.0</td>\n",
       "      <td>0</td>\n",
       "    </tr>\n",
       "  </tbody>\n",
       "</table>\n",
       "<p>2899 rows × 6 columns</p>\n",
       "</div>"
      ],
      "text/plain": [
       "                     question  agg  \\\n",
       "75           有几只股票的收盘价破了六块了啊？  4.0   \n",
       "76       我想知道在股市收盘价破六元的股票有多少？  4.0   \n",
       "77       请问有多少只股票的收盘价超过了六块每股？  4.0   \n",
       "81            市值高于二十亿的股票有多少只？  4.0   \n",
       "82           请问有几只股票的市值高于二十啊？  4.0   \n",
       "...                       ...  ...   \n",
       "41491       有多少所学校是要招小学语文老师的？  4.0   \n",
       "41492  帮我查查一共有多少所学校是要招小学语文老师的  4.0   \n",
       "41516            一共有几个管理类的岗位啊  4.0   \n",
       "41517     你知道目前有多少职位是属于管理类型的吗  4.0   \n",
       "41518      你帮我查一下那些管理类别的职位数量吧  4.0   \n",
       "\n",
       "                                            question_cut  \\\n",
       "75                [有, 几只, 股票, 的, 收盘价, 破, 了, 六块, 了, 啊, ？]   \n",
       "76        [我, 想, 知道, 在, 股市, 收盘价, 破, 六元, 的, 股票, 有, 多少, ？]   \n",
       "77          [请问, 有, 多少, 只, 股票, 的, 收盘价, 超过, 了, 六块, 每股, ？]   \n",
       "81                     [市值, 高于, 二十亿, 的, 股票, 有, 多少, 只, ？]   \n",
       "82                  [请问, 有, 几只, 股票, 的, 市值, 高于, 二十, 啊, ？]   \n",
       "...                                                  ...   \n",
       "41491          [有, 多少, 所, 学校, 是, 要, 招, 小学, 语文, 老师, 的, ？]   \n",
       "41492  [帮, 我, 查查, 一共, 有, 多少, 所, 学校, 是, 要, 招, 小学, 语文, ...   \n",
       "41516                       [一共, 有, 几个, 管理, 类, 的, 岗位, 啊]   \n",
       "41517        [你, 知道, 目前, 有, 多少, 职位, 是, 属于, 管理, 类型, 的, 吗]   \n",
       "41518           [你, 帮, 我查, 一下, 那些, 管理, 类别, 的, 职位, 数量, 吧]   \n",
       "\n",
       "                                                header  agg_combined  \\\n",
       "75     股票名称,股票代码,收盘价（元）,周涨跌（%）,市值（亿元）,EPS(TTM),PE(TTM)           6.0   \n",
       "76     股票名称,股票代码,收盘价（元）,周涨跌（%）,市值（亿元）,EPS(TTM),PE(TTM)           6.0   \n",
       "77     股票名称,股票代码,收盘价（元）,周涨跌（%）,市值（亿元）,EPS(TTM),PE(TTM)           6.0   \n",
       "81     股票名称,股票代码,收盘价（元）,周涨跌（%）,市值（亿元）,EPS(TTM),PE(TTM)           6.0   \n",
       "82     股票名称,股票代码,收盘价（元）,周涨跌（%）,市值（亿元）,EPS(TTM),PE(TTM)           6.0   \n",
       "...                                                ...           ...   \n",
       "41491                             招聘单位,招聘岗位,开考岗位数,报名人数           6.0   \n",
       "41492                             招聘单位,招聘岗位,开考岗位数,报名人数           6.0   \n",
       "41516          序号,招聘岗位,岗位类别,人数,招聘对象,年龄,专业,学历/学位,专业技术资格           6.0   \n",
       "41517          序号,招聘岗位,岗位类别,人数,招聘对象,年龄,专业,学历/学位,专业技术资格           6.0   \n",
       "41518          序号,招聘岗位,岗位类别,人数,招聘对象,年龄,专业,学历/学位,专业技术资格           6.0   \n",
       "\n",
       "       simple_prediction  \n",
       "75                     0  \n",
       "76                     0  \n",
       "77                     0  \n",
       "81                     0  \n",
       "82                     0  \n",
       "...                  ...  \n",
       "41491                  0  \n",
       "41492                  6  \n",
       "41516                  6  \n",
       "41517                  0  \n",
       "41518                  0  \n",
       "\n",
       "[2899 rows x 6 columns]"
      ]
     },
     "execution_count": 505,
     "metadata": {},
     "output_type": "execute_result"
    }
   ],
   "source": [
    "cat6_data[cat6_data[\"agg\"] == 4.0]"
   ]
  },
  {
   "cell_type": "code",
   "execution_count": 506,
   "metadata": {},
   "outputs": [
    {
     "data": {
      "text/html": [
       "<div>\n",
       "<style scoped>\n",
       "    .dataframe tbody tr th:only-of-type {\n",
       "        vertical-align: middle;\n",
       "    }\n",
       "\n",
       "    .dataframe tbody tr th {\n",
       "        vertical-align: top;\n",
       "    }\n",
       "\n",
       "    .dataframe thead th {\n",
       "        text-align: right;\n",
       "    }\n",
       "</style>\n",
       "<table border=\"1\" class=\"dataframe\">\n",
       "  <thead>\n",
       "    <tr style=\"text-align: right;\">\n",
       "      <th></th>\n",
       "      <th>question</th>\n",
       "      <th>agg</th>\n",
       "      <th>question_cut</th>\n",
       "      <th>header</th>\n",
       "      <th>agg_combined</th>\n",
       "      <th>simple_prediction</th>\n",
       "    </tr>\n",
       "  </thead>\n",
       "  <tbody>\n",
       "    <tr>\n",
       "      <th>33</th>\n",
       "      <td>你好啊，那个16年和17年商品房销售总额总有多少啊</td>\n",
       "      <td>5.0</td>\n",
       "      <td>[你好, 啊, ，, 那个, 16, 年, 和, 17, 年, 商品房, 销售总额, 总有,...</td>\n",
       "      <td>None,商品房销售额:累计,同比增速,40大中城市:一线城市,同比增速,40大中城市:二线...</td>\n",
       "      <td>6.0</td>\n",
       "      <td>0</td>\n",
       "    </tr>\n",
       "    <tr>\n",
       "      <th>34</th>\n",
       "      <td>诶，那个16年的商品房销售额和那个17年商品房销售额加到一起的话有多少啊</td>\n",
       "      <td>5.0</td>\n",
       "      <td>[诶, ，, 那个, 16, 年, 的, 商品房, 销售额, 和, 那个, 17, 年, 商...</td>\n",
       "      <td>None,商品房销售额:累计,同比增速,40大中城市:一线城市,同比增速,40大中城市:二线...</td>\n",
       "      <td>6.0</td>\n",
       "      <td>0</td>\n",
       "    </tr>\n",
       "    <tr>\n",
       "      <th>35</th>\n",
       "      <td>你能就是帮我算算看16年和17年的商品房销售额一共达到了多少来着</td>\n",
       "      <td>5.0</td>\n",
       "      <td>[你, 能, 就是, 帮, 我, 算算看, 16, 年, 和, 17, 年, 的, 商品房,...</td>\n",
       "      <td>None,商品房销售额:累计,同比增速,40大中城市:一线城市,同比增速,40大中城市:二线...</td>\n",
       "      <td>6.0</td>\n",
       "      <td>6</td>\n",
       "    </tr>\n",
       "    <tr>\n",
       "      <th>372</th>\n",
       "      <td>亚玛顿和四川双马的收盘价加起来是多少</td>\n",
       "      <td>5.0</td>\n",
       "      <td>[亚玛顿, 和, 四川双马, 的, 收盘价, 加, 起来, 是, 多少]</td>\n",
       "      <td>名称,收盘价,涨跌幅</td>\n",
       "      <td>6.0</td>\n",
       "      <td>0</td>\n",
       "    </tr>\n",
       "    <tr>\n",
       "      <th>373</th>\n",
       "      <td>请问一下亚玛顿和四川双马的收盘价总共是多少钱</td>\n",
       "      <td>5.0</td>\n",
       "      <td>[请问, 一下, 亚玛顿, 和, 四川双马, 的, 收盘价, 总共, 是, 多少, 钱]</td>\n",
       "      <td>名称,收盘价,涨跌幅</td>\n",
       "      <td>6.0</td>\n",
       "      <td>6</td>\n",
       "    </tr>\n",
       "    <tr>\n",
       "      <th>...</th>\n",
       "      <td>...</td>\n",
       "      <td>...</td>\n",
       "      <td>...</td>\n",
       "      <td>...</td>\n",
       "      <td>...</td>\n",
       "      <td>...</td>\n",
       "    </tr>\n",
       "    <tr>\n",
       "      <th>40990</th>\n",
       "      <td>想要了解的是有一共有多少人报名了科学技术哲学和外国哲学</td>\n",
       "      <td>5.0</td>\n",
       "      <td>[想要, 了解, 的, 是, 有, 一共, 有, 多少, 人, 报名, 了, 科学技术, 哲...</td>\n",
       "      <td>院系,专业,报名人数,录取人数,其中免试人数,同等学力录取人数</td>\n",
       "      <td>6.0</td>\n",
       "      <td>6</td>\n",
       "    </tr>\n",
       "    <tr>\n",
       "      <th>40991</th>\n",
       "      <td>请问一下科学技术哲学和外国哲学的报名人数总和是多少</td>\n",
       "      <td>5.0</td>\n",
       "      <td>[请问, 一下, 科学技术, 哲学, 和, 外国, 哲学, 的, 报名, 人数, 总和, 是...</td>\n",
       "      <td>院系,专业,报名人数,录取人数,其中免试人数,同等学力录取人数</td>\n",
       "      <td>6.0</td>\n",
       "      <td>6</td>\n",
       "    </tr>\n",
       "    <tr>\n",
       "      <th>41475</th>\n",
       "      <td>开心康乐大学和横枝岗社区老年学堂这两个项目一共资助多少啊</td>\n",
       "      <td>5.0</td>\n",
       "      <td>[开心, 康乐, 大学, 和, 横枝, 岗, 社区, 老年, 学堂, 这, 两个, 项目, ...</td>\n",
       "      <td>序号,区、县级市,项目名称,承办组织,资助金额（万元）</td>\n",
       "      <td>6.0</td>\n",
       "      <td>6</td>\n",
       "    </tr>\n",
       "    <tr>\n",
       "      <th>41476</th>\n",
       "      <td>你帮我算算那个开心康乐大学和横枝岗社区老年学堂两个项目加起来资助金额达到多少万啊</td>\n",
       "      <td>5.0</td>\n",
       "      <td>[你, 帮, 我, 算算, 那个, 开心, 康乐, 大学, 和, 横枝, 岗, 社区, 老年...</td>\n",
       "      <td>序号,区、县级市,项目名称,承办组织,资助金额（万元）</td>\n",
       "      <td>6.0</td>\n",
       "      <td>0</td>\n",
       "    </tr>\n",
       "    <tr>\n",
       "      <th>41477</th>\n",
       "      <td>我想知道就是开心康乐大学资助金加上横枝岗社区老年学堂资助金的话会有多少啊</td>\n",
       "      <td>5.0</td>\n",
       "      <td>[我, 想, 知道, 就是, 开心, 康乐, 大学, 资助金, 加上, 横枝, 岗, 社区,...</td>\n",
       "      <td>序号,区、县级市,项目名称,承办组织,资助金额（万元）</td>\n",
       "      <td>6.0</td>\n",
       "      <td>0</td>\n",
       "    </tr>\n",
       "  </tbody>\n",
       "</table>\n",
       "<p>995 rows × 6 columns</p>\n",
       "</div>"
      ],
      "text/plain": [
       "                                       question  agg  \\\n",
       "33                    你好啊，那个16年和17年商品房销售总额总有多少啊  5.0   \n",
       "34         诶，那个16年的商品房销售额和那个17年商品房销售额加到一起的话有多少啊  5.0   \n",
       "35             你能就是帮我算算看16年和17年的商品房销售额一共达到了多少来着  5.0   \n",
       "372                          亚玛顿和四川双马的收盘价加起来是多少  5.0   \n",
       "373                      请问一下亚玛顿和四川双马的收盘价总共是多少钱  5.0   \n",
       "...                                         ...  ...   \n",
       "40990               想要了解的是有一共有多少人报名了科学技术哲学和外国哲学  5.0   \n",
       "40991                 请问一下科学技术哲学和外国哲学的报名人数总和是多少  5.0   \n",
       "41475              开心康乐大学和横枝岗社区老年学堂这两个项目一共资助多少啊  5.0   \n",
       "41476  你帮我算算那个开心康乐大学和横枝岗社区老年学堂两个项目加起来资助金额达到多少万啊  5.0   \n",
       "41477      我想知道就是开心康乐大学资助金加上横枝岗社区老年学堂资助金的话会有多少啊  5.0   \n",
       "\n",
       "                                            question_cut  \\\n",
       "33     [你好, 啊, ，, 那个, 16, 年, 和, 17, 年, 商品房, 销售总额, 总有,...   \n",
       "34     [诶, ，, 那个, 16, 年, 的, 商品房, 销售额, 和, 那个, 17, 年, 商...   \n",
       "35     [你, 能, 就是, 帮, 我, 算算看, 16, 年, 和, 17, 年, 的, 商品房,...   \n",
       "372                 [亚玛顿, 和, 四川双马, 的, 收盘价, 加, 起来, 是, 多少]   \n",
       "373         [请问, 一下, 亚玛顿, 和, 四川双马, 的, 收盘价, 总共, 是, 多少, 钱]   \n",
       "...                                                  ...   \n",
       "40990  [想要, 了解, 的, 是, 有, 一共, 有, 多少, 人, 报名, 了, 科学技术, 哲...   \n",
       "40991  [请问, 一下, 科学技术, 哲学, 和, 外国, 哲学, 的, 报名, 人数, 总和, 是...   \n",
       "41475  [开心, 康乐, 大学, 和, 横枝, 岗, 社区, 老年, 学堂, 这, 两个, 项目, ...   \n",
       "41476  [你, 帮, 我, 算算, 那个, 开心, 康乐, 大学, 和, 横枝, 岗, 社区, 老年...   \n",
       "41477  [我, 想, 知道, 就是, 开心, 康乐, 大学, 资助金, 加上, 横枝, 岗, 社区,...   \n",
       "\n",
       "                                                  header  agg_combined  \\\n",
       "33     None,商品房销售额:累计,同比增速,40大中城市:一线城市,同比增速,40大中城市:二线...           6.0   \n",
       "34     None,商品房销售额:累计,同比增速,40大中城市:一线城市,同比增速,40大中城市:二线...           6.0   \n",
       "35     None,商品房销售额:累计,同比增速,40大中城市:一线城市,同比增速,40大中城市:二线...           6.0   \n",
       "372                                           名称,收盘价,涨跌幅           6.0   \n",
       "373                                           名称,收盘价,涨跌幅           6.0   \n",
       "...                                                  ...           ...   \n",
       "40990                    院系,专业,报名人数,录取人数,其中免试人数,同等学力录取人数           6.0   \n",
       "40991                    院系,专业,报名人数,录取人数,其中免试人数,同等学力录取人数           6.0   \n",
       "41475                        序号,区、县级市,项目名称,承办组织,资助金额（万元）           6.0   \n",
       "41476                        序号,区、县级市,项目名称,承办组织,资助金额（万元）           6.0   \n",
       "41477                        序号,区、县级市,项目名称,承办组织,资助金额（万元）           6.0   \n",
       "\n",
       "       simple_prediction  \n",
       "33                     0  \n",
       "34                     0  \n",
       "35                     6  \n",
       "372                    0  \n",
       "373                    6  \n",
       "...                  ...  \n",
       "40990                  6  \n",
       "40991                  6  \n",
       "41475                  6  \n",
       "41476                  0  \n",
       "41477                  0  \n",
       "\n",
       "[995 rows x 6 columns]"
      ]
     },
     "execution_count": 506,
     "metadata": {},
     "output_type": "execute_result"
    }
   ],
   "source": [
    "cat6_data[cat6_data[\"agg\"] == 5.0]"
   ]
  },
  {
   "cell_type": "code",
   "execution_count": null,
   "metadata": {},
   "outputs": [],
   "source": []
  }
 ],
 "metadata": {
  "kernelspec": {
   "display_name": "Python 3",
   "language": "python",
   "name": "python3"
  },
  "language_info": {
   "codemirror_mode": {
    "name": "ipython",
    "version": 3
   },
   "file_extension": ".py",
   "mimetype": "text/x-python",
   "name": "python",
   "nbconvert_exporter": "python",
   "pygments_lexer": "ipython3",
   "version": "3.8.3"
  }
 },
 "nbformat": 4,
 "nbformat_minor": 5
}
