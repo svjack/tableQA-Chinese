{
 "cells": [
  {
   "cell_type": "code",
   "execution_count": 2,
   "id": "innovative-halloween",
   "metadata": {},
   "outputs": [],
   "source": [
    "from tableQA_single_table import *"
   ]
  },
  {
   "cell_type": "code",
   "execution_count": 3,
   "id": "final-collapse",
   "metadata": {},
   "outputs": [],
   "source": [
    "req = list(data_loader(req_table_num=None))"
   ]
  },
  {
   "cell_type": "code",
   "execution_count": 4,
   "id": "valued-exclusion",
   "metadata": {},
   "outputs": [
    {
     "name": "stderr",
     "output_type": "stream",
     "text": [
      "Building prefix dict from the default dictionary ...\n",
      "Loading model from cache /tmp/jieba.cache\n",
      "Loading model cost 0.455 seconds.\n",
      "Prefix dict has been built successfully.\n"
     ]
    },
    {
     "data": {
      "text/html": [
       "<div>\n",
       "<style scoped>\n",
       "    .dataframe tbody tr th:only-of-type {\n",
       "        vertical-align: middle;\n",
       "    }\n",
       "\n",
       "    .dataframe tbody tr th {\n",
       "        vertical-align: top;\n",
       "    }\n",
       "\n",
       "    .dataframe thead th {\n",
       "        text-align: right;\n",
       "    }\n",
       "</style>\n",
       "<table border=\"1\" class=\"dataframe\">\n",
       "  <thead>\n",
       "    <tr style=\"text-align: right;\">\n",
       "      <th></th>\n",
       "      <th>question</th>\n",
       "      <th>total_conds_filtered</th>\n",
       "      <th>conn_pred</th>\n",
       "      <th>question_column</th>\n",
       "      <th>agg_pred</th>\n",
       "    </tr>\n",
       "  </thead>\n",
       "  <tbody>\n",
       "    <tr>\n",
       "      <th>0</th>\n",
       "      <td>哪些股票的收盘价大于20？</td>\n",
       "      <td>[(收盘价（元）, &gt;, 20)]</td>\n",
       "      <td></td>\n",
       "      <td>股票代码</td>\n",
       "      <td></td>\n",
       "    </tr>\n",
       "  </tbody>\n",
       "</table>\n",
       "</div>"
      ],
      "text/plain": [
       "        question total_conds_filtered conn_pred question_column agg_pred\n",
       "0  哪些股票的收盘价大于20？    [(收盘价（元）, >, 20)]                      股票代码         "
      ]
     },
     "execution_count": 4,
     "metadata": {},
     "output_type": "execute_result"
    }
   ],
   "source": [
    "train_df, _ = req[2]\n",
    "train_df\n",
    "question = \"哪些股票的收盘价大于20？\"\n",
    "qs_df = pd.DataFrame([[question]], columns = [\"question\"])\n",
    "full_before_cat_decomp(train_df, qs_df, only_req_columns=True)"
   ]
  },
  {
   "cell_type": "code",
   "execution_count": 5,
   "id": "laughing-explorer",
   "metadata": {},
   "outputs": [
    {
     "data": {
      "text/html": [
       "<div>\n",
       "<style scoped>\n",
       "    .dataframe tbody tr th:only-of-type {\n",
       "        vertical-align: middle;\n",
       "    }\n",
       "\n",
       "    .dataframe tbody tr th {\n",
       "        vertical-align: top;\n",
       "    }\n",
       "\n",
       "    .dataframe thead th {\n",
       "        text-align: right;\n",
       "    }\n",
       "</style>\n",
       "<table border=\"1\" class=\"dataframe\">\n",
       "  <thead>\n",
       "    <tr style=\"text-align: right;\">\n",
       "      <th></th>\n",
       "      <th>question</th>\n",
       "      <th>total_conds_filtered</th>\n",
       "      <th>conn_pred</th>\n",
       "      <th>question_column</th>\n",
       "      <th>agg_pred</th>\n",
       "    </tr>\n",
       "  </thead>\n",
       "  <tbody>\n",
       "    <tr>\n",
       "      <th>0</th>\n",
       "      <td>哪个股票代码市值最高？</td>\n",
       "      <td>[]</td>\n",
       "      <td></td>\n",
       "      <td>股票代码</td>\n",
       "      <td>MAX</td>\n",
       "    </tr>\n",
       "  </tbody>\n",
       "</table>\n",
       "</div>"
      ],
      "text/plain": [
       "      question total_conds_filtered conn_pred question_column agg_pred\n",
       "0  哪个股票代码市值最高？                   []                      股票代码      MAX"
      ]
     },
     "execution_count": 5,
     "metadata": {},
     "output_type": "execute_result"
    }
   ],
   "source": [
    "#### not support select 股票 from table where 市值 = （select max(市值) from table）\n",
    "#### this is a nest sql.\n",
    "question = \"哪个股票代码市值最高？\"\n",
    "qs_df = pd.DataFrame([[question]], columns = [\"question\"])\n",
    "full_before_cat_decomp(train_df, qs_df, only_req_columns=True)"
   ]
  },
  {
   "cell_type": "code",
   "execution_count": 6,
   "id": "stupid-residence",
   "metadata": {},
   "outputs": [
    {
     "data": {
      "text/html": [
       "<div>\n",
       "<style scoped>\n",
       "    .dataframe tbody tr th:only-of-type {\n",
       "        vertical-align: middle;\n",
       "    }\n",
       "\n",
       "    .dataframe tbody tr th {\n",
       "        vertical-align: top;\n",
       "    }\n",
       "\n",
       "    .dataframe thead th {\n",
       "        text-align: right;\n",
       "    }\n",
       "</style>\n",
       "<table border=\"1\" class=\"dataframe\">\n",
       "  <thead>\n",
       "    <tr style=\"text-align: right;\">\n",
       "      <th></th>\n",
       "      <th>question</th>\n",
       "      <th>total_conds_filtered</th>\n",
       "      <th>conn_pred</th>\n",
       "      <th>question_column</th>\n",
       "      <th>agg_pred</th>\n",
       "    </tr>\n",
       "  </thead>\n",
       "  <tbody>\n",
       "    <tr>\n",
       "      <th>0</th>\n",
       "      <td>市值的最大值是多少？</td>\n",
       "      <td>[]</td>\n",
       "      <td></td>\n",
       "      <td>市值（亿元）</td>\n",
       "      <td>MAX</td>\n",
       "    </tr>\n",
       "  </tbody>\n",
       "</table>\n",
       "</div>"
      ],
      "text/plain": [
       "     question total_conds_filtered conn_pred question_column agg_pred\n",
       "0  市值的最大值是多少？                   []                    市值（亿元）      MAX"
      ]
     },
     "execution_count": 6,
     "metadata": {},
     "output_type": "execute_result"
    }
   ],
   "source": [
    "question = \"市值的最大值是多少？\"\n",
    "qs_df = pd.DataFrame([[question]], columns = [\"question\"])\n",
    "full_before_cat_decomp(train_df, qs_df, only_req_columns=True)"
   ]
  },
  {
   "cell_type": "code",
   "execution_count": 7,
   "id": "capable-thickness",
   "metadata": {},
   "outputs": [
    {
     "data": {
      "text/html": [
       "<div>\n",
       "<style scoped>\n",
       "    .dataframe tbody tr th:only-of-type {\n",
       "        vertical-align: middle;\n",
       "    }\n",
       "\n",
       "    .dataframe tbody tr th {\n",
       "        vertical-align: top;\n",
       "    }\n",
       "\n",
       "    .dataframe thead th {\n",
       "        text-align: right;\n",
       "    }\n",
       "</style>\n",
       "<table border=\"1\" class=\"dataframe\">\n",
       "  <thead>\n",
       "    <tr style=\"text-align: right;\">\n",
       "      <th></th>\n",
       "      <th>question</th>\n",
       "      <th>total_conds_filtered</th>\n",
       "      <th>conn_pred</th>\n",
       "      <th>question_column</th>\n",
       "      <th>agg_pred</th>\n",
       "    </tr>\n",
       "  </thead>\n",
       "  <tbody>\n",
       "    <tr>\n",
       "      <th>0</th>\n",
       "      <td>EPS大于0的股票有哪些？</td>\n",
       "      <td>[(EPS(TTM), &gt;, 0)]</td>\n",
       "      <td></td>\n",
       "      <td>股票代码</td>\n",
       "      <td></td>\n",
       "    </tr>\n",
       "  </tbody>\n",
       "</table>\n",
       "</div>"
      ],
      "text/plain": [
       "        question total_conds_filtered conn_pred question_column agg_pred\n",
       "0  EPS大于0的股票有哪些？   [(EPS(TTM), >, 0)]                      股票代码         "
      ]
     },
     "execution_count": 7,
     "metadata": {},
     "output_type": "execute_result"
    }
   ],
   "source": [
    "question = \"EPS大于0的股票有哪些？\"\n",
    "qs_df = pd.DataFrame([[question]], columns = [\"question\"])\n",
    "full_before_cat_decomp(train_df, qs_df, only_req_columns=True)"
   ]
  },
  {
   "cell_type": "code",
   "execution_count": 8,
   "id": "nonprofit-blond",
   "metadata": {},
   "outputs": [
    {
     "data": {
      "text/html": [
       "<div>\n",
       "<style scoped>\n",
       "    .dataframe tbody tr th:only-of-type {\n",
       "        vertical-align: middle;\n",
       "    }\n",
       "\n",
       "    .dataframe tbody tr th {\n",
       "        vertical-align: top;\n",
       "    }\n",
       "\n",
       "    .dataframe thead th {\n",
       "        text-align: right;\n",
       "    }\n",
       "</style>\n",
       "<table border=\"1\" class=\"dataframe\">\n",
       "  <thead>\n",
       "    <tr style=\"text-align: right;\">\n",
       "      <th></th>\n",
       "      <th>question</th>\n",
       "      <th>total_conds_filtered</th>\n",
       "      <th>conn_pred</th>\n",
       "      <th>question_column</th>\n",
       "      <th>agg_pred</th>\n",
       "    </tr>\n",
       "  </thead>\n",
       "  <tbody>\n",
       "    <tr>\n",
       "      <th>0</th>\n",
       "      <td>EPS大于0且周涨跌大于5的平均市值是多少？</td>\n",
       "      <td>[(EPS(TTM), &gt;, 0), (周涨跌（%）, &gt;, 5)]</td>\n",
       "      <td>and</td>\n",
       "      <td>市值（亿元）</td>\n",
       "      <td>AVG</td>\n",
       "    </tr>\n",
       "  </tbody>\n",
       "</table>\n",
       "</div>"
      ],
      "text/plain": [
       "                 question                total_conds_filtered conn_pred  \\\n",
       "0  EPS大于0且周涨跌大于5的平均市值是多少？  [(EPS(TTM), >, 0), (周涨跌（%）, >, 5)]       and   \n",
       "\n",
       "  question_column agg_pred  \n",
       "0          市值（亿元）      AVG  "
      ]
     },
     "execution_count": 8,
     "metadata": {},
     "output_type": "execute_result"
    }
   ],
   "source": [
    "question = \"EPS大于0且周涨跌大于5的平均市值是多少？\"\n",
    "qs_df = pd.DataFrame([[question]], columns = [\"question\"])\n",
    "full_before_cat_decomp(train_df, qs_df, only_req_columns=True)"
   ]
  },
  {
   "cell_type": "code",
   "execution_count": 9,
   "id": "sublime-broadcasting",
   "metadata": {},
   "outputs": [
    {
     "data": {
      "text/html": [
       "<div>\n",
       "<style scoped>\n",
       "    .dataframe tbody tr th:only-of-type {\n",
       "        vertical-align: middle;\n",
       "    }\n",
       "\n",
       "    .dataframe tbody tr th {\n",
       "        vertical-align: top;\n",
       "    }\n",
       "\n",
       "    .dataframe thead th {\n",
       "        text-align: right;\n",
       "    }\n",
       "</style>\n",
       "<table border=\"1\" class=\"dataframe\">\n",
       "  <thead>\n",
       "    <tr style=\"text-align: right;\">\n",
       "      <th></th>\n",
       "      <th>question</th>\n",
       "      <th>total_conds_filtered</th>\n",
       "      <th>conn_pred</th>\n",
       "      <th>question_column</th>\n",
       "      <th>agg_pred</th>\n",
       "    </tr>\n",
       "  </thead>\n",
       "  <tbody>\n",
       "    <tr>\n",
       "      <th>0</th>\n",
       "      <td>产能小于20、销量大于40而且市场占有率超过1的公司有哪些？</td>\n",
       "      <td>[(产能（万吨）, &lt;, 20), (市场占有率, &gt;, 1)]</td>\n",
       "      <td>and</td>\n",
       "      <td>公司</td>\n",
       "      <td></td>\n",
       "    </tr>\n",
       "  </tbody>\n",
       "</table>\n",
       "</div>"
      ],
      "text/plain": [
       "                         question              total_conds_filtered conn_pred  \\\n",
       "0  产能小于20、销量大于40而且市场占有率超过1的公司有哪些？  [(产能（万吨）, <, 20), (市场占有率, >, 1)]       and   \n",
       "\n",
       "  question_column agg_pred  \n",
       "0              公司           "
      ]
     },
     "execution_count": 9,
     "metadata": {},
     "output_type": "execute_result"
    }
   ],
   "source": [
    "train_df, _ = req[5]\n",
    "train_df\n",
    "question = \"产能小于20、销量大于40而且市场占有率超过1的公司有哪些？\"\n",
    "qs_df = pd.DataFrame([[question]], columns = [\"question\"])\n",
    "full_before_cat_decomp(train_df, qs_df, only_req_columns=True)"
   ]
  },
  {
   "cell_type": "code",
   "execution_count": 10,
   "id": "expected-algeria",
   "metadata": {},
   "outputs": [
    {
     "data": {
      "text/html": [
       "<div>\n",
       "<style scoped>\n",
       "    .dataframe tbody tr th:only-of-type {\n",
       "        vertical-align: middle;\n",
       "    }\n",
       "\n",
       "    .dataframe tbody tr th {\n",
       "        vertical-align: top;\n",
       "    }\n",
       "\n",
       "    .dataframe thead th {\n",
       "        text-align: right;\n",
       "    }\n",
       "</style>\n",
       "<table border=\"1\" class=\"dataframe\">\n",
       "  <thead>\n",
       "    <tr style=\"text-align: right;\">\n",
       "      <th></th>\n",
       "      <th>question</th>\n",
       "      <th>total_conds_filtered</th>\n",
       "      <th>conn_pred</th>\n",
       "      <th>question_column</th>\n",
       "      <th>agg_pred</th>\n",
       "    </tr>\n",
       "  </thead>\n",
       "  <tbody>\n",
       "    <tr>\n",
       "      <th>0</th>\n",
       "      <td>产能小于20而且销量大于40而且市场占有率超过1的公司有哪些？</td>\n",
       "      <td>[(产能（万吨）, &lt;, 20), (市场占有率, &gt;, 1), (销量（万吨）, &gt;, 40)]</td>\n",
       "      <td>and</td>\n",
       "      <td>公司</td>\n",
       "      <td></td>\n",
       "    </tr>\n",
       "  </tbody>\n",
       "</table>\n",
       "</div>"
      ],
      "text/plain": [
       "                          question  \\\n",
       "0  产能小于20而且销量大于40而且市场占有率超过1的公司有哪些？   \n",
       "\n",
       "                                total_conds_filtered conn_pred  \\\n",
       "0  [(产能（万吨）, <, 20), (市场占有率, >, 1), (销量（万吨）, >, 40)]       and   \n",
       "\n",
       "  question_column agg_pred  \n",
       "0              公司           "
      ]
     },
     "execution_count": 10,
     "metadata": {},
     "output_type": "execute_result"
    }
   ],
   "source": [
    "question = \"产能小于20而且销量大于40而且市场占有率超过1的公司有哪些？\"\n",
    "qs_df = pd.DataFrame([[question]], columns = [\"question\"])\n",
    "full_before_cat_decomp(train_df, qs_df, only_req_columns=True)"
   ]
  },
  {
   "cell_type": "code",
   "execution_count": 11,
   "id": "recreational-reputation",
   "metadata": {},
   "outputs": [
    {
     "data": {
      "text/html": [
       "<div>\n",
       "<style scoped>\n",
       "    .dataframe tbody tr th:only-of-type {\n",
       "        vertical-align: middle;\n",
       "    }\n",
       "\n",
       "    .dataframe tbody tr th {\n",
       "        vertical-align: top;\n",
       "    }\n",
       "\n",
       "    .dataframe thead th {\n",
       "        text-align: right;\n",
       "    }\n",
       "</style>\n",
       "<table border=\"1\" class=\"dataframe\">\n",
       "  <thead>\n",
       "    <tr style=\"text-align: right;\">\n",
       "      <th></th>\n",
       "      <th>question</th>\n",
       "      <th>total_conds_filtered</th>\n",
       "      <th>conn_pred</th>\n",
       "      <th>question_column</th>\n",
       "      <th>agg_pred</th>\n",
       "    </tr>\n",
       "  </thead>\n",
       "  <tbody>\n",
       "    <tr>\n",
       "      <th>0</th>\n",
       "      <td>投资评级为维持的名称有哪些？</td>\n",
       "      <td>[(投资评级, ==, 维持)]</td>\n",
       "      <td></td>\n",
       "      <td>名称</td>\n",
       "      <td></td>\n",
       "    </tr>\n",
       "  </tbody>\n",
       "</table>\n",
       "</div>"
      ],
      "text/plain": [
       "         question total_conds_filtered conn_pred question_column agg_pred\n",
       "0  投资评级为维持的名称有哪些？     [(投资评级, ==, 维持)]                        名称         "
      ]
     },
     "execution_count": 11,
     "metadata": {},
     "output_type": "execute_result"
    }
   ],
   "source": [
    "train_df, _ = req[6]\n",
    "train_df\n",
    "#### 加入列别名 只需要 复刻列即可\n",
    "question = \"投资评级为维持的名称有哪些？\"\n",
    "qs_df = pd.DataFrame([[question]], columns = [\"question\"])\n",
    "full_before_cat_decomp(train_df, qs_df, only_req_columns=True)"
   ]
  },
  {
   "cell_type": "code",
   "execution_count": 12,
   "id": "dutch-tiger",
   "metadata": {},
   "outputs": [
    {
     "data": {
      "text/html": [
       "<div>\n",
       "<style scoped>\n",
       "    .dataframe tbody tr th:only-of-type {\n",
       "        vertical-align: middle;\n",
       "    }\n",
       "\n",
       "    .dataframe tbody tr th {\n",
       "        vertical-align: top;\n",
       "    }\n",
       "\n",
       "    .dataframe thead th {\n",
       "        text-align: right;\n",
       "    }\n",
       "</style>\n",
       "<table border=\"1\" class=\"dataframe\">\n",
       "  <thead>\n",
       "    <tr style=\"text-align: right;\">\n",
       "      <th></th>\n",
       "      <th>question</th>\n",
       "      <th>total_conds_filtered</th>\n",
       "      <th>conn_pred</th>\n",
       "      <th>question_column</th>\n",
       "      <th>agg_pred</th>\n",
       "    </tr>\n",
       "  </thead>\n",
       "  <tbody>\n",
       "    <tr>\n",
       "      <th>0</th>\n",
       "      <td>投资评级为维持的公司有哪些？</td>\n",
       "      <td>[(投资评级, ==, 维持)]</td>\n",
       "      <td></td>\n",
       "      <td>公司</td>\n",
       "      <td></td>\n",
       "    </tr>\n",
       "  </tbody>\n",
       "</table>\n",
       "</div>"
      ],
      "text/plain": [
       "         question total_conds_filtered conn_pred question_column agg_pred\n",
       "0  投资评级为维持的公司有哪些？     [(投资评级, ==, 维持)]                        公司         "
      ]
     },
     "execution_count": 12,
     "metadata": {},
     "output_type": "execute_result"
    }
   ],
   "source": [
    "train_df[\"公司\"] = train_df[\"名称\"]\n",
    "question = \"投资评级为维持的公司有哪些？\"\n",
    "qs_df = pd.DataFrame([[question]], columns = [\"question\"])\n",
    "full_before_cat_decomp(train_df, qs_df, only_req_columns=True)"
   ]
  },
  {
   "cell_type": "code",
   "execution_count": 13,
   "id": "seventh-radius",
   "metadata": {},
   "outputs": [
    {
     "data": {
      "text/html": [
       "<div>\n",
       "<style scoped>\n",
       "    .dataframe tbody tr th:only-of-type {\n",
       "        vertical-align: middle;\n",
       "    }\n",
       "\n",
       "    .dataframe tbody tr th {\n",
       "        vertical-align: top;\n",
       "    }\n",
       "\n",
       "    .dataframe thead th {\n",
       "        text-align: right;\n",
       "    }\n",
       "</style>\n",
       "<table border=\"1\" class=\"dataframe\">\n",
       "  <thead>\n",
       "    <tr style=\"text-align: right;\">\n",
       "      <th></th>\n",
       "      <th>question</th>\n",
       "      <th>total_conds_filtered</th>\n",
       "      <th>conn_pred</th>\n",
       "      <th>question_column</th>\n",
       "      <th>agg_pred</th>\n",
       "    </tr>\n",
       "  </thead>\n",
       "  <tbody>\n",
       "    <tr>\n",
       "      <th>0</th>\n",
       "      <td>投资评级为维持而且变动为增持的公司有哪些？</td>\n",
       "      <td>[(变动, ==, 增持), (投资评级, ==, 维持)]</td>\n",
       "      <td>and</td>\n",
       "      <td>公司</td>\n",
       "      <td></td>\n",
       "    </tr>\n",
       "  </tbody>\n",
       "</table>\n",
       "</div>"
      ],
      "text/plain": [
       "                question            total_conds_filtered conn_pred  \\\n",
       "0  投资评级为维持而且变动为增持的公司有哪些？  [(变动, ==, 增持), (投资评级, ==, 维持)]       and   \n",
       "\n",
       "  question_column agg_pred  \n",
       "0              公司           "
      ]
     },
     "execution_count": 13,
     "metadata": {},
     "output_type": "execute_result"
    }
   ],
   "source": [
    "question = \"投资评级为维持而且变动为增持的公司有哪些？\"\n",
    "qs_df = pd.DataFrame([[question]], columns = [\"question\"])\n",
    "full_before_cat_decomp(train_df, qs_df, only_req_columns=True)"
   ]
  },
  {
   "cell_type": "code",
   "execution_count": 14,
   "id": "nominated-india",
   "metadata": {},
   "outputs": [
    {
     "data": {
      "text/html": [
       "<div>\n",
       "<style scoped>\n",
       "    .dataframe tbody tr th:only-of-type {\n",
       "        vertical-align: middle;\n",
       "    }\n",
       "\n",
       "    .dataframe tbody tr th {\n",
       "        vertical-align: top;\n",
       "    }\n",
       "\n",
       "    .dataframe thead th {\n",
       "        text-align: right;\n",
       "    }\n",
       "</style>\n",
       "<table border=\"1\" class=\"dataframe\">\n",
       "  <thead>\n",
       "    <tr style=\"text-align: right;\">\n",
       "      <th></th>\n",
       "      <th>question</th>\n",
       "      <th>total_conds_filtered</th>\n",
       "      <th>conn_pred</th>\n",
       "      <th>question_column</th>\n",
       "      <th>agg_pred</th>\n",
       "    </tr>\n",
       "  </thead>\n",
       "  <tbody>\n",
       "    <tr>\n",
       "      <th>0</th>\n",
       "      <td>投资评级为维持或者变动为增持的公司有哪些？</td>\n",
       "      <td>[(变动, ==, 增持), (投资评级, ==, 维持)]</td>\n",
       "      <td>or</td>\n",
       "      <td>公司</td>\n",
       "      <td></td>\n",
       "    </tr>\n",
       "  </tbody>\n",
       "</table>\n",
       "</div>"
      ],
      "text/plain": [
       "                question            total_conds_filtered conn_pred  \\\n",
       "0  投资评级为维持或者变动为增持的公司有哪些？  [(变动, ==, 增持), (投资评级, ==, 维持)]        or   \n",
       "\n",
       "  question_column agg_pred  \n",
       "0              公司           "
      ]
     },
     "execution_count": 14,
     "metadata": {},
     "output_type": "execute_result"
    }
   ],
   "source": [
    "question = \"投资评级为维持或者变动为增持的公司有哪些？\"\n",
    "qs_df = pd.DataFrame([[question]], columns = [\"question\"])\n",
    "full_before_cat_decomp(train_df, qs_df, only_req_columns=True)"
   ]
  },
  {
   "cell_type": "code",
   "execution_count": 15,
   "id": "laughing-professional",
   "metadata": {},
   "outputs": [
    {
     "data": {
      "text/html": [
       "<div>\n",
       "<style scoped>\n",
       "    .dataframe tbody tr th:only-of-type {\n",
       "        vertical-align: middle;\n",
       "    }\n",
       "\n",
       "    .dataframe tbody tr th {\n",
       "        vertical-align: top;\n",
       "    }\n",
       "\n",
       "    .dataframe thead th {\n",
       "        text-align: right;\n",
       "    }\n",
       "</style>\n",
       "<table border=\"1\" class=\"dataframe\">\n",
       "  <thead>\n",
       "    <tr style=\"text-align: right;\">\n",
       "      <th></th>\n",
       "      <th>question</th>\n",
       "      <th>total_conds_filtered</th>\n",
       "      <th>conn_pred</th>\n",
       "      <th>question_column</th>\n",
       "      <th>agg_pred</th>\n",
       "    </tr>\n",
       "  </thead>\n",
       "  <tbody>\n",
       "    <tr>\n",
       "      <th>0</th>\n",
       "      <td>投资评级为维持或者变动为增持的平均收盘价是多少？</td>\n",
       "      <td>[(变动, ==, 增持), (投资评级, ==, 维持)]</td>\n",
       "      <td>or</td>\n",
       "      <td>收盘价</td>\n",
       "      <td>AVG</td>\n",
       "    </tr>\n",
       "  </tbody>\n",
       "</table>\n",
       "</div>"
      ],
      "text/plain": [
       "                   question            total_conds_filtered conn_pred  \\\n",
       "0  投资评级为维持或者变动为增持的平均收盘价是多少？  [(变动, ==, 增持), (投资评级, ==, 维持)]        or   \n",
       "\n",
       "  question_column agg_pred  \n",
       "0             收盘价      AVG  "
      ]
     },
     "execution_count": 15,
     "metadata": {},
     "output_type": "execute_result"
    }
   ],
   "source": [
    "question = \"投资评级为维持或者变动为增持的平均收盘价是多少？\"\n",
    "qs_df = pd.DataFrame([[question]], columns = [\"question\"])\n",
    "full_before_cat_decomp(train_df, qs_df, only_req_columns=True)"
   ]
  },
  {
   "cell_type": "code",
   "execution_count": 16,
   "id": "choice-touch",
   "metadata": {},
   "outputs": [
    {
     "data": {
      "text/html": [
       "<div>\n",
       "<style scoped>\n",
       "    .dataframe tbody tr th:only-of-type {\n",
       "        vertical-align: middle;\n",
       "    }\n",
       "\n",
       "    .dataframe tbody tr th {\n",
       "        vertical-align: top;\n",
       "    }\n",
       "\n",
       "    .dataframe thead th {\n",
       "        text-align: right;\n",
       "    }\n",
       "</style>\n",
       "<table border=\"1\" class=\"dataframe\">\n",
       "  <thead>\n",
       "    <tr style=\"text-align: right;\">\n",
       "      <th></th>\n",
       "      <th>question</th>\n",
       "      <th>total_conds_filtered</th>\n",
       "      <th>conn_pred</th>\n",
       "      <th>question_column</th>\n",
       "      <th>agg_pred</th>\n",
       "    </tr>\n",
       "  </thead>\n",
       "  <tbody>\n",
       "    <tr>\n",
       "      <th>0</th>\n",
       "      <td>宁波的一手房每周交易数据上周成交量是多少？</td>\n",
       "      <td>[(一手房每周交易数据, ==, 宁波)]</td>\n",
       "      <td></td>\n",
       "      <td>一手房每周交易数据</td>\n",
       "      <td></td>\n",
       "    </tr>\n",
       "  </tbody>\n",
       "</table>\n",
       "</div>"
      ],
      "text/plain": [
       "                question   total_conds_filtered conn_pred question_column  \\\n",
       "0  宁波的一手房每周交易数据上周成交量是多少？  [(一手房每周交易数据, ==, 宁波)]                 一手房每周交易数据   \n",
       "\n",
       "  agg_pred  \n",
       "0           "
      ]
     },
     "execution_count": 16,
     "metadata": {},
     "output_type": "execute_result"
    }
   ],
   "source": [
    "train_df, _ = req[7]\n",
    "train_df\n",
    "question = \"宁波的一手房每周交易数据上周成交量是多少？\"\n",
    "qs_df = pd.DataFrame([[question]], columns = [\"question\"])\n",
    "full_before_cat_decomp(train_df, qs_df, only_req_columns=True)"
   ]
  },
  {
   "cell_type": "code",
   "execution_count": 17,
   "id": "focused-cruise",
   "metadata": {},
   "outputs": [
    {
     "data": {
      "text/html": [
       "<div>\n",
       "<style scoped>\n",
       "    .dataframe tbody tr th:only-of-type {\n",
       "        vertical-align: middle;\n",
       "    }\n",
       "\n",
       "    .dataframe tbody tr th {\n",
       "        vertical-align: top;\n",
       "    }\n",
       "\n",
       "    .dataframe thead th {\n",
       "        text-align: right;\n",
       "    }\n",
       "</style>\n",
       "<table border=\"1\" class=\"dataframe\">\n",
       "  <thead>\n",
       "    <tr style=\"text-align: right;\">\n",
       "      <th></th>\n",
       "      <th>question</th>\n",
       "      <th>total_conds_filtered</th>\n",
       "      <th>conn_pred</th>\n",
       "      <th>question_column</th>\n",
       "      <th>agg_pred</th>\n",
       "    </tr>\n",
       "  </thead>\n",
       "  <tbody>\n",
       "    <tr>\n",
       "      <th>0</th>\n",
       "      <td>一手房每周交易数据为宁波上周成交量是多少？</td>\n",
       "      <td>[]</td>\n",
       "      <td></td>\n",
       "      <td>一手房每周交易数据</td>\n",
       "      <td></td>\n",
       "    </tr>\n",
       "  </tbody>\n",
       "</table>\n",
       "</div>"
      ],
      "text/plain": [
       "                question total_conds_filtered conn_pred question_column  \\\n",
       "0  一手房每周交易数据为宁波上周成交量是多少？                   []                 一手房每周交易数据   \n",
       "\n",
       "  agg_pred  \n",
       "0           "
      ]
     },
     "execution_count": 17,
     "metadata": {},
     "output_type": "execute_result"
    }
   ],
   "source": [
    "question = \"一手房每周交易数据为宁波上周成交量是多少？\"\n",
    "qs_df = pd.DataFrame([[question]], columns = [\"question\"])\n",
    "full_before_cat_decomp(train_df, qs_df, only_req_columns=True)"
   ]
  },
  {
   "cell_type": "code",
   "execution_count": 18,
   "id": "accepted-recall",
   "metadata": {},
   "outputs": [
    {
     "data": {
      "text/html": [
       "<div>\n",
       "<style scoped>\n",
       "    .dataframe tbody tr th:only-of-type {\n",
       "        vertical-align: middle;\n",
       "    }\n",
       "\n",
       "    .dataframe tbody tr th {\n",
       "        vertical-align: top;\n",
       "    }\n",
       "\n",
       "    .dataframe thead th {\n",
       "        text-align: right;\n",
       "    }\n",
       "</style>\n",
       "<table border=\"1\" class=\"dataframe\">\n",
       "  <thead>\n",
       "    <tr style=\"text-align: right;\">\n",
       "      <th></th>\n",
       "      <th>question</th>\n",
       "      <th>total_conds_filtered</th>\n",
       "      <th>conn_pred</th>\n",
       "      <th>question_column</th>\n",
       "      <th>agg_pred</th>\n",
       "    </tr>\n",
       "  </thead>\n",
       "  <tbody>\n",
       "    <tr>\n",
       "      <th>0</th>\n",
       "      <td>一手房每周交易数据为宁波上周成交量是多少？</td>\n",
       "      <td>[(城市, ==, 宁波)]</td>\n",
       "      <td></td>\n",
       "      <td>一手房每周交易数据</td>\n",
       "      <td></td>\n",
       "    </tr>\n",
       "  </tbody>\n",
       "</table>\n",
       "</div>"
      ],
      "text/plain": [
       "                question total_conds_filtered conn_pred question_column  \\\n",
       "0  一手房每周交易数据为宁波上周成交量是多少？       [(城市, ==, 宁波)]                 一手房每周交易数据   \n",
       "\n",
       "  agg_pred  \n",
       "0           "
      ]
     },
     "execution_count": 18,
     "metadata": {},
     "output_type": "execute_result"
    }
   ],
   "source": [
    "#### this also can deal with set column as use kw to extract\n",
    "### see function augment_kw_in_question\n",
    "train_df[\"城市\"] = train_df[\"一手房每周交易数据\"]\n",
    "question = \"一手房每周交易数据为宁波上周成交量是多少？\"\n",
    "qs_df = pd.DataFrame([[question]], columns = [\"question\"])\n",
    "full_before_cat_decomp(train_df, qs_df, only_req_columns=True)"
   ]
  },
  {
   "cell_type": "code",
   "execution_count": 19,
   "id": "legendary-rally",
   "metadata": {},
   "outputs": [
    {
     "data": {
      "text/html": [
       "<div>\n",
       "<style scoped>\n",
       "    .dataframe tbody tr th:only-of-type {\n",
       "        vertical-align: middle;\n",
       "    }\n",
       "\n",
       "    .dataframe tbody tr th {\n",
       "        vertical-align: top;\n",
       "    }\n",
       "\n",
       "    .dataframe thead th {\n",
       "        text-align: right;\n",
       "    }\n",
       "</style>\n",
       "<table border=\"1\" class=\"dataframe\">\n",
       "  <thead>\n",
       "    <tr style=\"text-align: right;\">\n",
       "      <th></th>\n",
       "      <th>question</th>\n",
       "      <th>total_conds_filtered</th>\n",
       "      <th>conn_pred</th>\n",
       "      <th>question_column</th>\n",
       "      <th>agg_pred</th>\n",
       "    </tr>\n",
       "  </thead>\n",
       "  <tbody>\n",
       "    <tr>\n",
       "      <th>0</th>\n",
       "      <td>王翔知道宁波一手房的当月累计成交量是多少吗？</td>\n",
       "      <td>[(城市, ==, 宁波)]</td>\n",
       "      <td></td>\n",
       "      <td>当月累计成交量（万平米）</td>\n",
       "      <td></td>\n",
       "    </tr>\n",
       "  </tbody>\n",
       "</table>\n",
       "</div>"
      ],
      "text/plain": [
       "                 question total_conds_filtered conn_pred question_column  \\\n",
       "0  王翔知道宁波一手房的当月累计成交量是多少吗？       [(城市, ==, 宁波)]              当月累计成交量（万平米）   \n",
       "\n",
       "  agg_pred  \n",
       "0           "
      ]
     },
     "execution_count": 19,
     "metadata": {},
     "output_type": "execute_result"
    }
   ],
   "source": [
    "question = \"王翔知道宁波一手房的当月累计成交量是多少吗？\"\n",
    "qs_df = pd.DataFrame([[question]], columns = [\"question\"])\n",
    "full_before_cat_decomp(train_df, qs_df, only_req_columns=True)"
   ]
  },
  {
   "cell_type": "code",
   "execution_count": 20,
   "id": "natural-statement",
   "metadata": {},
   "outputs": [
    {
     "data": {
      "text/html": [
       "<div>\n",
       "<style scoped>\n",
       "    .dataframe tbody tr th:only-of-type {\n",
       "        vertical-align: middle;\n",
       "    }\n",
       "\n",
       "    .dataframe tbody tr th {\n",
       "        vertical-align: top;\n",
       "    }\n",
       "\n",
       "    .dataframe thead th {\n",
       "        text-align: right;\n",
       "    }\n",
       "</style>\n",
       "<table border=\"1\" class=\"dataframe\">\n",
       "  <thead>\n",
       "    <tr style=\"text-align: right;\">\n",
       "      <th></th>\n",
       "      <th>question</th>\n",
       "      <th>total_conds_filtered</th>\n",
       "      <th>conn_pred</th>\n",
       "      <th>question_column</th>\n",
       "      <th>agg_pred</th>\n",
       "    </tr>\n",
       "  </thead>\n",
       "  <tbody>\n",
       "    <tr>\n",
       "      <th>0</th>\n",
       "      <td>王翔知道上周成交量大于50的最大同比当月是多少吗？</td>\n",
       "      <td>[(上周成交量（万平米）, &gt;, 50)]</td>\n",
       "      <td></td>\n",
       "      <td>同比当月（%）</td>\n",
       "      <td>MAX</td>\n",
       "    </tr>\n",
       "  </tbody>\n",
       "</table>\n",
       "</div>"
      ],
      "text/plain": [
       "                    question   total_conds_filtered conn_pred question_column  \\\n",
       "0  王翔知道上周成交量大于50的最大同比当月是多少吗？  [(上周成交量（万平米）, >, 50)]                   同比当月（%）   \n",
       "\n",
       "  agg_pred  \n",
       "0      MAX  "
      ]
     },
     "execution_count": 20,
     "metadata": {},
     "output_type": "execute_result"
    }
   ],
   "source": [
    "question = \"王翔知道上周成交量大于50的最大同比当月是多少吗？\"\n",
    "qs_df = pd.DataFrame([[question]], columns = [\"question\"])\n",
    "full_before_cat_decomp(train_df, qs_df, only_req_columns=True)"
   ]
  },
  {
   "cell_type": "code",
   "execution_count": 21,
   "id": "pending-expansion",
   "metadata": {},
   "outputs": [
    {
     "data": {
      "text/html": [
       "<div>\n",
       "<style scoped>\n",
       "    .dataframe tbody tr th:only-of-type {\n",
       "        vertical-align: middle;\n",
       "    }\n",
       "\n",
       "    .dataframe tbody tr th {\n",
       "        vertical-align: top;\n",
       "    }\n",
       "\n",
       "    .dataframe thead th {\n",
       "        text-align: right;\n",
       "    }\n",
       "</style>\n",
       "<table border=\"1\" class=\"dataframe\">\n",
       "  <thead>\n",
       "    <tr style=\"text-align: right;\">\n",
       "      <th></th>\n",
       "      <th>question</th>\n",
       "      <th>total_conds_filtered</th>\n",
       "      <th>conn_pred</th>\n",
       "      <th>question_column</th>\n",
       "      <th>agg_pred</th>\n",
       "    </tr>\n",
       "  </thead>\n",
       "  <tbody>\n",
       "    <tr>\n",
       "      <th>0</th>\n",
       "      <td>周涨幅大于7的涨股有哪些？</td>\n",
       "      <td>[(周涨幅（%）, &gt;, 7)]</td>\n",
       "      <td></td>\n",
       "      <td>涨股名称</td>\n",
       "      <td></td>\n",
       "    </tr>\n",
       "  </tbody>\n",
       "</table>\n",
       "</div>"
      ],
      "text/plain": [
       "        question total_conds_filtered conn_pred question_column agg_pred\n",
       "0  周涨幅大于7的涨股有哪些？     [(周涨幅（%）, >, 7)]                      涨股名称         "
      ]
     },
     "execution_count": 21,
     "metadata": {},
     "output_type": "execute_result"
    }
   ],
   "source": [
    "train_df, _ = req[9]\n",
    "#### the last column should be \"周跌幅\", can't tackle duplicates columns\n",
    "train_df\n",
    "cols = train_df.columns.tolist()\n",
    "cols[-1] = \"周跌幅（%）\"\n",
    "train_df.columns = cols\n",
    "question = \"周涨幅大于7的涨股有哪些？\"\n",
    "qs_df = pd.DataFrame([[question]], columns = [\"question\"])\n",
    "full_before_cat_decomp(train_df, qs_df, only_req_columns=True)"
   ]
  },
  {
   "cell_type": "code",
   "execution_count": 22,
   "id": "identified-escape",
   "metadata": {},
   "outputs": [
    {
     "data": {
      "text/html": [
       "<div>\n",
       "<style scoped>\n",
       "    .dataframe tbody tr th:only-of-type {\n",
       "        vertical-align: middle;\n",
       "    }\n",
       "\n",
       "    .dataframe tbody tr th {\n",
       "        vertical-align: top;\n",
       "    }\n",
       "\n",
       "    .dataframe thead th {\n",
       "        text-align: right;\n",
       "    }\n",
       "</style>\n",
       "<table border=\"1\" class=\"dataframe\">\n",
       "  <thead>\n",
       "    <tr style=\"text-align: right;\">\n",
       "      <th></th>\n",
       "      <th>question</th>\n",
       "      <th>total_conds_filtered</th>\n",
       "      <th>conn_pred</th>\n",
       "      <th>question_column</th>\n",
       "      <th>agg_pred</th>\n",
       "    </tr>\n",
       "  </thead>\n",
       "  <tbody>\n",
       "    <tr>\n",
       "      <th>0</th>\n",
       "      <td>周涨幅大于7的涨股总数是多少？</td>\n",
       "      <td>[(周涨幅（%）, &gt;, 7)]</td>\n",
       "      <td></td>\n",
       "      <td>涨股名称</td>\n",
       "      <td>COUNT</td>\n",
       "    </tr>\n",
       "  </tbody>\n",
       "</table>\n",
       "</div>"
      ],
      "text/plain": [
       "          question total_conds_filtered conn_pred question_column agg_pred\n",
       "0  周涨幅大于7的涨股总数是多少？     [(周涨幅（%）, >, 7)]                      涨股名称    COUNT"
      ]
     },
     "execution_count": 22,
     "metadata": {},
     "output_type": "execute_result"
    }
   ],
   "source": [
    "#### not recognize as 6 agg-classifier\n",
    "question = \"周涨幅大于7的涨股总数是多少？\"\n",
    "qs_df = pd.DataFrame([[question]], columns = [\"question\"])\n",
    "full_before_cat_decomp(train_df, qs_df, only_req_columns=True)"
   ]
  },
  {
   "cell_type": "code",
   "execution_count": 23,
   "id": "serial-interface",
   "metadata": {},
   "outputs": [
    {
     "data": {
      "text/html": [
       "<div>\n",
       "<style scoped>\n",
       "    .dataframe tbody tr th:only-of-type {\n",
       "        vertical-align: middle;\n",
       "    }\n",
       "\n",
       "    .dataframe tbody tr th {\n",
       "        vertical-align: top;\n",
       "    }\n",
       "\n",
       "    .dataframe thead th {\n",
       "        text-align: right;\n",
       "    }\n",
       "</style>\n",
       "<table border=\"1\" class=\"dataframe\">\n",
       "  <thead>\n",
       "    <tr style=\"text-align: right;\">\n",
       "      <th></th>\n",
       "      <th>question</th>\n",
       "      <th>total_conds_filtered</th>\n",
       "      <th>conn_pred</th>\n",
       "      <th>question_column</th>\n",
       "      <th>agg_pred</th>\n",
       "    </tr>\n",
       "  </thead>\n",
       "  <tbody>\n",
       "    <tr>\n",
       "      <th>0</th>\n",
       "      <td>周涨幅大于7的涨股总共有多少个？</td>\n",
       "      <td>[(周涨幅（%）, &gt;, 7)]</td>\n",
       "      <td></td>\n",
       "      <td>涨股名称</td>\n",
       "      <td>COUNT</td>\n",
       "    </tr>\n",
       "  </tbody>\n",
       "</table>\n",
       "</div>"
      ],
      "text/plain": [
       "           question total_conds_filtered conn_pred question_column agg_pred\n",
       "0  周涨幅大于7的涨股总共有多少个？     [(周涨幅（%）, >, 7)]                      涨股名称    COUNT"
      ]
     },
     "execution_count": 23,
     "metadata": {},
     "output_type": "execute_result"
    }
   ],
   "source": [
    "question = \"周涨幅大于7的涨股总共有多少个？\"\n",
    "qs_df = pd.DataFrame([[question]], columns = [\"question\"])\n",
    "full_before_cat_decomp(train_df, qs_df, only_req_columns=True)"
   ]
  },
  {
   "cell_type": "code",
   "execution_count": null,
   "id": "sticky-leadership",
   "metadata": {},
   "outputs": [],
   "source": []
  }
 ],
 "metadata": {
  "kernelspec": {
   "display_name": "base",
   "language": "python",
   "name": "base"
  },
  "language_info": {
   "codemirror_mode": {
    "name": "ipython",
    "version": 3
   },
   "file_extension": ".py",
   "mimetype": "text/x-python",
   "name": "python",
   "nbconvert_exporter": "python",
   "pygments_lexer": "ipython3",
   "version": "3.7.4"
  }
 },
 "nbformat": 4,
 "nbformat_minor": 5
}
